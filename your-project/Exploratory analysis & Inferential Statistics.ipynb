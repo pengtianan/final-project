{
 "cells": [
  {
   "cell_type": "code",
   "execution_count": 529,
   "metadata": {},
   "outputs": [],
   "source": [
    "#importing libraries\n",
    "import pandas as pd\n",
    "import numpy as np\n",
    "import seaborn as sns; sns.set()\n",
    "import matplotlib.pyplot as plt\n",
    "pd.set_option('max_columns', 150)"
   ]
  },
  {
   "cell_type": "code",
   "execution_count": 2,
   "metadata": {},
   "outputs": [],
   "source": [
    "ds = pd.read_csv(\"C:/Users/tvpia/Desktop/Final project/final-project/your-project/Datasets/ds_explore.csv\")"
   ]
  },
  {
   "cell_type": "code",
   "execution_count": 3,
   "metadata": {},
   "outputs": [
    {
     "data": {
      "text/html": [
       "<div>\n",
       "<style scoped>\n",
       "    .dataframe tbody tr th:only-of-type {\n",
       "        vertical-align: middle;\n",
       "    }\n",
       "\n",
       "    .dataframe tbody tr th {\n",
       "        vertical-align: top;\n",
       "    }\n",
       "\n",
       "    .dataframe thead th {\n",
       "        text-align: right;\n",
       "    }\n",
       "</style>\n",
       "<table border=\"1\" class=\"dataframe\">\n",
       "  <thead>\n",
       "    <tr style=\"text-align: right;\">\n",
       "      <th></th>\n",
       "      <th>Unnamed: 0</th>\n",
       "      <th>HSNS1</th>\n",
       "      <th>HSNS2</th>\n",
       "      <th>HSNS3</th>\n",
       "      <th>HSNS4</th>\n",
       "      <th>HSNS5</th>\n",
       "      <th>HSNS6</th>\n",
       "      <th>HSNS7</th>\n",
       "      <th>HSNS8</th>\n",
       "      <th>HSNS9</th>\n",
       "      <th>HSNS10</th>\n",
       "      <th>DDP1</th>\n",
       "      <th>DDP2</th>\n",
       "      <th>DDP3</th>\n",
       "      <th>DDP4</th>\n",
       "      <th>DDN1</th>\n",
       "      <th>DDN2</th>\n",
       "      <th>DDN3</th>\n",
       "      <th>DDN4</th>\n",
       "      <th>DDM1</th>\n",
       "      <th>DDM2</th>\n",
       "      <th>DDM3</th>\n",
       "      <th>DDM4</th>\n",
       "      <th>age</th>\n",
       "      <th>gender</th>\n",
       "      <th>accuracy</th>\n",
       "      <th>country</th>\n",
       "      <th>HSNScale</th>\n",
       "      <th>HSNS1_flag</th>\n",
       "      <th>HSNS2_flag</th>\n",
       "      <th>HSNS3_flag</th>\n",
       "      <th>HSNS4_flag</th>\n",
       "      <th>HSNS5_flag</th>\n",
       "      <th>HSNS6_flag</th>\n",
       "      <th>HSNS7_flag</th>\n",
       "      <th>HSNS8_flag</th>\n",
       "      <th>HSNS9_flag</th>\n",
       "      <th>HSNS10_flag</th>\n",
       "      <th>DDP1_flag</th>\n",
       "      <th>DDP2_flag</th>\n",
       "      <th>DDP3_flag</th>\n",
       "      <th>DDP4_flag</th>\n",
       "      <th>DDN1_flag</th>\n",
       "      <th>DDN2_flag</th>\n",
       "      <th>DDN3_flag</th>\n",
       "      <th>DDN4_flag</th>\n",
       "      <th>DDM1_flag</th>\n",
       "      <th>DDM2_flag</th>\n",
       "      <th>DDM3_flag</th>\n",
       "      <th>DDM4_flag</th>\n",
       "      <th>label_psy_only</th>\n",
       "      <th>label_all_features</th>\n",
       "    </tr>\n",
       "  </thead>\n",
       "  <tbody>\n",
       "    <tr>\n",
       "      <td>0</td>\n",
       "      <td>0</td>\n",
       "      <td>2</td>\n",
       "      <td>4</td>\n",
       "      <td>5</td>\n",
       "      <td>1</td>\n",
       "      <td>4</td>\n",
       "      <td>5</td>\n",
       "      <td>4</td>\n",
       "      <td>3</td>\n",
       "      <td>3</td>\n",
       "      <td>2</td>\n",
       "      <td>1</td>\n",
       "      <td>1</td>\n",
       "      <td>4</td>\n",
       "      <td>4</td>\n",
       "      <td>2</td>\n",
       "      <td>1</td>\n",
       "      <td>1</td>\n",
       "      <td>1</td>\n",
       "      <td>1</td>\n",
       "      <td>2</td>\n",
       "      <td>2</td>\n",
       "      <td>1</td>\n",
       "      <td>37</td>\n",
       "      <td>2</td>\n",
       "      <td>98</td>\n",
       "      <td>PT</td>\n",
       "      <td>0.62</td>\n",
       "      <td>0</td>\n",
       "      <td>0</td>\n",
       "      <td>0</td>\n",
       "      <td>0</td>\n",
       "      <td>0</td>\n",
       "      <td>0</td>\n",
       "      <td>0</td>\n",
       "      <td>0</td>\n",
       "      <td>0</td>\n",
       "      <td>0</td>\n",
       "      <td>0</td>\n",
       "      <td>0</td>\n",
       "      <td>0</td>\n",
       "      <td>0</td>\n",
       "      <td>0</td>\n",
       "      <td>0</td>\n",
       "      <td>0</td>\n",
       "      <td>0</td>\n",
       "      <td>0</td>\n",
       "      <td>0</td>\n",
       "      <td>0</td>\n",
       "      <td>0</td>\n",
       "      <td>2</td>\n",
       "      <td>2</td>\n",
       "    </tr>\n",
       "    <tr>\n",
       "      <td>1</td>\n",
       "      <td>1</td>\n",
       "      <td>4</td>\n",
       "      <td>2</td>\n",
       "      <td>2</td>\n",
       "      <td>4</td>\n",
       "      <td>3</td>\n",
       "      <td>4</td>\n",
       "      <td>4</td>\n",
       "      <td>5</td>\n",
       "      <td>4</td>\n",
       "      <td>3</td>\n",
       "      <td>4</td>\n",
       "      <td>4</td>\n",
       "      <td>2</td>\n",
       "      <td>4</td>\n",
       "      <td>3</td>\n",
       "      <td>2</td>\n",
       "      <td>2</td>\n",
       "      <td>3</td>\n",
       "      <td>4</td>\n",
       "      <td>4</td>\n",
       "      <td>4</td>\n",
       "      <td>3</td>\n",
       "      <td>34</td>\n",
       "      <td>3</td>\n",
       "      <td>95</td>\n",
       "      <td>PL</td>\n",
       "      <td>0.64</td>\n",
       "      <td>0</td>\n",
       "      <td>0</td>\n",
       "      <td>0</td>\n",
       "      <td>0</td>\n",
       "      <td>0</td>\n",
       "      <td>0</td>\n",
       "      <td>0</td>\n",
       "      <td>0</td>\n",
       "      <td>0</td>\n",
       "      <td>0</td>\n",
       "      <td>0</td>\n",
       "      <td>0</td>\n",
       "      <td>0</td>\n",
       "      <td>0</td>\n",
       "      <td>0</td>\n",
       "      <td>0</td>\n",
       "      <td>0</td>\n",
       "      <td>0</td>\n",
       "      <td>0</td>\n",
       "      <td>0</td>\n",
       "      <td>0</td>\n",
       "      <td>0</td>\n",
       "      <td>0</td>\n",
       "      <td>1</td>\n",
       "    </tr>\n",
       "    <tr>\n",
       "      <td>2</td>\n",
       "      <td>2</td>\n",
       "      <td>5</td>\n",
       "      <td>5</td>\n",
       "      <td>5</td>\n",
       "      <td>4</td>\n",
       "      <td>2</td>\n",
       "      <td>5</td>\n",
       "      <td>5</td>\n",
       "      <td>4</td>\n",
       "      <td>4</td>\n",
       "      <td>2</td>\n",
       "      <td>2</td>\n",
       "      <td>2</td>\n",
       "      <td>2</td>\n",
       "      <td>4</td>\n",
       "      <td>4</td>\n",
       "      <td>2</td>\n",
       "      <td>4</td>\n",
       "      <td>3</td>\n",
       "      <td>3</td>\n",
       "      <td>4</td>\n",
       "      <td>4</td>\n",
       "      <td>2</td>\n",
       "      <td>22</td>\n",
       "      <td>2</td>\n",
       "      <td>80</td>\n",
       "      <td>AU</td>\n",
       "      <td>0.78</td>\n",
       "      <td>0</td>\n",
       "      <td>0</td>\n",
       "      <td>0</td>\n",
       "      <td>0</td>\n",
       "      <td>0</td>\n",
       "      <td>0</td>\n",
       "      <td>0</td>\n",
       "      <td>0</td>\n",
       "      <td>0</td>\n",
       "      <td>0</td>\n",
       "      <td>0</td>\n",
       "      <td>0</td>\n",
       "      <td>0</td>\n",
       "      <td>0</td>\n",
       "      <td>0</td>\n",
       "      <td>0</td>\n",
       "      <td>0</td>\n",
       "      <td>0</td>\n",
       "      <td>0</td>\n",
       "      <td>0</td>\n",
       "      <td>0</td>\n",
       "      <td>0</td>\n",
       "      <td>3</td>\n",
       "      <td>0</td>\n",
       "    </tr>\n",
       "    <tr>\n",
       "      <td>3</td>\n",
       "      <td>3</td>\n",
       "      <td>4</td>\n",
       "      <td>1</td>\n",
       "      <td>2</td>\n",
       "      <td>2</td>\n",
       "      <td>4</td>\n",
       "      <td>5</td>\n",
       "      <td>2</td>\n",
       "      <td>2</td>\n",
       "      <td>5</td>\n",
       "      <td>2</td>\n",
       "      <td>4</td>\n",
       "      <td>2</td>\n",
       "      <td>4</td>\n",
       "      <td>0</td>\n",
       "      <td>5</td>\n",
       "      <td>5</td>\n",
       "      <td>4</td>\n",
       "      <td>1</td>\n",
       "      <td>4</td>\n",
       "      <td>2</td>\n",
       "      <td>3</td>\n",
       "      <td>4</td>\n",
       "      <td>24</td>\n",
       "      <td>1</td>\n",
       "      <td>99</td>\n",
       "      <td>US</td>\n",
       "      <td>0.54</td>\n",
       "      <td>0</td>\n",
       "      <td>0</td>\n",
       "      <td>0</td>\n",
       "      <td>0</td>\n",
       "      <td>0</td>\n",
       "      <td>0</td>\n",
       "      <td>0</td>\n",
       "      <td>0</td>\n",
       "      <td>0</td>\n",
       "      <td>0</td>\n",
       "      <td>0</td>\n",
       "      <td>0</td>\n",
       "      <td>0</td>\n",
       "      <td>1</td>\n",
       "      <td>0</td>\n",
       "      <td>0</td>\n",
       "      <td>0</td>\n",
       "      <td>0</td>\n",
       "      <td>0</td>\n",
       "      <td>0</td>\n",
       "      <td>0</td>\n",
       "      <td>0</td>\n",
       "      <td>0</td>\n",
       "      <td>1</td>\n",
       "    </tr>\n",
       "    <tr>\n",
       "      <td>4</td>\n",
       "      <td>4</td>\n",
       "      <td>5</td>\n",
       "      <td>3</td>\n",
       "      <td>4</td>\n",
       "      <td>5</td>\n",
       "      <td>5</td>\n",
       "      <td>5</td>\n",
       "      <td>4</td>\n",
       "      <td>5</td>\n",
       "      <td>4</td>\n",
       "      <td>3</td>\n",
       "      <td>4</td>\n",
       "      <td>3</td>\n",
       "      <td>4</td>\n",
       "      <td>4</td>\n",
       "      <td>4</td>\n",
       "      <td>2</td>\n",
       "      <td>5</td>\n",
       "      <td>2</td>\n",
       "      <td>4</td>\n",
       "      <td>4</td>\n",
       "      <td>1</td>\n",
       "      <td>5</td>\n",
       "      <td>21</td>\n",
       "      <td>2</td>\n",
       "      <td>90</td>\n",
       "      <td>US</td>\n",
       "      <td>0.80</td>\n",
       "      <td>0</td>\n",
       "      <td>0</td>\n",
       "      <td>0</td>\n",
       "      <td>0</td>\n",
       "      <td>0</td>\n",
       "      <td>0</td>\n",
       "      <td>0</td>\n",
       "      <td>0</td>\n",
       "      <td>0</td>\n",
       "      <td>0</td>\n",
       "      <td>0</td>\n",
       "      <td>0</td>\n",
       "      <td>0</td>\n",
       "      <td>0</td>\n",
       "      <td>0</td>\n",
       "      <td>0</td>\n",
       "      <td>0</td>\n",
       "      <td>0</td>\n",
       "      <td>0</td>\n",
       "      <td>0</td>\n",
       "      <td>0</td>\n",
       "      <td>0</td>\n",
       "      <td>4</td>\n",
       "      <td>4</td>\n",
       "    </tr>\n",
       "  </tbody>\n",
       "</table>\n",
       "</div>"
      ],
      "text/plain": [
       "   Unnamed: 0  HSNS1  HSNS2  HSNS3  HSNS4  HSNS5  HSNS6  HSNS7  HSNS8  HSNS9  \\\n",
       "0           0      2      4      5      1      4      5      4      3      3   \n",
       "1           1      4      2      2      4      3      4      4      5      4   \n",
       "2           2      5      5      5      4      2      5      5      4      4   \n",
       "3           3      4      1      2      2      4      5      2      2      5   \n",
       "4           4      5      3      4      5      5      5      4      5      4   \n",
       "\n",
       "   HSNS10  DDP1  DDP2  DDP3  DDP4  DDN1  DDN2  DDN3  DDN4  DDM1  DDM2  DDM3  \\\n",
       "0       2     1     1     4     4     2     1     1     1     1     2     2   \n",
       "1       3     4     4     2     4     3     2     2     3     4     4     4   \n",
       "2       2     2     2     2     4     4     2     4     3     3     4     4   \n",
       "3       2     4     2     4     0     5     5     4     1     4     2     3   \n",
       "4       3     4     3     4     4     4     2     5     2     4     4     1   \n",
       "\n",
       "   DDM4  age  gender  accuracy country  HSNScale  HSNS1_flag  HSNS2_flag  \\\n",
       "0     1   37       2        98      PT      0.62           0           0   \n",
       "1     3   34       3        95      PL      0.64           0           0   \n",
       "2     2   22       2        80      AU      0.78           0           0   \n",
       "3     4   24       1        99      US      0.54           0           0   \n",
       "4     5   21       2        90      US      0.80           0           0   \n",
       "\n",
       "   HSNS3_flag  HSNS4_flag  HSNS5_flag  HSNS6_flag  HSNS7_flag  HSNS8_flag  \\\n",
       "0           0           0           0           0           0           0   \n",
       "1           0           0           0           0           0           0   \n",
       "2           0           0           0           0           0           0   \n",
       "3           0           0           0           0           0           0   \n",
       "4           0           0           0           0           0           0   \n",
       "\n",
       "   HSNS9_flag  HSNS10_flag  DDP1_flag  DDP2_flag  DDP3_flag  DDP4_flag  \\\n",
       "0           0            0          0          0          0          0   \n",
       "1           0            0          0          0          0          0   \n",
       "2           0            0          0          0          0          0   \n",
       "3           0            0          0          0          0          1   \n",
       "4           0            0          0          0          0          0   \n",
       "\n",
       "   DDN1_flag  DDN2_flag  DDN3_flag  DDN4_flag  DDM1_flag  DDM2_flag  \\\n",
       "0          0          0          0          0          0          0   \n",
       "1          0          0          0          0          0          0   \n",
       "2          0          0          0          0          0          0   \n",
       "3          0          0          0          0          0          0   \n",
       "4          0          0          0          0          0          0   \n",
       "\n",
       "   DDM3_flag  DDM4_flag  label_psy_only  label_all_features  \n",
       "0          0          0               2                   2  \n",
       "1          0          0               0                   1  \n",
       "2          0          0               3                   0  \n",
       "3          0          0               0                   1  \n",
       "4          0          0               4                   4  "
      ]
     },
     "execution_count": 3,
     "metadata": {},
     "output_type": "execute_result"
    }
   ],
   "source": [
    "ds.head(5)"
   ]
  },
  {
   "cell_type": "markdown",
   "metadata": {},
   "source": [
    "Quick pre-exploration cleaning : remove unnamed colum, add the test results for the 3 tests included in the dirty triad test and remove the flagged columns."
   ]
  },
  {
   "cell_type": "code",
   "execution_count": 4,
   "metadata": {},
   "outputs": [],
   "source": [
    "ds.drop(columns=\"Unnamed: 0\",inplace=True)"
   ]
  },
  {
   "cell_type": "code",
   "execution_count": 5,
   "metadata": {},
   "outputs": [],
   "source": [
    "ds[\"DDPScale\"]= round(ds.iloc[:,10:14].sum(axis=1)*5/100,2)\n",
    "ds[\"DDNScale\"]= round(ds.iloc[:,14:18].sum(axis=1)*5/100,2)\n",
    "ds[\"DDMScale\"]= round(ds.iloc[:,18:22].sum(axis=1)*5/100,2)"
   ]
  },
  {
   "cell_type": "code",
   "execution_count": 6,
   "metadata": {},
   "outputs": [
    {
     "data": {
      "text/html": [
       "<div>\n",
       "<style scoped>\n",
       "    .dataframe tbody tr th:only-of-type {\n",
       "        vertical-align: middle;\n",
       "    }\n",
       "\n",
       "    .dataframe tbody tr th {\n",
       "        vertical-align: top;\n",
       "    }\n",
       "\n",
       "    .dataframe thead th {\n",
       "        text-align: right;\n",
       "    }\n",
       "</style>\n",
       "<table border=\"1\" class=\"dataframe\">\n",
       "  <thead>\n",
       "    <tr style=\"text-align: right;\">\n",
       "      <th></th>\n",
       "      <th>HSNS1</th>\n",
       "      <th>HSNS2</th>\n",
       "      <th>HSNS3</th>\n",
       "      <th>HSNS4</th>\n",
       "      <th>HSNS5</th>\n",
       "      <th>HSNS6</th>\n",
       "      <th>HSNS7</th>\n",
       "      <th>HSNS8</th>\n",
       "      <th>HSNS9</th>\n",
       "      <th>HSNS10</th>\n",
       "      <th>DDP1</th>\n",
       "      <th>DDP2</th>\n",
       "      <th>DDP3</th>\n",
       "      <th>DDP4</th>\n",
       "      <th>DDN1</th>\n",
       "      <th>DDN2</th>\n",
       "      <th>DDN3</th>\n",
       "      <th>DDN4</th>\n",
       "      <th>DDM1</th>\n",
       "      <th>DDM2</th>\n",
       "      <th>DDM3</th>\n",
       "      <th>DDM4</th>\n",
       "      <th>age</th>\n",
       "      <th>gender</th>\n",
       "      <th>accuracy</th>\n",
       "      <th>country</th>\n",
       "      <th>HSNScale</th>\n",
       "      <th>HSNS1_flag</th>\n",
       "      <th>HSNS2_flag</th>\n",
       "      <th>HSNS3_flag</th>\n",
       "      <th>HSNS4_flag</th>\n",
       "      <th>HSNS5_flag</th>\n",
       "      <th>HSNS6_flag</th>\n",
       "      <th>HSNS7_flag</th>\n",
       "      <th>HSNS8_flag</th>\n",
       "      <th>HSNS9_flag</th>\n",
       "      <th>HSNS10_flag</th>\n",
       "      <th>DDP1_flag</th>\n",
       "      <th>DDP2_flag</th>\n",
       "      <th>DDP3_flag</th>\n",
       "      <th>DDP4_flag</th>\n",
       "      <th>DDN1_flag</th>\n",
       "      <th>DDN2_flag</th>\n",
       "      <th>DDN3_flag</th>\n",
       "      <th>DDN4_flag</th>\n",
       "      <th>DDM1_flag</th>\n",
       "      <th>DDM2_flag</th>\n",
       "      <th>DDM3_flag</th>\n",
       "      <th>DDM4_flag</th>\n",
       "      <th>label_psy_only</th>\n",
       "      <th>label_all_features</th>\n",
       "      <th>DDPScale</th>\n",
       "      <th>DDNScale</th>\n",
       "      <th>DDMScale</th>\n",
       "    </tr>\n",
       "  </thead>\n",
       "  <tbody>\n",
       "    <tr>\n",
       "      <td>0</td>\n",
       "      <td>2</td>\n",
       "      <td>4</td>\n",
       "      <td>5</td>\n",
       "      <td>1</td>\n",
       "      <td>4</td>\n",
       "      <td>5</td>\n",
       "      <td>4</td>\n",
       "      <td>3</td>\n",
       "      <td>3</td>\n",
       "      <td>2</td>\n",
       "      <td>1</td>\n",
       "      <td>1</td>\n",
       "      <td>4</td>\n",
       "      <td>4</td>\n",
       "      <td>2</td>\n",
       "      <td>1</td>\n",
       "      <td>1</td>\n",
       "      <td>1</td>\n",
       "      <td>1</td>\n",
       "      <td>2</td>\n",
       "      <td>2</td>\n",
       "      <td>1</td>\n",
       "      <td>37</td>\n",
       "      <td>2</td>\n",
       "      <td>98</td>\n",
       "      <td>PT</td>\n",
       "      <td>0.62</td>\n",
       "      <td>0</td>\n",
       "      <td>0</td>\n",
       "      <td>0</td>\n",
       "      <td>0</td>\n",
       "      <td>0</td>\n",
       "      <td>0</td>\n",
       "      <td>0</td>\n",
       "      <td>0</td>\n",
       "      <td>0</td>\n",
       "      <td>0</td>\n",
       "      <td>0</td>\n",
       "      <td>0</td>\n",
       "      <td>0</td>\n",
       "      <td>0</td>\n",
       "      <td>0</td>\n",
       "      <td>0</td>\n",
       "      <td>0</td>\n",
       "      <td>0</td>\n",
       "      <td>0</td>\n",
       "      <td>0</td>\n",
       "      <td>0</td>\n",
       "      <td>0</td>\n",
       "      <td>2</td>\n",
       "      <td>2</td>\n",
       "      <td>0.50</td>\n",
       "      <td>0.25</td>\n",
       "      <td>0.30</td>\n",
       "    </tr>\n",
       "    <tr>\n",
       "      <td>1</td>\n",
       "      <td>4</td>\n",
       "      <td>2</td>\n",
       "      <td>2</td>\n",
       "      <td>4</td>\n",
       "      <td>3</td>\n",
       "      <td>4</td>\n",
       "      <td>4</td>\n",
       "      <td>5</td>\n",
       "      <td>4</td>\n",
       "      <td>3</td>\n",
       "      <td>4</td>\n",
       "      <td>4</td>\n",
       "      <td>2</td>\n",
       "      <td>4</td>\n",
       "      <td>3</td>\n",
       "      <td>2</td>\n",
       "      <td>2</td>\n",
       "      <td>3</td>\n",
       "      <td>4</td>\n",
       "      <td>4</td>\n",
       "      <td>4</td>\n",
       "      <td>3</td>\n",
       "      <td>34</td>\n",
       "      <td>3</td>\n",
       "      <td>95</td>\n",
       "      <td>PL</td>\n",
       "      <td>0.64</td>\n",
       "      <td>0</td>\n",
       "      <td>0</td>\n",
       "      <td>0</td>\n",
       "      <td>0</td>\n",
       "      <td>0</td>\n",
       "      <td>0</td>\n",
       "      <td>0</td>\n",
       "      <td>0</td>\n",
       "      <td>0</td>\n",
       "      <td>0</td>\n",
       "      <td>0</td>\n",
       "      <td>0</td>\n",
       "      <td>0</td>\n",
       "      <td>0</td>\n",
       "      <td>0</td>\n",
       "      <td>0</td>\n",
       "      <td>0</td>\n",
       "      <td>0</td>\n",
       "      <td>0</td>\n",
       "      <td>0</td>\n",
       "      <td>0</td>\n",
       "      <td>0</td>\n",
       "      <td>0</td>\n",
       "      <td>1</td>\n",
       "      <td>0.70</td>\n",
       "      <td>0.50</td>\n",
       "      <td>0.75</td>\n",
       "    </tr>\n",
       "    <tr>\n",
       "      <td>2</td>\n",
       "      <td>5</td>\n",
       "      <td>5</td>\n",
       "      <td>5</td>\n",
       "      <td>4</td>\n",
       "      <td>2</td>\n",
       "      <td>5</td>\n",
       "      <td>5</td>\n",
       "      <td>4</td>\n",
       "      <td>4</td>\n",
       "      <td>2</td>\n",
       "      <td>2</td>\n",
       "      <td>2</td>\n",
       "      <td>2</td>\n",
       "      <td>4</td>\n",
       "      <td>4</td>\n",
       "      <td>2</td>\n",
       "      <td>4</td>\n",
       "      <td>3</td>\n",
       "      <td>3</td>\n",
       "      <td>4</td>\n",
       "      <td>4</td>\n",
       "      <td>2</td>\n",
       "      <td>22</td>\n",
       "      <td>2</td>\n",
       "      <td>80</td>\n",
       "      <td>AU</td>\n",
       "      <td>0.78</td>\n",
       "      <td>0</td>\n",
       "      <td>0</td>\n",
       "      <td>0</td>\n",
       "      <td>0</td>\n",
       "      <td>0</td>\n",
       "      <td>0</td>\n",
       "      <td>0</td>\n",
       "      <td>0</td>\n",
       "      <td>0</td>\n",
       "      <td>0</td>\n",
       "      <td>0</td>\n",
       "      <td>0</td>\n",
       "      <td>0</td>\n",
       "      <td>0</td>\n",
       "      <td>0</td>\n",
       "      <td>0</td>\n",
       "      <td>0</td>\n",
       "      <td>0</td>\n",
       "      <td>0</td>\n",
       "      <td>0</td>\n",
       "      <td>0</td>\n",
       "      <td>0</td>\n",
       "      <td>3</td>\n",
       "      <td>0</td>\n",
       "      <td>0.50</td>\n",
       "      <td>0.65</td>\n",
       "      <td>0.65</td>\n",
       "    </tr>\n",
       "    <tr>\n",
       "      <td>3</td>\n",
       "      <td>4</td>\n",
       "      <td>1</td>\n",
       "      <td>2</td>\n",
       "      <td>2</td>\n",
       "      <td>4</td>\n",
       "      <td>5</td>\n",
       "      <td>2</td>\n",
       "      <td>2</td>\n",
       "      <td>5</td>\n",
       "      <td>2</td>\n",
       "      <td>4</td>\n",
       "      <td>2</td>\n",
       "      <td>4</td>\n",
       "      <td>0</td>\n",
       "      <td>5</td>\n",
       "      <td>5</td>\n",
       "      <td>4</td>\n",
       "      <td>1</td>\n",
       "      <td>4</td>\n",
       "      <td>2</td>\n",
       "      <td>3</td>\n",
       "      <td>4</td>\n",
       "      <td>24</td>\n",
       "      <td>1</td>\n",
       "      <td>99</td>\n",
       "      <td>US</td>\n",
       "      <td>0.54</td>\n",
       "      <td>0</td>\n",
       "      <td>0</td>\n",
       "      <td>0</td>\n",
       "      <td>0</td>\n",
       "      <td>0</td>\n",
       "      <td>0</td>\n",
       "      <td>0</td>\n",
       "      <td>0</td>\n",
       "      <td>0</td>\n",
       "      <td>0</td>\n",
       "      <td>0</td>\n",
       "      <td>0</td>\n",
       "      <td>0</td>\n",
       "      <td>1</td>\n",
       "      <td>0</td>\n",
       "      <td>0</td>\n",
       "      <td>0</td>\n",
       "      <td>0</td>\n",
       "      <td>0</td>\n",
       "      <td>0</td>\n",
       "      <td>0</td>\n",
       "      <td>0</td>\n",
       "      <td>0</td>\n",
       "      <td>1</td>\n",
       "      <td>0.50</td>\n",
       "      <td>0.75</td>\n",
       "      <td>0.65</td>\n",
       "    </tr>\n",
       "    <tr>\n",
       "      <td>4</td>\n",
       "      <td>5</td>\n",
       "      <td>3</td>\n",
       "      <td>4</td>\n",
       "      <td>5</td>\n",
       "      <td>5</td>\n",
       "      <td>5</td>\n",
       "      <td>4</td>\n",
       "      <td>5</td>\n",
       "      <td>4</td>\n",
       "      <td>3</td>\n",
       "      <td>4</td>\n",
       "      <td>3</td>\n",
       "      <td>4</td>\n",
       "      <td>4</td>\n",
       "      <td>4</td>\n",
       "      <td>2</td>\n",
       "      <td>5</td>\n",
       "      <td>2</td>\n",
       "      <td>4</td>\n",
       "      <td>4</td>\n",
       "      <td>1</td>\n",
       "      <td>5</td>\n",
       "      <td>21</td>\n",
       "      <td>2</td>\n",
       "      <td>90</td>\n",
       "      <td>US</td>\n",
       "      <td>0.80</td>\n",
       "      <td>0</td>\n",
       "      <td>0</td>\n",
       "      <td>0</td>\n",
       "      <td>0</td>\n",
       "      <td>0</td>\n",
       "      <td>0</td>\n",
       "      <td>0</td>\n",
       "      <td>0</td>\n",
       "      <td>0</td>\n",
       "      <td>0</td>\n",
       "      <td>0</td>\n",
       "      <td>0</td>\n",
       "      <td>0</td>\n",
       "      <td>0</td>\n",
       "      <td>0</td>\n",
       "      <td>0</td>\n",
       "      <td>0</td>\n",
       "      <td>0</td>\n",
       "      <td>0</td>\n",
       "      <td>0</td>\n",
       "      <td>0</td>\n",
       "      <td>0</td>\n",
       "      <td>4</td>\n",
       "      <td>4</td>\n",
       "      <td>0.75</td>\n",
       "      <td>0.65</td>\n",
       "      <td>0.70</td>\n",
       "    </tr>\n",
       "  </tbody>\n",
       "</table>\n",
       "</div>"
      ],
      "text/plain": [
       "   HSNS1  HSNS2  HSNS3  HSNS4  HSNS5  HSNS6  HSNS7  HSNS8  HSNS9  HSNS10  \\\n",
       "0      2      4      5      1      4      5      4      3      3       2   \n",
       "1      4      2      2      4      3      4      4      5      4       3   \n",
       "2      5      5      5      4      2      5      5      4      4       2   \n",
       "3      4      1      2      2      4      5      2      2      5       2   \n",
       "4      5      3      4      5      5      5      4      5      4       3   \n",
       "\n",
       "   DDP1  DDP2  DDP3  DDP4  DDN1  DDN2  DDN3  DDN4  DDM1  DDM2  DDM3  DDM4  \\\n",
       "0     1     1     4     4     2     1     1     1     1     2     2     1   \n",
       "1     4     4     2     4     3     2     2     3     4     4     4     3   \n",
       "2     2     2     2     4     4     2     4     3     3     4     4     2   \n",
       "3     4     2     4     0     5     5     4     1     4     2     3     4   \n",
       "4     4     3     4     4     4     2     5     2     4     4     1     5   \n",
       "\n",
       "   age  gender  accuracy country  HSNScale  HSNS1_flag  HSNS2_flag  \\\n",
       "0   37       2        98      PT      0.62           0           0   \n",
       "1   34       3        95      PL      0.64           0           0   \n",
       "2   22       2        80      AU      0.78           0           0   \n",
       "3   24       1        99      US      0.54           0           0   \n",
       "4   21       2        90      US      0.80           0           0   \n",
       "\n",
       "   HSNS3_flag  HSNS4_flag  HSNS5_flag  HSNS6_flag  HSNS7_flag  HSNS8_flag  \\\n",
       "0           0           0           0           0           0           0   \n",
       "1           0           0           0           0           0           0   \n",
       "2           0           0           0           0           0           0   \n",
       "3           0           0           0           0           0           0   \n",
       "4           0           0           0           0           0           0   \n",
       "\n",
       "   HSNS9_flag  HSNS10_flag  DDP1_flag  DDP2_flag  DDP3_flag  DDP4_flag  \\\n",
       "0           0            0          0          0          0          0   \n",
       "1           0            0          0          0          0          0   \n",
       "2           0            0          0          0          0          0   \n",
       "3           0            0          0          0          0          1   \n",
       "4           0            0          0          0          0          0   \n",
       "\n",
       "   DDN1_flag  DDN2_flag  DDN3_flag  DDN4_flag  DDM1_flag  DDM2_flag  \\\n",
       "0          0          0          0          0          0          0   \n",
       "1          0          0          0          0          0          0   \n",
       "2          0          0          0          0          0          0   \n",
       "3          0          0          0          0          0          0   \n",
       "4          0          0          0          0          0          0   \n",
       "\n",
       "   DDM3_flag  DDM4_flag  label_psy_only  label_all_features  DDPScale  \\\n",
       "0          0          0               2                   2      0.50   \n",
       "1          0          0               0                   1      0.70   \n",
       "2          0          0               3                   0      0.50   \n",
       "3          0          0               0                   1      0.50   \n",
       "4          0          0               4                   4      0.75   \n",
       "\n",
       "   DDNScale  DDMScale  \n",
       "0      0.25      0.30  \n",
       "1      0.50      0.75  \n",
       "2      0.65      0.65  \n",
       "3      0.75      0.65  \n",
       "4      0.65      0.70  "
      ]
     },
     "execution_count": 6,
     "metadata": {},
     "output_type": "execute_result"
    }
   ],
   "source": [
    "ds.head(5)"
   ]
  },
  {
   "cell_type": "code",
   "execution_count": 7,
   "metadata": {},
   "outputs": [],
   "source": [
    "ds.columns\n",
    "ds.drop(columns=['HSNS1_flag', 'HSNS2_flag','HSNS3_flag', 'HSNS4_flag', 'HSNS5_flag', 'HSNS6_flag', 'HSNS7_flag',\n",
    "       'HSNS8_flag', 'HSNS9_flag', 'HSNS10_flag', 'DDP1_flag', 'DDP2_flag',\n",
    "       'DDP3_flag', 'DDP4_flag', 'DDN1_flag', 'DDN2_flag', 'DDN3_flag',\n",
    "       'DDN4_flag', 'DDM1_flag', 'DDM2_flag', 'DDM3_flag', 'DDM4_flag'],axis=1,inplace=True)"
   ]
  },
  {
   "cell_type": "code",
   "execution_count": 8,
   "metadata": {},
   "outputs": [
    {
     "data": {
      "text/html": [
       "<div>\n",
       "<style scoped>\n",
       "    .dataframe tbody tr th:only-of-type {\n",
       "        vertical-align: middle;\n",
       "    }\n",
       "\n",
       "    .dataframe tbody tr th {\n",
       "        vertical-align: top;\n",
       "    }\n",
       "\n",
       "    .dataframe thead th {\n",
       "        text-align: right;\n",
       "    }\n",
       "</style>\n",
       "<table border=\"1\" class=\"dataframe\">\n",
       "  <thead>\n",
       "    <tr style=\"text-align: right;\">\n",
       "      <th></th>\n",
       "      <th>HSNS1</th>\n",
       "      <th>HSNS2</th>\n",
       "      <th>HSNS3</th>\n",
       "      <th>HSNS4</th>\n",
       "      <th>HSNS5</th>\n",
       "      <th>HSNS6</th>\n",
       "      <th>HSNS7</th>\n",
       "      <th>HSNS8</th>\n",
       "      <th>HSNS9</th>\n",
       "      <th>HSNS10</th>\n",
       "      <th>DDP1</th>\n",
       "      <th>DDP2</th>\n",
       "      <th>DDP3</th>\n",
       "      <th>DDP4</th>\n",
       "      <th>DDN1</th>\n",
       "      <th>DDN2</th>\n",
       "      <th>DDN3</th>\n",
       "      <th>DDN4</th>\n",
       "      <th>DDM1</th>\n",
       "      <th>DDM2</th>\n",
       "      <th>DDM3</th>\n",
       "      <th>DDM4</th>\n",
       "      <th>age</th>\n",
       "      <th>gender</th>\n",
       "      <th>accuracy</th>\n",
       "      <th>country</th>\n",
       "      <th>HSNScale</th>\n",
       "      <th>label_psy_only</th>\n",
       "      <th>label_all_features</th>\n",
       "      <th>DDPScale</th>\n",
       "      <th>DDNScale</th>\n",
       "      <th>DDMScale</th>\n",
       "    </tr>\n",
       "  </thead>\n",
       "  <tbody>\n",
       "    <tr>\n",
       "      <td>0</td>\n",
       "      <td>2</td>\n",
       "      <td>4</td>\n",
       "      <td>5</td>\n",
       "      <td>1</td>\n",
       "      <td>4</td>\n",
       "      <td>5</td>\n",
       "      <td>4</td>\n",
       "      <td>3</td>\n",
       "      <td>3</td>\n",
       "      <td>2</td>\n",
       "      <td>1</td>\n",
       "      <td>1</td>\n",
       "      <td>4</td>\n",
       "      <td>4</td>\n",
       "      <td>2</td>\n",
       "      <td>1</td>\n",
       "      <td>1</td>\n",
       "      <td>1</td>\n",
       "      <td>1</td>\n",
       "      <td>2</td>\n",
       "      <td>2</td>\n",
       "      <td>1</td>\n",
       "      <td>37</td>\n",
       "      <td>2</td>\n",
       "      <td>98</td>\n",
       "      <td>PT</td>\n",
       "      <td>0.62</td>\n",
       "      <td>2</td>\n",
       "      <td>2</td>\n",
       "      <td>0.5</td>\n",
       "      <td>0.25</td>\n",
       "      <td>0.3</td>\n",
       "    </tr>\n",
       "  </tbody>\n",
       "</table>\n",
       "</div>"
      ],
      "text/plain": [
       "   HSNS1  HSNS2  HSNS3  HSNS4  HSNS5  HSNS6  HSNS7  HSNS8  HSNS9  HSNS10  \\\n",
       "0      2      4      5      1      4      5      4      3      3       2   \n",
       "\n",
       "   DDP1  DDP2  DDP3  DDP4  DDN1  DDN2  DDN3  DDN4  DDM1  DDM2  DDM3  DDM4  \\\n",
       "0     1     1     4     4     2     1     1     1     1     2     2     1   \n",
       "\n",
       "   age  gender  accuracy country  HSNScale  label_psy_only  \\\n",
       "0   37       2        98      PT      0.62               2   \n",
       "\n",
       "   label_all_features  DDPScale  DDNScale  DDMScale  \n",
       "0                   2       0.5      0.25       0.3  "
      ]
     },
     "execution_count": 8,
     "metadata": {},
     "output_type": "execute_result"
    }
   ],
   "source": [
    "ds.head(1)"
   ]
  },
  {
   "cell_type": "code",
   "execution_count": 541,
   "metadata": {},
   "outputs": [
    {
     "data": {
      "text/plain": [
       "<matplotlib.axes._subplots.AxesSubplot at 0x198cc721848>"
      ]
     },
     "execution_count": 541,
     "metadata": {},
     "output_type": "execute_result"
    },
    {
     "data": {
      "image/png": "[encoded data removed]",
      "text/plain": [
       "<Figure size 432x288 with 1 Axes>"
      ]
     },
     "metadata": {},
     "output_type": "display_data"
    }
   ],
   "source": [
    "ds.groupby(\"cluster_label\")[[\"HSNScale\",\"DDPScale\",\"DDMScale\"]].mean().plot(kind = 'bar', colors = ['#9999ff', 'salmon', 'silver'])"
   ]
  },
  {
   "cell_type": "code",
   "execution_count": 548,
   "metadata": {},
   "outputs": [
    {
     "name": "stderr",
     "output_type": "stream",
     "text": [
      "C:\\Users\\tvpia\\Anaconda3\\lib\\site-packages\\pandas\\plotting\\_matplotlib\\core.py:203: UserWarning:\n",
      "\n",
      "'colors' is being deprecated. Please use 'color'instead of 'colors'\n",
      "\n"
     ]
    },
    {
     "data": {
      "image/png": "[encoded data removed]",
      "text/plain": [
       "<Figure size 432x288 with 1 Axes>"
      ]
     },
     "metadata": {},
     "output_type": "display_data"
    }
   ],
   "source": [
    "plt = ds.groupby(\"cluster_label\")[[\"HSNScale\",\"DDPScale\",\"DDMScale\"]].mean().rename(columns={\"HSNScale\":\"Narcissim\",\"DDPScale\":\"Psycopathy\",\"DDMScale\":\"Machiavellism\"}).plot(kind = 'bar', colors = ['#9999ff', 'salmon', 'silver'])"
   ]
  },
  {
   "cell_type": "code",
   "execution_count": null,
   "metadata": {},
   "outputs": [],
   "source": [
    "cluster_2 = "
   ]
  },
  {
   "cell_type": "code",
   "execution_count": 553,
   "metadata": {},
   "outputs": [
    {
     "data": {
      "text/html": [
       "<div>\n",
       "<style scoped>\n",
       "    .dataframe tbody tr th:only-of-type {\n",
       "        vertical-align: middle;\n",
       "    }\n",
       "\n",
       "    .dataframe tbody tr th {\n",
       "        vertical-align: top;\n",
       "    }\n",
       "\n",
       "    .dataframe thead th {\n",
       "        text-align: right;\n",
       "    }\n",
       "</style>\n",
       "<table border=\"1\" class=\"dataframe\">\n",
       "  <thead>\n",
       "    <tr style=\"text-align: right;\">\n",
       "      <th></th>\n",
       "      <th>HSNS1</th>\n",
       "      <th>HSNS2</th>\n",
       "      <th>HSNS3</th>\n",
       "      <th>HSNS4</th>\n",
       "      <th>HSNS5</th>\n",
       "      <th>HSNS6</th>\n",
       "      <th>HSNS7</th>\n",
       "      <th>HSNS8</th>\n",
       "      <th>HSNS9</th>\n",
       "      <th>HSNS10</th>\n",
       "      <th>DDP1</th>\n",
       "      <th>DDP2</th>\n",
       "      <th>DDP3</th>\n",
       "      <th>DDP4</th>\n",
       "      <th>DDN1</th>\n",
       "      <th>DDN2</th>\n",
       "      <th>DDN3</th>\n",
       "      <th>DDN4</th>\n",
       "      <th>DDM1</th>\n",
       "      <th>DDM2</th>\n",
       "      <th>DDM3</th>\n",
       "      <th>DDM4</th>\n",
       "      <th>age</th>\n",
       "      <th>gender</th>\n",
       "      <th>accuracy</th>\n",
       "      <th>country</th>\n",
       "      <th>HSNScale</th>\n",
       "      <th>cluster_label</th>\n",
       "      <th>DDPScale</th>\n",
       "      <th>DDMScale</th>\n",
       "      <th>H</th>\n",
       "      <th>D</th>\n",
       "      <th>S</th>\n",
       "    </tr>\n",
       "  </thead>\n",
       "  <tbody>\n",
       "    <tr>\n",
       "      <td>0</td>\n",
       "      <td>2</td>\n",
       "      <td>4</td>\n",
       "      <td>5</td>\n",
       "      <td>1</td>\n",
       "      <td>4</td>\n",
       "      <td>5</td>\n",
       "      <td>4</td>\n",
       "      <td>3</td>\n",
       "      <td>3</td>\n",
       "      <td>2</td>\n",
       "      <td>1</td>\n",
       "      <td>1</td>\n",
       "      <td>4</td>\n",
       "      <td>4</td>\n",
       "      <td>2</td>\n",
       "      <td>1</td>\n",
       "      <td>1</td>\n",
       "      <td>1</td>\n",
       "      <td>1</td>\n",
       "      <td>2</td>\n",
       "      <td>2</td>\n",
       "      <td>1</td>\n",
       "      <td>37</td>\n",
       "      <td>2</td>\n",
       "      <td>98</td>\n",
       "      <td>1</td>\n",
       "      <td>0.62</td>\n",
       "      <td>2</td>\n",
       "      <td>0.5</td>\n",
       "      <td>0.3</td>\n",
       "      <td>43.661972</td>\n",
       "      <td>21.126761</td>\n",
       "      <td>21.126761</td>\n",
       "    </tr>\n",
       "  </tbody>\n",
       "</table>\n",
       "</div>"
      ],
      "text/plain": [
       "   HSNS1  HSNS2  HSNS3  HSNS4  HSNS5  HSNS6  HSNS7  HSNS8  HSNS9  HSNS10  \\\n",
       "0      2      4      5      1      4      5      4      3      3       2   \n",
       "\n",
       "   DDP1  DDP2  DDP3  DDP4  DDN1  DDN2  DDN3  DDN4  DDM1  DDM2  DDM3  DDM4  \\\n",
       "0     1     1     4     4     2     1     1     1     1     2     2     1   \n",
       "\n",
       "   age  gender  accuracy  country  HSNScale  cluster_label  DDPScale  \\\n",
       "0   37       2        98        1      0.62              2       0.5   \n",
       "\n",
       "   DDMScale          H          D          S  \n",
       "0       0.3  43.661972  21.126761  21.126761  "
      ]
     },
     "execution_count": 553,
     "metadata": {},
     "output_type": "execute_result"
    }
   ],
   "source": [
    "ds.head(1)"
   ]
  },
  {
   "cell_type": "code",
   "execution_count": 566,
   "metadata": {},
   "outputs": [
    {
     "data": {
      "text/plain": [
       "<matplotlib.axes._subplots.AxesSubplot at 0x198d898d408>"
      ]
     },
     "execution_count": 566,
     "metadata": {},
     "output_type": "execute_result"
    },
    {
     "data": {
      "image/png": "[encoded data removed]",
      "text/plain": [
       "<Figure size 432x288 with 1 Axes>"
      ]
     },
     "metadata": {},
     "output_type": "display_data"
    }
   ],
   "source": [
    "clus2=ds.loc[ds.cluster_label==2]\n",
    "sns.distplot(clus2.age,bins=20)"
   ]
  },
  {
   "cell_type": "code",
   "execution_count": 10,
   "metadata": {},
   "outputs": [
    {
     "data": {
      "text/plain": [
       "1    13272\n",
       "3    11859\n",
       "0    10648\n",
       "4     8918\n",
       "2     7932\n",
       "Name: label_psy_only, dtype: int64"
      ]
     },
     "execution_count": 10,
     "metadata": {},
     "output_type": "execute_result"
    }
   ],
   "source": [
    "ds.label_psy_only.value_counts()"
   ]
  },
  {
   "cell_type": "code",
   "execution_count": 564,
   "metadata": {},
   "outputs": [],
   "source": [
    "clus4=ds.loc[ds.cluster_label==4]"
   ]
  },
  {
   "cell_type": "code",
   "execution_count": 565,
   "metadata": {},
   "outputs": [
    {
     "data": {
      "text/plain": [
       "<matplotlib.axes._subplots.AxesSubplot at 0x198d88f1208>"
      ]
     },
     "execution_count": 565,
     "metadata": {},
     "output_type": "execute_result"
    },
    {
     "data": {
      "image/png": "[encoded data removed]",
      "text/plain": [
       "<Figure size 432x288 with 1 Axes>"
      ]
     },
     "metadata": {},
     "output_type": "display_data"
    }
   ],
   "source": [
    "sns.distplot(clus4.age,bins=20)"
   ]
  },
  {
   "cell_type": "code",
   "execution_count": 661,
   "metadata": {},
   "outputs": [
    {
     "data": {
      "text/plain": [
       "<matplotlib.legend.Legend at 0x198bf716488>"
      ]
     },
     "execution_count": 661,
     "metadata": {},
     "output_type": "execute_result"
    },
    {
     "data": {
      "image/png": "[encoded data removed]",
      "text/plain": [
       "<Figure size 432x288 with 1 Axes>"
      ]
     },
     "metadata": {},
     "output_type": "display_data"
    }
   ],
   "source": [
    "\n",
    "sns.distplot(clus2.age,label=\"Cluster 2\",bins=20).set_title(\"Age Distribution\")\n",
    "sns.distplot(clus4.age,label=\"Cluster 4\",bins=20)\n",
    "\n",
    "plt.legend()\n"
   ]
  },
  {
   "cell_type": "code",
   "execution_count": 659,
   "metadata": {},
   "outputs": [
    {
     "data": {
      "text/plain": [
       "Text(0.5, 1.0, 'Gender Distribution cluster 2')"
      ]
     },
     "execution_count": 659,
     "metadata": {},
     "output_type": "execute_result"
    },
    {
     "data": {
      "image/png": "[encoded data removed]",
      "text/plain": [
       "<Figure size 432x288 with 1 Axes>"
      ]
     },
     "metadata": {},
     "output_type": "display_data"
    }
   ],
   "source": [
    "clus2.gender.value_counts(normalize=True).plot(kind='bar').set_title(\"Gender Distribution cluster 2\")\n"
   ]
  },
  {
   "cell_type": "code",
   "execution_count": 658,
   "metadata": {},
   "outputs": [
    {
     "data": {
      "text/plain": [
       "Text(0.5, 1.0, 'Gender Distribution cluster 4')"
      ]
     },
     "execution_count": 658,
     "metadata": {},
     "output_type": "execute_result"
    },
    {
     "data": {
      "image/png": "[encoded data removed]",
      "text/plain": [
       "<Figure size 432x288 with 1 Axes>"
      ]
     },
     "metadata": {},
     "output_type": "display_data"
    }
   ],
   "source": [
    "clus4.gender.value_counts(normalize=True).plot(kind='bar').set_title(\"Gender Distribution cluster 4\")"
   ]
  },
  {
   "cell_type": "code",
   "execution_count": 11,
   "metadata": {},
   "outputs": [
    {
     "data": {
      "text/html": [
       "<div>\n",
       "<style scoped>\n",
       "    .dataframe tbody tr th:only-of-type {\n",
       "        vertical-align: middle;\n",
       "    }\n",
       "\n",
       "    .dataframe tbody tr th {\n",
       "        vertical-align: top;\n",
       "    }\n",
       "\n",
       "    .dataframe thead th {\n",
       "        text-align: right;\n",
       "    }\n",
       "</style>\n",
       "<table border=\"1\" class=\"dataframe\">\n",
       "  <thead>\n",
       "    <tr style=\"text-align: right;\">\n",
       "      <th></th>\n",
       "      <th>HSNScale</th>\n",
       "      <th>DDPScale</th>\n",
       "      <th>DDNScale</th>\n",
       "      <th>DDMScale</th>\n",
       "    </tr>\n",
       "    <tr>\n",
       "      <th>label_all_features</th>\n",
       "      <th></th>\n",
       "      <th></th>\n",
       "      <th></th>\n",
       "      <th></th>\n",
       "    </tr>\n",
       "  </thead>\n",
       "  <tbody>\n",
       "    <tr>\n",
       "      <td>0</td>\n",
       "      <td>0.707655</td>\n",
       "      <td>0.639897</td>\n",
       "      <td>0.769619</td>\n",
       "      <td>0.712948</td>\n",
       "    </tr>\n",
       "    <tr>\n",
       "      <td>1</td>\n",
       "      <td>0.562138</td>\n",
       "      <td>0.732254</td>\n",
       "      <td>0.551736</td>\n",
       "      <td>0.681036</td>\n",
       "    </tr>\n",
       "    <tr>\n",
       "      <td>2</td>\n",
       "      <td>0.451547</td>\n",
       "      <td>0.375647</td>\n",
       "      <td>0.430796</td>\n",
       "      <td>0.386291</td>\n",
       "    </tr>\n",
       "    <tr>\n",
       "      <td>3</td>\n",
       "      <td>0.605083</td>\n",
       "      <td>0.464053</td>\n",
       "      <td>0.618266</td>\n",
       "      <td>0.525562</td>\n",
       "    </tr>\n",
       "    <tr>\n",
       "      <td>4</td>\n",
       "      <td>0.728221</td>\n",
       "      <td>0.870250</td>\n",
       "      <td>0.846662</td>\n",
       "      <td>0.883233</td>\n",
       "    </tr>\n",
       "  </tbody>\n",
       "</table>\n",
       "</div>"
      ],
      "text/plain": [
       "                    HSNScale  DDPScale  DDNScale  DDMScale\n",
       "label_all_features                                        \n",
       "0                   0.707655  0.639897  0.769619  0.712948\n",
       "1                   0.562138  0.732254  0.551736  0.681036\n",
       "2                   0.451547  0.375647  0.430796  0.386291\n",
       "3                   0.605083  0.464053  0.618266  0.525562\n",
       "4                   0.728221  0.870250  0.846662  0.883233"
      ]
     },
     "execution_count": 11,
     "metadata": {},
     "output_type": "execute_result"
    }
   ],
   "source": [
    "ds.groupby(\"label_all_features\")[[\"HSNScale\",\"DDPScale\",\"DDNScale\",\"DDMScale\"]].agg('mean')"
   ]
  },
  {
   "cell_type": "code",
   "execution_count": 12,
   "metadata": {},
   "outputs": [
    {
     "data": {
      "text/plain": [
       "3    13268\n",
       "0    11828\n",
       "1    10628\n",
       "4     8943\n",
       "2     7962\n",
       "Name: label_all_features, dtype: int64"
      ]
     },
     "execution_count": 12,
     "metadata": {},
     "output_type": "execute_result"
    }
   ],
   "source": [
    "ds.label_all_features.value_counts()"
   ]
  },
  {
   "cell_type": "markdown",
   "metadata": {},
   "source": [
    "We can observe that the narcissim scale is consistent between the 2 tests (HSN and DDN). Therefore, I will keep only the more detailed test of the 2 (HSN as it had 10 questions instead of 4 for DDN)."
   ]
  },
  {
   "cell_type": "code",
   "execution_count": 13,
   "metadata": {},
   "outputs": [],
   "source": [
    "ds.drop(columns=\"DDNScale\",axis=1,inplace=True)"
   ]
  },
  {
   "cell_type": "markdown",
   "metadata": {},
   "source": [
    "We observe that the clustering has similar results no matter if we take into account only the psychological features or all of them. Therefore I will drop the column label_all_features."
   ]
  },
  {
   "cell_type": "code",
   "execution_count": 14,
   "metadata": {},
   "outputs": [],
   "source": [
    "ds.drop(\"label_all_features\",axis=1, inplace=True)"
   ]
  },
  {
   "cell_type": "code",
   "execution_count": 15,
   "metadata": {},
   "outputs": [],
   "source": [
    "ds.rename(columns={\"label_psy_only\": \"cluster_label\"},inplace=True)"
   ]
  },
  {
   "cell_type": "code",
   "execution_count": 16,
   "metadata": {},
   "outputs": [],
   "source": [
    "ds.country = np.where(ds.country == \"US\", 0, 1)"
   ]
  },
  {
   "cell_type": "code",
   "execution_count": 17,
   "metadata": {},
   "outputs": [
    {
     "data": {
      "text/plain": [
       "0    27370\n",
       "1    25259\n",
       "Name: country, dtype: int64"
      ]
     },
     "execution_count": 17,
     "metadata": {},
     "output_type": "execute_result"
    }
   ],
   "source": [
    "ds.country.value_counts()"
   ]
  },
  {
   "cell_type": "code",
   "execution_count": 18,
   "metadata": {},
   "outputs": [
    {
     "data": {
      "text/plain": [
       "0.4799445172813468"
      ]
     },
     "execution_count": 18,
     "metadata": {},
     "output_type": "execute_result"
    }
   ],
   "source": [
    "ds.country.value_counts()[1]/(ds.country.value_counts()[0]+ds.country.value_counts()[1])"
   ]
  },
  {
   "cell_type": "code",
   "execution_count": 654,
   "metadata": {},
   "outputs": [],
   "source": [
    "a =ds.groupby(\"cluster_label\")[\"HSNScale\",\"DDPScale\",\"DDMScale\",\"age\",\"accuracy\",\"country\"].mean()"
   ]
  },
  {
   "cell_type": "markdown",
   "metadata": {},
   "source": [
    "US is over represented for clusters 0 and 2\n",
    "0 : scoring high for psycopathy only\n",
    "2: very low scores on 3 tests\n",
    "\n",
    "non US is overrepresented in clusters 3 and 4:\n",
    "3: average psycopathy, high narcissim and machivallism\n",
    "4: highest scores for all 3 tests. It is also worth nothing that this category has the highest accuracy score."
   ]
  },
  {
   "cell_type": "code",
   "execution_count": 20,
   "metadata": {},
   "outputs": [
    {
     "data": {
      "text/html": [
       "<div>\n",
       "<style scoped>\n",
       "    .dataframe tbody tr th:only-of-type {\n",
       "        vertical-align: middle;\n",
       "    }\n",
       "\n",
       "    .dataframe tbody tr th {\n",
       "        vertical-align: top;\n",
       "    }\n",
       "\n",
       "    .dataframe thead th {\n",
       "        text-align: right;\n",
       "    }\n",
       "</style>\n",
       "<table border=\"1\" class=\"dataframe\">\n",
       "  <thead>\n",
       "    <tr style=\"text-align: right;\">\n",
       "      <th></th>\n",
       "      <th>HSNScale</th>\n",
       "      <th>DDPScale</th>\n",
       "      <th>DDMScale</th>\n",
       "      <th>age</th>\n",
       "      <th>accuracy</th>\n",
       "    </tr>\n",
       "    <tr>\n",
       "      <th>country</th>\n",
       "      <th></th>\n",
       "      <th></th>\n",
       "      <th></th>\n",
       "      <th></th>\n",
       "      <th></th>\n",
       "    </tr>\n",
       "  </thead>\n",
       "  <tbody>\n",
       "    <tr>\n",
       "      <td>0</td>\n",
       "      <td>0.612037</td>\n",
       "      <td>0.610027</td>\n",
       "      <td>0.638564</td>\n",
       "      <td>26.530142</td>\n",
       "      <td>84.740117</td>\n",
       "    </tr>\n",
       "    <tr>\n",
       "      <td>1</td>\n",
       "      <td>0.622710</td>\n",
       "      <td>0.617018</td>\n",
       "      <td>0.639014</td>\n",
       "      <td>25.172097</td>\n",
       "      <td>82.195574</td>\n",
       "    </tr>\n",
       "  </tbody>\n",
       "</table>\n",
       "</div>"
      ],
      "text/plain": [
       "         HSNScale  DDPScale  DDMScale        age   accuracy\n",
       "country                                                    \n",
       "0        0.612037  0.610027  0.638564  26.530142  84.740117\n",
       "1        0.622710  0.617018  0.639014  25.172097  82.195574"
      ]
     },
     "execution_count": 20,
     "metadata": {},
     "output_type": "execute_result"
    }
   ],
   "source": [
    "ds.groupby(\"country\")[\"HSNScale\",\"DDPScale\",\"DDMScale\",\"age\",\"accuracy\"].mean()"
   ]
  },
  {
   "cell_type": "code",
   "execution_count": 21,
   "metadata": {},
   "outputs": [
    {
     "data": {
      "text/plain": [
       "26.53014249177932"
      ]
     },
     "execution_count": 21,
     "metadata": {},
     "output_type": "execute_result"
    }
   ],
   "source": [
    "ds.loc[ds.country == 0].age.mean()"
   ]
  },
  {
   "cell_type": "code",
   "execution_count": 22,
   "metadata": {},
   "outputs": [
    {
     "data": {
      "text/plain": [
       "25.172097074310148"
      ]
     },
     "execution_count": 22,
     "metadata": {},
     "output_type": "execute_result"
    }
   ],
   "source": [
    "ds.loc[ds.country == 1].age.mean()"
   ]
  },
  {
   "cell_type": "code",
   "execution_count": 23,
   "metadata": {},
   "outputs": [
    {
     "data": {
      "text/plain": [
       "(10298, 30)"
      ]
     },
     "execution_count": 23,
     "metadata": {},
     "output_type": "execute_result"
    }
   ],
   "source": [
    "ds.loc[(ds.age > 23)& (ds.age <= 30) ].shape"
   ]
  },
  {
   "cell_type": "code",
   "execution_count": 24,
   "metadata": {},
   "outputs": [
    {
     "data": {
      "text/plain": [
       "HSNScale    0.621055\n",
       "DDPScale    0.648942\n",
       "DDMScale    0.663108\n",
       "dtype: float64"
      ]
     },
     "execution_count": 24,
     "metadata": {},
     "output_type": "execute_result"
    }
   ],
   "source": [
    "ds.loc[ds.gender == 1][[\"HSNScale\",\"DDPScale\",\"DDMScale\"]].mean()"
   ]
  },
  {
   "cell_type": "code",
   "execution_count": 25,
   "metadata": {},
   "outputs": [
    {
     "data": {
      "text/plain": [
       "HSNScale    0.610410\n",
       "DDPScale    0.553059\n",
       "DDMScale    0.598090\n",
       "dtype: float64"
      ]
     },
     "execution_count": 25,
     "metadata": {},
     "output_type": "execute_result"
    }
   ],
   "source": [
    "ds.loc[ds.gender == 2][[\"HSNScale\",\"DDPScale\",\"DDMScale\"]].mean()"
   ]
  },
  {
   "cell_type": "code",
   "execution_count": 27,
   "metadata": {},
   "outputs": [],
   "source": [
    "#pip install python-ternary"
   ]
  },
  {
   "cell_type": "code",
   "execution_count": 49,
   "metadata": {},
   "outputs": [],
   "source": [
    "%matplotlib inline\n",
    "\n",
    "import ternary\n",
    "\n",
    "cols = ['HSNScale', 'DDPScale', 'DDMScale']\n",
    "for col in cols:\n",
    "    ds[col[3]] = ds[col] * 100 / ds[cols].sum(axis=1)"
   ]
  },
  {
   "cell_type": "code",
   "execution_count": 50,
   "metadata": {},
   "outputs": [
    {
     "data": {
      "text/html": [
       "<div>\n",
       "<style scoped>\n",
       "    .dataframe tbody tr th:only-of-type {\n",
       "        vertical-align: middle;\n",
       "    }\n",
       "\n",
       "    .dataframe tbody tr th {\n",
       "        vertical-align: top;\n",
       "    }\n",
       "\n",
       "    .dataframe thead th {\n",
       "        text-align: right;\n",
       "    }\n",
       "</style>\n",
       "<table border=\"1\" class=\"dataframe\">\n",
       "  <thead>\n",
       "    <tr style=\"text-align: right;\">\n",
       "      <th></th>\n",
       "      <th>HSNS1</th>\n",
       "      <th>HSNS2</th>\n",
       "      <th>HSNS3</th>\n",
       "      <th>HSNS4</th>\n",
       "      <th>HSNS5</th>\n",
       "      <th>HSNS6</th>\n",
       "      <th>HSNS7</th>\n",
       "      <th>HSNS8</th>\n",
       "      <th>HSNS9</th>\n",
       "      <th>HSNS10</th>\n",
       "      <th>DDP1</th>\n",
       "      <th>DDP2</th>\n",
       "      <th>DDP3</th>\n",
       "      <th>DDP4</th>\n",
       "      <th>DDN1</th>\n",
       "      <th>DDN2</th>\n",
       "      <th>DDN3</th>\n",
       "      <th>DDN4</th>\n",
       "      <th>DDM1</th>\n",
       "      <th>DDM2</th>\n",
       "      <th>DDM3</th>\n",
       "      <th>DDM4</th>\n",
       "      <th>age</th>\n",
       "      <th>gender</th>\n",
       "      <th>accuracy</th>\n",
       "      <th>country</th>\n",
       "      <th>HSNScale</th>\n",
       "      <th>cluster_label</th>\n",
       "      <th>DDPScale</th>\n",
       "      <th>DDMScale</th>\n",
       "      <th>H</th>\n",
       "      <th>D</th>\n",
       "      <th>S</th>\n",
       "    </tr>\n",
       "  </thead>\n",
       "  <tbody>\n",
       "    <tr>\n",
       "      <td>0</td>\n",
       "      <td>2</td>\n",
       "      <td>4</td>\n",
       "      <td>5</td>\n",
       "      <td>1</td>\n",
       "      <td>4</td>\n",
       "      <td>5</td>\n",
       "      <td>4</td>\n",
       "      <td>3</td>\n",
       "      <td>3</td>\n",
       "      <td>2</td>\n",
       "      <td>1</td>\n",
       "      <td>1</td>\n",
       "      <td>4</td>\n",
       "      <td>4</td>\n",
       "      <td>2</td>\n",
       "      <td>1</td>\n",
       "      <td>1</td>\n",
       "      <td>1</td>\n",
       "      <td>1</td>\n",
       "      <td>2</td>\n",
       "      <td>2</td>\n",
       "      <td>1</td>\n",
       "      <td>37</td>\n",
       "      <td>2</td>\n",
       "      <td>98</td>\n",
       "      <td>1</td>\n",
       "      <td>0.62</td>\n",
       "      <td>2</td>\n",
       "      <td>0.5</td>\n",
       "      <td>0.3</td>\n",
       "      <td>43.661972</td>\n",
       "      <td>21.126761</td>\n",
       "      <td>21.126761</td>\n",
       "    </tr>\n",
       "  </tbody>\n",
       "</table>\n",
       "</div>"
      ],
      "text/plain": [
       "   HSNS1  HSNS2  HSNS3  HSNS4  HSNS5  HSNS6  HSNS7  HSNS8  HSNS9  HSNS10  \\\n",
       "0      2      4      5      1      4      5      4      3      3       2   \n",
       "\n",
       "   DDP1  DDP2  DDP3  DDP4  DDN1  DDN2  DDN3  DDN4  DDM1  DDM2  DDM3  DDM4  \\\n",
       "0     1     1     4     4     2     1     1     1     1     2     2     1   \n",
       "\n",
       "   age  gender  accuracy  country  HSNScale  cluster_label  DDPScale  \\\n",
       "0   37       2        98        1      0.62              2       0.5   \n",
       "\n",
       "   DDMScale          H          D          S  \n",
       "0       0.3  43.661972  21.126761  21.126761  "
      ]
     },
     "execution_count": 50,
     "metadata": {},
     "output_type": "execute_result"
    }
   ],
   "source": [
    "ds.head(1)"
   ]
  },
  {
   "cell_type": "code",
   "execution_count": 634,
   "metadata": {},
   "outputs": [
    {
     "data": {
      "image/png": "[encoded data removed]",
      "text/plain": [
       "<Figure size 360x324 with 1 Axes>"
      ]
     },
     "metadata": {},
     "output_type": "display_data"
    }
   ],
   "source": [
    "fig, tax = ternary.figure(scale=100)\n",
    "fig.set_size_inches(5, 4.5)\n",
    "\n",
    "tax.scatter(ds.loc[ds.gender == 1][['H', 'D', 'S']].values, alpha = 0.40, label='men')\n",
    "tax.scatter(ds.loc[ds.gender == 2][['H', 'D', 'S']].values, alpha=0.10, label='women')\n",
    "tax.gridlines(multiple=2.5)\n",
    "tax.get_axes().axis('off')\n",
    "tax.left_axis_label(\"Narcissim\")\n",
    "tax.right_axis_label(\"Psycopathy\")\n",
    "tax.bottom_axis_label(\"Machavellism\")\n",
    "\n",
    "tax.legend()"
   ]
  },
  {
   "cell_type": "code",
   "execution_count": 75,
   "metadata": {},
   "outputs": [],
   "source": [
    "#import plotly.express as px\n",
    "\n",
    "#df = ds[['HSNScale', 'DDPScale', 'DDMScale']]\n",
    "#fig = px.scatter_ternary(df, a=\"HSNScale\", b=\"DDPScale\", c=\"DDMScale\")\n",
    "#fig.show()\n",
    "\n"
   ]
  },
  {
   "cell_type": "code",
   "execution_count": 168,
   "metadata": {},
   "outputs": [],
   "source": [
    "#importing libraries\n",
    "from scipy import stats\n",
    "from scipy.stats import ttest_1samp\n",
    "import statsmodels\n",
    "from scipy.stats import t\n",
    "from statsmodels.stats.proportion import proportions_ztest\n",
    "import seaborn as sns\n",
    "from scipy.stats import ttest_1samp, ttest_rel, ttest_ind\n",
    "from scipy.stats import f_oneway"
   ]
  },
  {
   "cell_type": "markdown",
   "metadata": {},
   "source": [
    "## STATISTICS"
   ]
  },
  {
   "cell_type": "markdown",
   "metadata": {},
   "source": [
    "## Hypothesis 1 \n",
    "\n",
    "US and non-US participant have the same average score on their pyscologocial test."
   ]
  },
  {
   "cell_type": "code",
   "execution_count": 169,
   "metadata": {},
   "outputs": [],
   "source": [
    "def t_test_features(s1, s2, features=['HSNScale', 'DDPScale', 'DDMScale', 'age', 'accuracy']):\n",
    " \n",
    "  \n",
    "    result = {key : ttest_ind(s1[key],s2[key])for key in features}\n",
    "\n",
    "    return result"
   ]
  },
  {
   "cell_type": "code",
   "execution_count": 170,
   "metadata": {},
   "outputs": [
    {
     "data": {
      "text/plain": [
       "{'HSNScale': Ttest_indResult(statistic=-9.798557004510625, pvalue=1.1941957941133548e-22),\n",
       " 'DDPScale': Ttest_indResult(statistic=-3.9056875950835424, pvalue=9.407507521588545e-05),\n",
       " 'DDMScale': Ttest_indResult(statistic=-0.2548244977718423, pvalue=0.7988596489679297),\n",
       " 'age': Ttest_indResult(statistic=14.492424795992143, pvalue=1.6705831232306302e-47),\n",
       " 'accuracy': Ttest_indResult(statistic=18.188963308840723, pvalue=1.0627118441803352e-73)}"
      ]
     },
     "execution_count": 170,
     "metadata": {},
     "output_type": "execute_result"
    }
   ],
   "source": [
    "t_test_features(ds.loc[ds.country == 0],ds.loc[ds.country == 1]) #[1]"
   ]
  },
  {
   "cell_type": "markdown",
   "metadata": {},
   "source": [
    "US and non-US population have significantly different stats when it come to Narcissim ad Psychopathy, but not for Machiavellism."
   ]
  },
  {
   "cell_type": "markdown",
   "metadata": {},
   "source": [
    "## Hypothesis 2 \n",
    "\n",
    "Men and women have the same average score on their pyscologocial test."
   ]
  },
  {
   "cell_type": "code",
   "execution_count": 171,
   "metadata": {},
   "outputs": [
    {
     "data": {
      "text/plain": [
       "{'HSNScale': Ttest_indResult(statistic=9.426568469431212, pvalue=4.404183760120639e-21),\n",
       " 'DDPScale': Ttest_indResult(statistic=53.072352063912874, pvalue=0.0),\n",
       " 'DDMScale': Ttest_indResult(statistic=35.98683918499269, pvalue=3.692643649653672e-280),\n",
       " 'age': Ttest_indResult(statistic=2.8665380468452515, pvalue=0.004151542842978249),\n",
       " 'accuracy': Ttest_indResult(statistic=-1.3933113112116264, pvalue=0.16353160754699325)}"
      ]
     },
     "execution_count": 171,
     "metadata": {},
     "output_type": "execute_result"
    }
   ],
   "source": [
    "#1 =Male 2= Female\n",
    "t_test_features(ds.loc[ds.gender == 1],ds.loc[ds.gender == 2])"
   ]
  },
  {
   "cell_type": "code",
   "execution_count": 172,
   "metadata": {},
   "outputs": [],
   "source": [
    "#we can reject the hypo"
   ]
  },
  {
   "cell_type": "code",
   "execution_count": 194,
   "metadata": {},
   "outputs": [
    {
     "name": "stdout",
     "output_type": "stream",
     "text": [
      "0.5530586606501938\n",
      "0.6489424872210903\n"
     ]
    }
   ],
   "source": [
    "filt =ds.loc[ds.gender == 2]\n",
    "print(filt.DDPScale.mean())\n",
    "filt2 = ds.loc[ds.gender == 1]\n",
    "print(filt2.DDPScale.mean())"
   ]
  },
  {
   "cell_type": "markdown",
   "metadata": {},
   "source": [
    "## Hypothesis 3\n",
    "\n",
    "People under 25 score higher for narcissim, psycopathy and machiavellism."
   ]
  },
  {
   "cell_type": "code",
   "execution_count": 173,
   "metadata": {},
   "outputs": [
    {
     "data": {
      "text/plain": [
       "{'HSNScale': Ttest_indResult(statistic=23.986361387438063, pvalue=1.848742831069617e-126),\n",
       " 'DDPScale': Ttest_indResult(statistic=32.3657783730091, pvalue=1.4415405898524627e-227),\n",
       " 'DDMScale': Ttest_indResult(statistic=25.440027073156767, pvalue=6.590618143835112e-142),\n",
       " 'age': Ttest_indResult(statistic=-281.95332282991495, pvalue=0.0),\n",
       " 'accuracy': Ttest_indResult(statistic=-6.839433780879505, pvalue=8.037243464963615e-12)}"
      ]
     },
     "execution_count": 173,
     "metadata": {},
     "output_type": "execute_result"
    }
   ],
   "source": [
    "#t_test_rel ou t_test_1 samp?\n",
    "#porportional\n",
    "t_test_features(ds.loc[ds.age<25], ds.loc[ds.age >= 25])"
   ]
  },
  {
   "cell_type": "markdown",
   "metadata": {},
   "source": [
    "hypothesis test that will determine whether the psycopathy score for people under 21 is significantly different from 25% at the 95% confidence level."
   ]
  },
  {
   "cell_type": "code",
   "execution_count": null,
   "metadata": {},
   "outputs": [],
   "source": [
    "Hypothesis Tests of Proportions\n",
    "\n",
    "Another type of one sample test is a hypothesis test of proportions. In this test, we examine whether the proportion of a group in our sample is significantly different than a fraction.\n",
    "\n",
    "You can read more about one sample proportion tests here.\n",
    "\n",
    "In the cell below, use the proportions_ztest function from statsmodels to perform a hypothesis test that will determine whether the number of hourly workers in the City of Chicago is significantly different from 25% at the 95% confidence level.\n",
    "In [26]:\n",
    "\n",
    "# Your code here:\n",
    "from statsmodels.stats.proportion import proportions_ztest\n",
    "\n",
    "proportions_ztest(salaries[salaries['Salary or Hourly'] == 'Hourly'].shape[0],salaries.shape[0], value = 0.25) \n",
    "\n",
    "#-3.5 is far below -1.96, which would be the critival lower value for the 95% CI. \n",
    "\n",
    "#Therefore, the number of hourly workers is lower than 25%\n"
   ]
  },
  {
   "cell_type": "markdown",
   "metadata": {},
   "source": [
    "Younger people indeed score higher."
   ]
  },
  {
   "cell_type": "markdown",
   "metadata": {},
   "source": [
    "## Multiclass classification"
   ]
  },
  {
   "cell_type": "code",
   "execution_count": 586,
   "metadata": {},
   "outputs": [],
   "source": [
    "ds_binned = ds.copy()"
   ]
  },
  {
   "cell_type": "code",
   "execution_count": 587,
   "metadata": {},
   "outputs": [],
   "source": [
    "ds_binned[\"age_bins\"] = pd.cut(ds_binned.age, bins=[0,18,22.5,99])"
   ]
  },
  {
   "cell_type": "code",
   "execution_count": 588,
   "metadata": {},
   "outputs": [
    {
     "data": {
      "text/plain": [
       "(22.5, 99.0]    25413\n",
       "(0.0, 18.0]     14065\n",
       "(18.0, 22.5]    13151\n",
       "Name: age_bins, dtype: int64"
      ]
     },
     "execution_count": 588,
     "metadata": {},
     "output_type": "execute_result"
    }
   ],
   "source": [
    "ds_binned.age_bins.value_counts()"
   ]
  },
  {
   "cell_type": "code",
   "execution_count": 589,
   "metadata": {},
   "outputs": [],
   "source": [
    "from sklearn.tree import DecisionTreeClassifier\n",
    "from sklearn.ensemble import RandomForestClassifier\n",
    "from imblearn.over_sampling import SMOTE\n",
    "from sklearn.preprocessing import StandardScaler\n",
    "from sklearn.model_selection import train_test_split\n",
    "from sklearn.metrics import f1_score, confusion_matrix, precision_score, recall_score, accuracy_score\n",
    "from sklearn import preprocessing"
   ]
  },
  {
   "cell_type": "code",
   "execution_count": 590,
   "metadata": {},
   "outputs": [
    {
     "data": {
      "text/plain": [
       "[Interval(22.5, 99.0, closed='right'),\n",
       " Interval(0.0, 18.0, closed='right'),\n",
       " Interval(18.0, 22.5, closed='right')]"
      ]
     },
     "execution_count": 590,
     "metadata": {},
     "output_type": "execute_result"
    }
   ],
   "source": [
    "bins= list(ds_binned.age_bins.value_counts().index)\n",
    "bins"
   ]
  },
  {
   "cell_type": "code",
   "execution_count": 591,
   "metadata": {},
   "outputs": [],
   "source": [
    "le = preprocessing.LabelEncoder()\n",
    "\n",
    "trans = list(le.fit_transform(bins))\n",
    "\n",
    "encoded = dict(zip(bins,trans))\n",
    "\n",
    "ds_binned[\"age_encoded\"]= ds_binned.age_bins.map(encoded)"
   ]
  },
  {
   "cell_type": "code",
   "execution_count": 592,
   "metadata": {},
   "outputs": [
    {
     "data": {
      "text/html": [
       "<div>\n",
       "<style scoped>\n",
       "    .dataframe tbody tr th:only-of-type {\n",
       "        vertical-align: middle;\n",
       "    }\n",
       "\n",
       "    .dataframe tbody tr th {\n",
       "        vertical-align: top;\n",
       "    }\n",
       "\n",
       "    .dataframe thead th {\n",
       "        text-align: right;\n",
       "    }\n",
       "</style>\n",
       "<table border=\"1\" class=\"dataframe\">\n",
       "  <thead>\n",
       "    <tr style=\"text-align: right;\">\n",
       "      <th></th>\n",
       "      <th>HSNS1</th>\n",
       "      <th>HSNS2</th>\n",
       "      <th>HSNS3</th>\n",
       "      <th>HSNS4</th>\n",
       "      <th>HSNS5</th>\n",
       "      <th>HSNS6</th>\n",
       "      <th>HSNS7</th>\n",
       "      <th>HSNS8</th>\n",
       "      <th>HSNS9</th>\n",
       "      <th>HSNS10</th>\n",
       "      <th>DDP1</th>\n",
       "      <th>DDP2</th>\n",
       "      <th>DDP3</th>\n",
       "      <th>DDP4</th>\n",
       "      <th>DDN1</th>\n",
       "      <th>DDN2</th>\n",
       "      <th>DDN3</th>\n",
       "      <th>DDN4</th>\n",
       "      <th>DDM1</th>\n",
       "      <th>DDM2</th>\n",
       "      <th>DDM3</th>\n",
       "      <th>DDM4</th>\n",
       "      <th>age</th>\n",
       "      <th>gender</th>\n",
       "      <th>accuracy</th>\n",
       "      <th>country</th>\n",
       "      <th>HSNScale</th>\n",
       "      <th>cluster_label</th>\n",
       "      <th>DDPScale</th>\n",
       "      <th>DDMScale</th>\n",
       "      <th>H</th>\n",
       "      <th>D</th>\n",
       "      <th>S</th>\n",
       "      <th>age_bins</th>\n",
       "      <th>age_encoded</th>\n",
       "    </tr>\n",
       "  </thead>\n",
       "  <tbody>\n",
       "    <tr>\n",
       "      <td>0</td>\n",
       "      <td>2</td>\n",
       "      <td>4</td>\n",
       "      <td>5</td>\n",
       "      <td>1</td>\n",
       "      <td>4</td>\n",
       "      <td>5</td>\n",
       "      <td>4</td>\n",
       "      <td>3</td>\n",
       "      <td>3</td>\n",
       "      <td>2</td>\n",
       "      <td>1</td>\n",
       "      <td>1</td>\n",
       "      <td>4</td>\n",
       "      <td>4</td>\n",
       "      <td>2</td>\n",
       "      <td>1</td>\n",
       "      <td>1</td>\n",
       "      <td>1</td>\n",
       "      <td>1</td>\n",
       "      <td>2</td>\n",
       "      <td>2</td>\n",
       "      <td>1</td>\n",
       "      <td>37</td>\n",
       "      <td>2</td>\n",
       "      <td>98</td>\n",
       "      <td>1</td>\n",
       "      <td>0.62</td>\n",
       "      <td>2</td>\n",
       "      <td>0.5</td>\n",
       "      <td>0.3</td>\n",
       "      <td>43.661972</td>\n",
       "      <td>21.126761</td>\n",
       "      <td>21.126761</td>\n",
       "      <td>(22.5, 99.0]</td>\n",
       "      <td>2</td>\n",
       "    </tr>\n",
       "  </tbody>\n",
       "</table>\n",
       "</div>"
      ],
      "text/plain": [
       "   HSNS1  HSNS2  HSNS3  HSNS4  HSNS5  HSNS6  HSNS7  HSNS8  HSNS9  HSNS10  \\\n",
       "0      2      4      5      1      4      5      4      3      3       2   \n",
       "\n",
       "   DDP1  DDP2  DDP3  DDP4  DDN1  DDN2  DDN3  DDN4  DDM1  DDM2  DDM3  DDM4  \\\n",
       "0     1     1     4     4     2     1     1     1     1     2     2     1   \n",
       "\n",
       "   age  gender  accuracy  country  HSNScale  cluster_label  DDPScale  \\\n",
       "0   37       2        98        1      0.62              2       0.5   \n",
       "\n",
       "   DDMScale          H          D          S      age_bins age_encoded  \n",
       "0       0.3  43.661972  21.126761  21.126761  (22.5, 99.0]           2  "
      ]
     },
     "execution_count": 592,
     "metadata": {},
     "output_type": "execute_result"
    }
   ],
   "source": [
    "ds_binned.head(1)"
   ]
  },
  {
   "cell_type": "code",
   "execution_count": 593,
   "metadata": {},
   "outputs": [
    {
     "data": {
      "text/plain": [
       "2    25413\n",
       "0    14065\n",
       "1    13151\n",
       "Name: age_encoded, dtype: int64"
      ]
     },
     "execution_count": 593,
     "metadata": {},
     "output_type": "execute_result"
    }
   ],
   "source": [
    "ds_binned.age_encoded.value_counts(0)"
   ]
  },
  {
   "cell_type": "code",
   "execution_count": 594,
   "metadata": {},
   "outputs": [],
   "source": [
    "msk = np.random.rand(len(ds_binned)) < 0.975\n",
    "\n",
    "train = ds_binned[msk]\n",
    "\n",
    "test = ds_binned[~msk]"
   ]
  },
  {
   "cell_type": "code",
   "execution_count": 595,
   "metadata": {},
   "outputs": [],
   "source": [
    "X_test = test.drop(columns=[\"age\",'gender','accuracy','country','cluster_label','H',\"D\",'S','age_bins','age_encoded'],axis=1)\n",
    "y_test = test.age_encoded"
   ]
  },
  {
   "cell_type": "code",
   "execution_count": 596,
   "metadata": {},
   "outputs": [
    {
     "data": {
      "text/plain": [
       "2    24760\n",
       "0    13730\n",
       "1    12830\n",
       "Name: age_encoded, dtype: int64"
      ]
     },
     "execution_count": 596,
     "metadata": {},
     "output_type": "execute_result"
    }
   ],
   "source": [
    "train.age_encoded.value_counts()"
   ]
  },
  {
   "cell_type": "code",
   "execution_count": 597,
   "metadata": {},
   "outputs": [
    {
     "name": "stdout",
     "output_type": "stream",
     "text": [
      "0    13730\n",
      "2    13145\n",
      "1    12830\n",
      "Name: age_encoded, dtype: int64\n"
     ]
    }
   ],
   "source": [
    "from sklearn.utils import resample\n",
    "\n",
    "ds_majority=train.loc[train.age_encoded == 2]\n",
    "ds_minority = train.loc[train.age_encoded != 2]\n",
    "\n",
    "\n",
    "ds_majority_downsampled = resample(ds_majority,\n",
    "                                replace=False,\n",
    "                                n_samples=13145,\n",
    "                                random_state=67)\n",
    "\n",
    "ds_train = pd.concat([ds_majority_downsampled,ds_minority])\n",
    "\n",
    "\n",
    "# Display new class counts\n",
    "print (ds_train.age_encoded.value_counts())\n"
   ]
  },
  {
   "cell_type": "code",
   "execution_count": 598,
   "metadata": {},
   "outputs": [],
   "source": [
    "\n",
    "X_train = ds_train.drop(columns=[\"age\",'gender','accuracy','country','cluster_label','H',\"D\",'S','age_bins','age_encoded'],axis=1)\n",
    "y_train = ds_train.age_encoded"
   ]
  },
  {
   "cell_type": "code",
   "execution_count": 600,
   "metadata": {},
   "outputs": [
    {
     "name": "stderr",
     "output_type": "stream",
     "text": [
      "C:\\Users\\tvpia\\Anaconda3\\lib\\site-packages\\sklearn\\ensemble\\forest.py:245: FutureWarning:\n",
      "\n",
      "The default value of n_estimators will change from 10 in version 0.20 to 100 in 0.22.\n",
      "\n"
     ]
    },
    {
     "name": "stdout",
     "output_type": "stream",
     "text": [
      "accuracy: 0.37433155080213903 precision: [0.312      0.22459893 0.57471264] recall: [0.46567164 0.26168224 0.38284839] F1: [0.37365269 0.24172662 0.45955882]\n"
     ]
    }
   ],
   "source": [
    "model = RandomForestClassifier()\n",
    "model.fit(X_train, y_train)\n",
    "\n",
    "y_pred = model.predict(X_test)\n",
    "cm = confusion_matrix(y_test,y_pred)\n",
    "ac = accuracy_score(y_test, y_pred)\n",
    "pr = precision_score(y_test, y_pred,average=None)\n",
    "rc = recall_score(y_test, y_pred,average=None)\n",
    "f1 = f1_score(y_test, y_pred,average=None)\n",
    "\n",
    "print('accuracy:', ac, 'precision:', pr, 'recall:', rc, 'F1:', f1)"
   ]
  },
  {
   "cell_type": "markdown",
   "metadata": {},
   "source": [
    "Trying the same with Smote"
   ]
  },
  {
   "cell_type": "code",
   "execution_count": 602,
   "metadata": {},
   "outputs": [
    {
     "data": {
      "text/html": [
       "<div>\n",
       "<style scoped>\n",
       "    .dataframe tbody tr th:only-of-type {\n",
       "        vertical-align: middle;\n",
       "    }\n",
       "\n",
       "    .dataframe tbody tr th {\n",
       "        vertical-align: top;\n",
       "    }\n",
       "\n",
       "    .dataframe thead th {\n",
       "        text-align: right;\n",
       "    }\n",
       "</style>\n",
       "<table border=\"1\" class=\"dataframe\">\n",
       "  <thead>\n",
       "    <tr style=\"text-align: right;\">\n",
       "      <th></th>\n",
       "      <th>HSNS1</th>\n",
       "      <th>HSNS2</th>\n",
       "      <th>HSNS3</th>\n",
       "      <th>HSNS4</th>\n",
       "      <th>HSNS5</th>\n",
       "      <th>HSNS6</th>\n",
       "      <th>HSNS7</th>\n",
       "      <th>HSNS8</th>\n",
       "      <th>HSNS9</th>\n",
       "      <th>HSNS10</th>\n",
       "      <th>DDP1</th>\n",
       "      <th>DDP2</th>\n",
       "      <th>DDP3</th>\n",
       "      <th>DDP4</th>\n",
       "      <th>DDN1</th>\n",
       "      <th>DDN2</th>\n",
       "      <th>DDN3</th>\n",
       "      <th>DDN4</th>\n",
       "      <th>DDM1</th>\n",
       "      <th>DDM2</th>\n",
       "      <th>DDM3</th>\n",
       "      <th>DDM4</th>\n",
       "      <th>age</th>\n",
       "      <th>gender</th>\n",
       "      <th>accuracy</th>\n",
       "      <th>country</th>\n",
       "      <th>HSNScale</th>\n",
       "      <th>cluster_label</th>\n",
       "      <th>DDPScale</th>\n",
       "      <th>DDMScale</th>\n",
       "      <th>H</th>\n",
       "      <th>D</th>\n",
       "      <th>S</th>\n",
       "      <th>age_bins</th>\n",
       "      <th>age_encoded</th>\n",
       "    </tr>\n",
       "  </thead>\n",
       "  <tbody>\n",
       "    <tr>\n",
       "      <td>0</td>\n",
       "      <td>2</td>\n",
       "      <td>4</td>\n",
       "      <td>5</td>\n",
       "      <td>1</td>\n",
       "      <td>4</td>\n",
       "      <td>5</td>\n",
       "      <td>4</td>\n",
       "      <td>3</td>\n",
       "      <td>3</td>\n",
       "      <td>2</td>\n",
       "      <td>1</td>\n",
       "      <td>1</td>\n",
       "      <td>4</td>\n",
       "      <td>4</td>\n",
       "      <td>2</td>\n",
       "      <td>1</td>\n",
       "      <td>1</td>\n",
       "      <td>1</td>\n",
       "      <td>1</td>\n",
       "      <td>2</td>\n",
       "      <td>2</td>\n",
       "      <td>1</td>\n",
       "      <td>37</td>\n",
       "      <td>2</td>\n",
       "      <td>98</td>\n",
       "      <td>1</td>\n",
       "      <td>0.62</td>\n",
       "      <td>2</td>\n",
       "      <td>0.5</td>\n",
       "      <td>0.3</td>\n",
       "      <td>43.661972</td>\n",
       "      <td>21.126761</td>\n",
       "      <td>21.126761</td>\n",
       "      <td>(22.5, 99.0]</td>\n",
       "      <td>2</td>\n",
       "    </tr>\n",
       "  </tbody>\n",
       "</table>\n",
       "</div>"
      ],
      "text/plain": [
       "   HSNS1  HSNS2  HSNS3  HSNS4  HSNS5  HSNS6  HSNS7  HSNS8  HSNS9  HSNS10  \\\n",
       "0      2      4      5      1      4      5      4      3      3       2   \n",
       "\n",
       "   DDP1  DDP2  DDP3  DDP4  DDN1  DDN2  DDN3  DDN4  DDM1  DDM2  DDM3  DDM4  \\\n",
       "0     1     1     4     4     2     1     1     1     1     2     2     1   \n",
       "\n",
       "   age  gender  accuracy  country  HSNScale  cluster_label  DDPScale  \\\n",
       "0   37       2        98        1      0.62              2       0.5   \n",
       "\n",
       "   DDMScale          H          D          S      age_bins age_encoded  \n",
       "0       0.3  43.661972  21.126761  21.126761  (22.5, 99.0]           2  "
      ]
     },
     "execution_count": 602,
     "metadata": {},
     "output_type": "execute_result"
    }
   ],
   "source": [
    "ds_binned.head(1)"
   ]
  },
  {
   "cell_type": "code",
   "execution_count": 603,
   "metadata": {},
   "outputs": [],
   "source": [
    "X_test = ds_binned.drop(columns=[\"age\",'gender','accuracy','country','cluster_label','H',\"D\",'S','age_bins','age_encoded'],axis=1)\n",
    "y_test = ds_binned.age_encoded\n",
    "\n",
    "X_train, X_test, y_train, y_test = train_test_split(X, y, test_size = 0.025, random_state=67)"
   ]
  },
  {
   "cell_type": "code",
   "execution_count": 604,
   "metadata": {},
   "outputs": [
    {
     "name": "stdout",
     "output_type": "stream",
     "text": [
      "2    22512\n",
      "1    15072\n",
      "0    13729\n",
      "Name: age_encoded, dtype: int64 [22512 22512 22512]\n"
     ]
    }
   ],
   "source": [
    "sm = SMOTE(random_state=67)\n",
    "x_train_res, y_train_res = sm.fit_sample(X_train, y_train)\n",
    "print (y_train.value_counts() , np.bincount(y_train_res))"
   ]
  },
  {
   "cell_type": "code",
   "execution_count": 605,
   "metadata": {},
   "outputs": [
    {
     "name": "stderr",
     "output_type": "stream",
     "text": [
      "C:\\Users\\tvpia\\Anaconda3\\lib\\site-packages\\sklearn\\ensemble\\forest.py:245: FutureWarning:\n",
      "\n",
      "The default value of n_estimators will change from 10 in version 0.20 to 100 in 0.22.\n",
      "\n"
     ]
    },
    {
     "name": "stdout",
     "output_type": "stream",
     "text": [
      "accuracy: 0.4331306990881459 precision: [0.35327635 0.35376045 0.52640264] recall: [0.36904762 0.30528846 0.56560284] F1: [0.36098981 0.32774194 0.54529915]\n"
     ]
    }
   ],
   "source": [
    "model = RandomForestClassifier()\n",
    "model.fit(x_train_res, y_train_res)\n",
    "\n",
    "y_pred = model.predict(X_test)\n",
    "cm = confusion_matrix(y_test,y_pred)\n",
    "ac = accuracy_score(y_test, y_pred)\n",
    "pr = precision_score(y_test, y_pred,average=None)\n",
    "rc = recall_score(y_test, y_pred,average=None)\n",
    "f1 = f1_score(y_test, y_pred,average=None)\n",
    "\n",
    "print('accuracy:', ac, 'precision:', pr, 'recall:', rc, 'F1:', f1)"
   ]
  },
  {
   "cell_type": "code",
   "execution_count": 610,
   "metadata": {},
   "outputs": [
    {
     "data": {
      "text/plain": [
       "0    493\n",
       "1    469\n",
       "2    354\n",
       "dtype: int64"
      ]
     },
     "execution_count": 610,
     "metadata": {},
     "output_type": "execute_result"
    }
   ],
   "source": [
    "num_out_perc = pd.Series(y_pred)\n",
    "num_out_perc.value_counts()"
   ]
  },
  {
   "cell_type": "code",
   "execution_count": 613,
   "metadata": {},
   "outputs": [
    {
     "data": {
      "text/plain": [
       "Index(['Under 18', '18-23', 'Over 23'], dtype='object')"
      ]
     },
     "execution_count": 613,
     "metadata": {},
     "output_type": "execute_result"
    }
   ],
   "source": [
    "num_out_perc_real.index"
   ]
  },
  {
   "cell_type": "code",
   "execution_count": 646,
   "metadata": {},
   "outputs": [
    {
     "data": {
      "image/png": "[encoded data removed]",
      "text/plain": [
       "<Figure size 1440x720 with 2 Axes>"
      ]
     },
     "metadata": {},
     "output_type": "display_data"
    }
   ],
   "source": [
    "import matplotlib.pyplot as plt\n",
    "# Percentage of outcome numerical\n",
    "num_out_perc_real = y_test.value_counts()/y_test.value_counts().sum()\n",
    "#Rename index for outcome in categorical\n",
    "num_out_perc_real.index = ['0', '1','2']\n",
    "num_out_perc_real\n",
    "\n",
    "### The Predicted Outcome values - viz 2' #### Percentage of outcome numerical\n",
    "num_out_perc_pred = num_out_perc.value_counts()/num_out_perc.value_counts().sum()\n",
    "#Rename index for outcome in categorical\n",
    "num_out_perc_pred.index = ['0', '1','2']\n",
    "num_out_perc_pred\n",
    "\n",
    "# Prediction Vs\n",
    "fig, axs = plt.subplots(1, 2, figsize=(20, 10))\n",
    "axs[0].bar(num_out_perc_real.index ,num_out_perc_real )\n",
    "axs[1].bar(num_out_perc_pred.index ,num_out_perc_pred)\n",
    "fig.suptitle('Reality vs Prediction', fontsize=20)\n",
    "plt.show()"
   ]
  },
  {
   "cell_type": "code",
   "execution_count": 649,
   "metadata": {},
   "outputs": [
    {
     "data": {
      "image/png": "[encoded data removed]",
      "text/plain": [
       "<Figure size 432x288 with 1 Axes>"
      ]
     },
     "metadata": {},
     "output_type": "display_data"
    }
   ],
   "source": [
    "## Stigma. What more easely would you bring up on an interview\n",
    "X = ['Over 23', '18-23','Under 18']\n",
    "_X = np.arange(len(X))\n",
    "#plt.figure(num=None, figsize=(11,7), dpi=80, facecolor='w', edgecolor='k')\n",
    "width = 0.1\n",
    "plt.bar(_X , num_out_perc_real , width = width,label='Real data', color='powderblue')\n",
    "plt.bar(_X + width, num_out_perc_pred ,width = width, label='Prediction')\n",
    "#plt.bar(_X-width , num_out_perc_real , width = width,label='Real data', color='powderblue')\n",
    "plt.xticks(_X, X)# set labels manually\n",
    "plt.ylabel('%')\n",
    "plt.legend(['Reality','Prediction'], bbox_to_anchor=(1.05, 1), loc='upper left', borderaxespad=0.)\n",
    "plt.title('Reality vs Prediction')\n",
    "plt.savefig('Social_Stigma.png', bbox_inches='tight')\n",
    "plt.show()"
   ]
  },
  {
   "cell_type": "code",
   "execution_count": null,
   "metadata": {},
   "outputs": [],
   "source": [
    "## Stigma. What more easely would you bring up on an interview \n",
    "X = ['Under 18', '18-23','Over 23']\n",
    "_X = np.arange(len(X))\n",
    "figure(num=None, figsize=(15,7), dpi=80, facecolor='w', edgecolor='k')\n",
    "width = 0.4\n",
    "plt.bar(_X , hi , width = width,label='phys_health_')\n",
    "plt.bar(_X + width, mi ,width = width, label='mental_health')\n",
    "plt.xticks(_X, X)# set labels manually\n",
    "plt.ylabel('# of Answers')\n",
    "plt.legend(['PHYSICAL HEALTH','MENTAL HEALTH'], bbox_to_anchor=(1.05, 1), loc='upper left', borderaxespad=0.)\n",
    "plt.title('SOCIAL STIGMA')#plt.savefig('Social_Stigma.png', bbox_inches='tight')\n",
    "plt.show()"
   ]
  },
  {
   "cell_type": "markdown",
   "metadata": {},
   "source": [
    "KNN"
   ]
  },
  {
   "cell_type": "code",
   "execution_count": 511,
   "metadata": {},
   "outputs": [],
   "source": [
    "from sklearn.neighbors import KNeighborsClassifier"
   ]
  },
  {
   "cell_type": "code",
   "execution_count": 608,
   "metadata": {},
   "outputs": [],
   "source": [
    "\n",
    "knn = KNeighborsClassifier(n_neighbors = 12)  \n",
    "\n",
    "knn.fit(x_train_res, y_train_res)\n",
    "y_pred = knn.predict(X_test)"
   ]
  },
  {
   "cell_type": "code",
   "execution_count": 609,
   "metadata": {},
   "outputs": [
    {
     "data": {
      "text/plain": [
       "0.3882978723404255"
      ]
     },
     "execution_count": 609,
     "metadata": {},
     "output_type": "execute_result"
    }
   ],
   "source": [
    "ac = accuracy_score(y_test, y_pred)\n",
    "ac"
   ]
  },
  {
   "cell_type": "code",
   "execution_count": null,
   "metadata": {},
   "outputs": [],
   "source": []
  },
  {
   "cell_type": "code",
   "execution_count": 357,
   "metadata": {},
   "outputs": [
    {
     "data": {
      "text/plain": [
       "0.6311399443929564"
      ]
     },
     "execution_count": 357,
     "metadata": {},
     "output_type": "execute_result"
    }
   ],
   "source": [
    "ac = accuracy_score(y_test, y_pred)\n",
    "ac"
   ]
  },
  {
   "cell_type": "code",
   "execution_count": 313,
   "metadata": {},
   "outputs": [],
   "source": [
    "k_range=range(3,29)\n",
    "scores=[]"
   ]
  },
  {
   "cell_type": "code",
   "execution_count": 314,
   "metadata": {},
   "outputs": [],
   "source": [
    "for k in k_range:\n",
    "    knn = KNeighborsClassifier(n_neighbors=k)\n",
    "    knn.fit(x_train_res,y_train_res)\n",
    "    y_pred = knn.predict(X_test)\n",
    "    scores.append(accuracy_score(y_test,y_pred))"
   ]
  },
  {
   "cell_type": "code",
   "execution_count": 315,
   "metadata": {},
   "outputs": [
    {
     "data": {
      "text/plain": [
       "Text(0, 0.5, 'Testing accuracy')"
      ]
     },
     "execution_count": 315,
     "metadata": {},
     "output_type": "execute_result"
    },
    {
     "data": {
      "image/png": "[encoded data removed]",
      "text/plain": [
       "<Figure size 432x288 with 1 Axes>"
      ]
     },
     "metadata": {
      "needs_background": "light"
     },
     "output_type": "display_data"
    }
   ],
   "source": [
    "import matplotlib.pyplot as plt\n",
    "%matplotlib inline\n",
    "\n",
    "plt.plot(k_range, scores)\n",
    "plt.xlabel(\"Value of K for KNN\")\n",
    "plt.ylabel(\"Testing accuracy\")"
   ]
  }
 ],
 "metadata": {
  "kernelspec": {
   "display_name": "Python 3",
   "language": "python",
   "name": "python3"
  },
  "language_info": {
   "codemirror_mode": {
    "name": "ipython",
    "version": 3
   },
   "file_extension": ".py",
   "mimetype": "text/x-python",
   "name": "python",
   "nbconvert_exporter": "python",
   "pygments_lexer": "ipython3",
   "version": "3.7.4"
  }
 },
 "nbformat": 4,
 "nbformat_minor": 2
}
