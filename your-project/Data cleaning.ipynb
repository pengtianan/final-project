{
 "cells": [
  {
   "cell_type": "code",
   "execution_count": 182,
   "metadata": {},
   "outputs": [],
   "source": [
    "#importing libraries\n",
    "import pandas as pd\n",
    "import numpy as np\n",
    "import seaborn as sns; sns.set()\n",
    "import matplotlib.pyplot as plt\n",
    "pd.set_option('max_columns', 150)"
   ]
  },
  {
   "cell_type": "code",
   "execution_count": 183,
   "metadata": {},
   "outputs": [],
   "source": [
    "ds = pd.read_csv(\"C:/Users/tvpia/Desktop/test/HSNS+DD/HSNS+DD/data.csv\",sep=\"\\t\")"
   ]
  },
  {
   "cell_type": "code",
   "execution_count": 184,
   "metadata": {},
   "outputs": [
    {
     "data": {
      "text/html": [
       "<div>\n",
       "<style scoped>\n",
       "    .dataframe tbody tr th:only-of-type {\n",
       "        vertical-align: middle;\n",
       "    }\n",
       "\n",
       "    .dataframe tbody tr th {\n",
       "        vertical-align: top;\n",
       "    }\n",
       "\n",
       "    .dataframe thead th {\n",
       "        text-align: right;\n",
       "    }\n",
       "</style>\n",
       "<table border=\"1\" class=\"dataframe\">\n",
       "  <thead>\n",
       "    <tr style=\"text-align: right;\">\n",
       "      <th></th>\n",
       "      <th>HSNS1</th>\n",
       "      <th>HSNS2</th>\n",
       "      <th>HSNS3</th>\n",
       "      <th>HSNS4</th>\n",
       "      <th>HSNS5</th>\n",
       "      <th>HSNS6</th>\n",
       "      <th>HSNS7</th>\n",
       "      <th>HSNS8</th>\n",
       "      <th>HSNS9</th>\n",
       "      <th>HSNS10</th>\n",
       "      <th>DDP1</th>\n",
       "      <th>DDP2</th>\n",
       "      <th>DDP3</th>\n",
       "      <th>DDP4</th>\n",
       "      <th>DDN1</th>\n",
       "      <th>DDN2</th>\n",
       "      <th>DDN3</th>\n",
       "      <th>DDN4</th>\n",
       "      <th>DDM1</th>\n",
       "      <th>DDM2</th>\n",
       "      <th>DDM3</th>\n",
       "      <th>DDM4</th>\n",
       "      <th>age</th>\n",
       "      <th>gender</th>\n",
       "      <th>accuracy</th>\n",
       "      <th>country</th>\n",
       "    </tr>\n",
       "  </thead>\n",
       "  <tbody>\n",
       "    <tr>\n",
       "      <td>0</td>\n",
       "      <td>2</td>\n",
       "      <td>4</td>\n",
       "      <td>5</td>\n",
       "      <td>1</td>\n",
       "      <td>4</td>\n",
       "      <td>5</td>\n",
       "      <td>4</td>\n",
       "      <td>3</td>\n",
       "      <td>3</td>\n",
       "      <td>2</td>\n",
       "      <td>1</td>\n",
       "      <td>1</td>\n",
       "      <td>4</td>\n",
       "      <td>4</td>\n",
       "      <td>2</td>\n",
       "      <td>1</td>\n",
       "      <td>1</td>\n",
       "      <td>1</td>\n",
       "      <td>1</td>\n",
       "      <td>2</td>\n",
       "      <td>2</td>\n",
       "      <td>1</td>\n",
       "      <td>37</td>\n",
       "      <td>2</td>\n",
       "      <td>98</td>\n",
       "      <td>PT</td>\n",
       "    </tr>\n",
       "    <tr>\n",
       "      <td>1</td>\n",
       "      <td>4</td>\n",
       "      <td>2</td>\n",
       "      <td>2</td>\n",
       "      <td>4</td>\n",
       "      <td>3</td>\n",
       "      <td>4</td>\n",
       "      <td>4</td>\n",
       "      <td>5</td>\n",
       "      <td>4</td>\n",
       "      <td>3</td>\n",
       "      <td>4</td>\n",
       "      <td>4</td>\n",
       "      <td>2</td>\n",
       "      <td>4</td>\n",
       "      <td>3</td>\n",
       "      <td>2</td>\n",
       "      <td>2</td>\n",
       "      <td>3</td>\n",
       "      <td>4</td>\n",
       "      <td>4</td>\n",
       "      <td>4</td>\n",
       "      <td>3</td>\n",
       "      <td>34</td>\n",
       "      <td>3</td>\n",
       "      <td>95</td>\n",
       "      <td>PL</td>\n",
       "    </tr>\n",
       "    <tr>\n",
       "      <td>2</td>\n",
       "      <td>5</td>\n",
       "      <td>5</td>\n",
       "      <td>5</td>\n",
       "      <td>4</td>\n",
       "      <td>2</td>\n",
       "      <td>5</td>\n",
       "      <td>5</td>\n",
       "      <td>4</td>\n",
       "      <td>4</td>\n",
       "      <td>2</td>\n",
       "      <td>2</td>\n",
       "      <td>2</td>\n",
       "      <td>2</td>\n",
       "      <td>4</td>\n",
       "      <td>4</td>\n",
       "      <td>2</td>\n",
       "      <td>4</td>\n",
       "      <td>3</td>\n",
       "      <td>3</td>\n",
       "      <td>4</td>\n",
       "      <td>4</td>\n",
       "      <td>2</td>\n",
       "      <td>22</td>\n",
       "      <td>2</td>\n",
       "      <td>80</td>\n",
       "      <td>AU</td>\n",
       "    </tr>\n",
       "    <tr>\n",
       "      <td>3</td>\n",
       "      <td>4</td>\n",
       "      <td>1</td>\n",
       "      <td>2</td>\n",
       "      <td>2</td>\n",
       "      <td>4</td>\n",
       "      <td>5</td>\n",
       "      <td>2</td>\n",
       "      <td>2</td>\n",
       "      <td>5</td>\n",
       "      <td>2</td>\n",
       "      <td>4</td>\n",
       "      <td>2</td>\n",
       "      <td>4</td>\n",
       "      <td>0</td>\n",
       "      <td>5</td>\n",
       "      <td>5</td>\n",
       "      <td>4</td>\n",
       "      <td>1</td>\n",
       "      <td>4</td>\n",
       "      <td>2</td>\n",
       "      <td>3</td>\n",
       "      <td>4</td>\n",
       "      <td>24</td>\n",
       "      <td>1</td>\n",
       "      <td>99</td>\n",
       "      <td>US</td>\n",
       "    </tr>\n",
       "    <tr>\n",
       "      <td>4</td>\n",
       "      <td>5</td>\n",
       "      <td>3</td>\n",
       "      <td>4</td>\n",
       "      <td>5</td>\n",
       "      <td>5</td>\n",
       "      <td>5</td>\n",
       "      <td>4</td>\n",
       "      <td>5</td>\n",
       "      <td>4</td>\n",
       "      <td>3</td>\n",
       "      <td>4</td>\n",
       "      <td>3</td>\n",
       "      <td>4</td>\n",
       "      <td>4</td>\n",
       "      <td>4</td>\n",
       "      <td>2</td>\n",
       "      <td>5</td>\n",
       "      <td>2</td>\n",
       "      <td>4</td>\n",
       "      <td>4</td>\n",
       "      <td>1</td>\n",
       "      <td>5</td>\n",
       "      <td>21</td>\n",
       "      <td>2</td>\n",
       "      <td>90</td>\n",
       "      <td>US</td>\n",
       "    </tr>\n",
       "  </tbody>\n",
       "</table>\n",
       "</div>"
      ],
      "text/plain": [
       "   HSNS1  HSNS2  HSNS3  HSNS4  HSNS5  HSNS6  HSNS7  HSNS8  HSNS9  HSNS10  \\\n",
       "0      2      4      5      1      4      5      4      3      3       2   \n",
       "1      4      2      2      4      3      4      4      5      4       3   \n",
       "2      5      5      5      4      2      5      5      4      4       2   \n",
       "3      4      1      2      2      4      5      2      2      5       2   \n",
       "4      5      3      4      5      5      5      4      5      4       3   \n",
       "\n",
       "   DDP1  DDP2  DDP3  DDP4  DDN1  DDN2  DDN3  DDN4  DDM1  DDM2  DDM3  DDM4  \\\n",
       "0     1     1     4     4     2     1     1     1     1     2     2     1   \n",
       "1     4     4     2     4     3     2     2     3     4     4     4     3   \n",
       "2     2     2     2     4     4     2     4     3     3     4     4     2   \n",
       "3     4     2     4     0     5     5     4     1     4     2     3     4   \n",
       "4     4     3     4     4     4     2     5     2     4     4     1     5   \n",
       "\n",
       "   age  gender  accuracy country  \n",
       "0   37       2        98      PT  \n",
       "1   34       3        95      PL  \n",
       "2   22       2        80      AU  \n",
       "3   24       1        99      US  \n",
       "4   21       2        90      US  "
      ]
     },
     "execution_count": 184,
     "metadata": {},
     "output_type": "execute_result"
    }
   ],
   "source": [
    "ds.head(5)"
   ]
  },
  {
   "cell_type": "code",
   "execution_count": 185,
   "metadata": {},
   "outputs": [
    {
     "name": "stdout",
     "output_type": "stream",
     "text": [
      "<class 'pandas.core.frame.DataFrame'>\n",
      "RangeIndex: 53981 entries, 0 to 53980\n",
      "Data columns (total 26 columns):\n",
      "HSNS1       53981 non-null int64\n",
      "HSNS2       53981 non-null int64\n",
      "HSNS3       53981 non-null int64\n",
      "HSNS4       53981 non-null int64\n",
      "HSNS5       53981 non-null int64\n",
      "HSNS6       53981 non-null int64\n",
      "HSNS7       53981 non-null int64\n",
      "HSNS8       53981 non-null int64\n",
      "HSNS9       53981 non-null int64\n",
      "HSNS10      53981 non-null int64\n",
      "DDP1        53981 non-null int64\n",
      "DDP2        53981 non-null int64\n",
      "DDP3        53981 non-null int64\n",
      "DDP4        53981 non-null int64\n",
      "DDN1        53981 non-null int64\n",
      "DDN2        53981 non-null int64\n",
      "DDN3        53981 non-null int64\n",
      "DDN4        53981 non-null int64\n",
      "DDM1        53981 non-null int64\n",
      "DDM2        53981 non-null int64\n",
      "DDM3        53981 non-null int64\n",
      "DDM4        53981 non-null int64\n",
      "age         53981 non-null int64\n",
      "gender      53981 non-null int64\n",
      "accuracy    53981 non-null int64\n",
      "country     53977 non-null object\n",
      "dtypes: int64(25), object(1)\n",
      "memory usage: 10.7+ MB\n"
     ]
    }
   ],
   "source": [
    "ds.info()"
   ]
  },
  {
   "cell_type": "code",
   "execution_count": 186,
   "metadata": {},
   "outputs": [
    {
     "data": {
      "text/plain": [
       "(53981, 26)"
      ]
     },
     "execution_count": 186,
     "metadata": {},
     "output_type": "execute_result"
    }
   ],
   "source": [
    "ds.shape"
   ]
  },
  {
   "cell_type": "code",
   "execution_count": 187,
   "metadata": {},
   "outputs": [
    {
     "data": {
      "text/plain": [
       "HSNS1       0\n",
       "HSNS2       0\n",
       "HSNS3       0\n",
       "HSNS4       0\n",
       "HSNS5       0\n",
       "HSNS6       0\n",
       "HSNS7       0\n",
       "HSNS8       0\n",
       "HSNS9       0\n",
       "HSNS10      0\n",
       "DDP1        0\n",
       "DDP2        0\n",
       "DDP3        0\n",
       "DDP4        0\n",
       "DDN1        0\n",
       "DDN2        0\n",
       "DDN3        0\n",
       "DDN4        0\n",
       "DDM1        0\n",
       "DDM2        0\n",
       "DDM3        0\n",
       "DDM4        0\n",
       "age         0\n",
       "gender      0\n",
       "accuracy    0\n",
       "country     4\n",
       "dtype: int64"
      ]
     },
     "execution_count": 187,
     "metadata": {},
     "output_type": "execute_result"
    }
   ],
   "source": [
    "ds.isnull().sum()\n",
    "#there are no missing values, however some values are 0 and 0 is not a recognized answer, let's take care of this case by case"
   ]
  },
  {
   "cell_type": "code",
   "execution_count": 188,
   "metadata": {},
   "outputs": [
    {
     "data": {
      "text/plain": [
       "1.9414238343120727"
      ]
     },
     "execution_count": 188,
     "metadata": {},
     "output_type": "execute_result"
    }
   ],
   "source": [
    "len(ds.loc[(ds.gender == 0) |(ds.age ==0)])/ds.shape[0]*100\n",
    "#Since the age and the gender may be important in the prediction, and that the missing values for those\n",
    "#columns only account for 2% of the rows, I think we should drop it, sadly"
   ]
  },
  {
   "cell_type": "code",
   "execution_count": 189,
   "metadata": {},
   "outputs": [],
   "source": [
    "ds.drop(ds[ds['age'] == 0].index, inplace = True) \n",
    "ds.drop(ds[ds['gender'] == 0].index, inplace = True) "
   ]
  },
  {
   "cell_type": "markdown",
   "metadata": {},
   "source": [
    "Lets proceed with cleaning the age column, as I choose not to keep values under 13(kids personnality may still be changing, this is my own personal choice) and over 90 (these values are probably not serious since this is an onine survey and we want to keep serious answers)\n",
    "These entries only account for 0.5% of remaining entries, as seen below"
   ]
  },
  {
   "cell_type": "code",
   "execution_count": 190,
   "metadata": {},
   "outputs": [
    {
     "data": {
      "text/plain": [
       "0.4231764683656698"
      ]
     },
     "execution_count": 190,
     "metadata": {},
     "output_type": "execute_result"
    }
   ],
   "source": [
    "len(ds.loc[(ds.age < 13) |(ds.age > 90)])/ds.shape[0]*100"
   ]
  },
  {
   "cell_type": "code",
   "execution_count": 191,
   "metadata": {},
   "outputs": [],
   "source": [
    "ds.drop(ds[ds['age'] < 13].index, inplace = True) \n",
    "ds.drop(ds[ds['age'] > 90].index, inplace = True) "
   ]
  },
  {
   "cell_type": "markdown",
   "metadata": {},
   "source": [
    "Regarding the accuracy column, the 0s have already been removed (see codebook).\n",
    "Only 35 values are above 100, lets drows these rows that may not be serious answers."
   ]
  },
  {
   "cell_type": "code",
   "execution_count": 192,
   "metadata": {},
   "outputs": [
    {
     "data": {
      "text/plain": [
       "(52674, 26)"
      ]
     },
     "execution_count": 192,
     "metadata": {},
     "output_type": "execute_result"
    }
   ],
   "source": [
    "notacc = ds.loc[ds.accuracy > 100].index\n",
    "ds.drop(notacc, inplace=True)\n",
    "ds.shape"
   ]
  },
  {
   "cell_type": "markdown",
   "metadata": {},
   "source": [
    "Now that the age and accuracy columns are cleaned, lets standard scale them to ease future machine learning models."
   ]
  },
  {
   "cell_type": "code",
   "execution_count": 77,
   "metadata": {},
   "outputs": [
    {
     "name": "stderr",
     "output_type": "stream",
     "text": [
      "C:\\Users\\tvpia\\Anaconda3\\lib\\site-packages\\sklearn\\compose\\_column_transformer.py:778: DeprecationWarning: `make_column_transformer` now expects (transformer, columns) as input tuples instead of (columns, transformer). This has been introduced in v0.20.1. `make_column_transformer` will stop accepting the deprecated (columns, transformer) order in v0.22.\n",
      "  warnings.warn(message, DeprecationWarning)\n"
     ]
    }
   ],
   "source": [
    "from sklearn.compose import ColumnTransformer, make_column_transformer\n",
    "\n",
    "\n",
    "preprocess = make_column_transformer(\n",
    "    (['age', 'accuracy'], StandardScaler())\n",
    ")\n",
    "\n"
   ]
  },
  {
   "cell_type": "code",
   "execution_count": 74,
   "metadata": {},
   "outputs": [],
   "source": [
    "from sklearn.preprocessing import StandardScaler\n",
    "\n",
    "sc = StandardScaler()\n",
    "features = ds.iloc[:,[22,24]].values\n",
    "features_scaled = sc.fit_transform(features)\n"
   ]
  },
  {
   "cell_type": "markdown",
   "metadata": {},
   "source": [
    "Actually this can be done later easily with make column transformer, so lets it like this for the momemnt"
   ]
  },
  {
   "cell_type": "markdown",
   "metadata": {},
   "source": [
    "Now lets focus on the tests answers that have 0 values. I dont to drop many rows, lets drop the rows with more than 3 missing answers."
   ]
  },
  {
   "cell_type": "code",
   "execution_count": 121,
   "metadata": {},
   "outputs": [
    {
     "data": {
      "text/plain": [
       "(52674, 26)"
      ]
     },
     "execution_count": 121,
     "metadata": {},
     "output_type": "execute_result"
    }
   ],
   "source": [
    "ds.shape"
   ]
  },
  {
   "cell_type": "code",
   "execution_count": 143,
   "metadata": {},
   "outputs": [],
   "source": [
    "ds.mask(ds==0).dropna(thresh=26,inplace=True)"
   ]
  },
  {
   "cell_type": "code",
   "execution_count": 144,
   "metadata": {},
   "outputs": [
    {
     "data": {
      "text/plain": [
       "(52674, 26)"
      ]
     },
     "execution_count": 144,
     "metadata": {},
     "output_type": "execute_result"
    }
   ],
   "source": [
    "ds.shape\n",
    "#No rows seem to have 3 missing values or more\n",
    "\n"
   ]
  },
  {
   "cell_type": "code",
   "execution_count": 81,
   "metadata": {},
   "outputs": [
    {
     "data": {
      "text/plain": [
       "21"
      ]
     },
     "execution_count": 81,
     "metadata": {},
     "output_type": "execute_result"
    }
   ],
   "source": [
    "ds.columns.get_loc(\"DDM4\")\n",
    "#all first 22 columns are answers to the test, we want to know the number of rows that contain at least a 0 within thos columns"
   ]
  },
  {
   "cell_type": "code",
   "execution_count": 87,
   "metadata": {},
   "outputs": [
    {
     "data": {
      "text/plain": [
       "Index(['HSNS1', 'HSNS2', 'HSNS3', 'HSNS4', 'HSNS5', 'HSNS6', 'HSNS7', 'HSNS8',\n",
       "       'HSNS9', 'HSNS10', 'DDP1', 'DDP2', 'DDP3', 'DDP4', 'DDN1', 'DDN2',\n",
       "       'DDN3', 'DDN4', 'DDM1', 'DDM2', 'DDM3', 'DDM4'],\n",
       "      dtype='object')"
      ]
     },
     "execution_count": 87,
     "metadata": {},
     "output_type": "execute_result"
    }
   ],
   "source": [
    "labels = ds.iloc[:,:22].columns\n",
    "labels"
   ]
  },
  {
   "cell_type": "code",
   "execution_count": 106,
   "metadata": {
    "scrolled": true
   },
   "outputs": [
    {
     "data": {
      "text/html": [
       "<div>\n",
       "<style scoped>\n",
       "    .dataframe tbody tr th:only-of-type {\n",
       "        vertical-align: middle;\n",
       "    }\n",
       "\n",
       "    .dataframe tbody tr th {\n",
       "        vertical-align: top;\n",
       "    }\n",
       "\n",
       "    .dataframe thead th {\n",
       "        text-align: right;\n",
       "    }\n",
       "</style>\n",
       "<table border=\"1\" class=\"dataframe\">\n",
       "  <thead>\n",
       "    <tr style=\"text-align: right;\">\n",
       "      <th></th>\n",
       "      <th>HSNS1</th>\n",
       "      <th>HSNS2</th>\n",
       "      <th>HSNS3</th>\n",
       "      <th>HSNS4</th>\n",
       "      <th>HSNS5</th>\n",
       "      <th>HSNS6</th>\n",
       "      <th>HSNS7</th>\n",
       "      <th>HSNS8</th>\n",
       "      <th>HSNS9</th>\n",
       "      <th>HSNS10</th>\n",
       "      <th>DDP1</th>\n",
       "      <th>DDP2</th>\n",
       "      <th>DDP3</th>\n",
       "      <th>DDP4</th>\n",
       "      <th>DDN1</th>\n",
       "      <th>DDN2</th>\n",
       "      <th>DDN3</th>\n",
       "      <th>DDN4</th>\n",
       "      <th>DDM1</th>\n",
       "      <th>DDM2</th>\n",
       "      <th>DDM3</th>\n",
       "      <th>DDM4</th>\n",
       "      <th>age</th>\n",
       "      <th>gender</th>\n",
       "      <th>accuracy</th>\n",
       "      <th>country</th>\n",
       "    </tr>\n",
       "  </thead>\n",
       "  <tbody>\n",
       "    <tr>\n",
       "      <td>3</td>\n",
       "      <td>4</td>\n",
       "      <td>1</td>\n",
       "      <td>2</td>\n",
       "      <td>2</td>\n",
       "      <td>4</td>\n",
       "      <td>5</td>\n",
       "      <td>2</td>\n",
       "      <td>2</td>\n",
       "      <td>5</td>\n",
       "      <td>2</td>\n",
       "      <td>4</td>\n",
       "      <td>2</td>\n",
       "      <td>4</td>\n",
       "      <td>0</td>\n",
       "      <td>5</td>\n",
       "      <td>5</td>\n",
       "      <td>4</td>\n",
       "      <td>1</td>\n",
       "      <td>4</td>\n",
       "      <td>2</td>\n",
       "      <td>3</td>\n",
       "      <td>4</td>\n",
       "      <td>24</td>\n",
       "      <td>1</td>\n",
       "      <td>99</td>\n",
       "      <td>US</td>\n",
       "    </tr>\n",
       "    <tr>\n",
       "      <td>10</td>\n",
       "      <td>5</td>\n",
       "      <td>5</td>\n",
       "      <td>4</td>\n",
       "      <td>3</td>\n",
       "      <td>0</td>\n",
       "      <td>5</td>\n",
       "      <td>5</td>\n",
       "      <td>5</td>\n",
       "      <td>5</td>\n",
       "      <td>5</td>\n",
       "      <td>4</td>\n",
       "      <td>5</td>\n",
       "      <td>5</td>\n",
       "      <td>5</td>\n",
       "      <td>1</td>\n",
       "      <td>1</td>\n",
       "      <td>3</td>\n",
       "      <td>3</td>\n",
       "      <td>5</td>\n",
       "      <td>5</td>\n",
       "      <td>1</td>\n",
       "      <td>4</td>\n",
       "      <td>20</td>\n",
       "      <td>1</td>\n",
       "      <td>80</td>\n",
       "      <td>US</td>\n",
       "    </tr>\n",
       "    <tr>\n",
       "      <td>28</td>\n",
       "      <td>5</td>\n",
       "      <td>2</td>\n",
       "      <td>4</td>\n",
       "      <td>4</td>\n",
       "      <td>4</td>\n",
       "      <td>5</td>\n",
       "      <td>3</td>\n",
       "      <td>0</td>\n",
       "      <td>4</td>\n",
       "      <td>3</td>\n",
       "      <td>5</td>\n",
       "      <td>4</td>\n",
       "      <td>4</td>\n",
       "      <td>4</td>\n",
       "      <td>4</td>\n",
       "      <td>5</td>\n",
       "      <td>3</td>\n",
       "      <td>4</td>\n",
       "      <td>4</td>\n",
       "      <td>4</td>\n",
       "      <td>4</td>\n",
       "      <td>4</td>\n",
       "      <td>34</td>\n",
       "      <td>1</td>\n",
       "      <td>90</td>\n",
       "      <td>GR</td>\n",
       "    </tr>\n",
       "    <tr>\n",
       "      <td>92</td>\n",
       "      <td>4</td>\n",
       "      <td>4</td>\n",
       "      <td>4</td>\n",
       "      <td>3</td>\n",
       "      <td>4</td>\n",
       "      <td>0</td>\n",
       "      <td>5</td>\n",
       "      <td>4</td>\n",
       "      <td>2</td>\n",
       "      <td>2</td>\n",
       "      <td>4</td>\n",
       "      <td>3</td>\n",
       "      <td>5</td>\n",
       "      <td>5</td>\n",
       "      <td>4</td>\n",
       "      <td>3</td>\n",
       "      <td>3</td>\n",
       "      <td>5</td>\n",
       "      <td>4</td>\n",
       "      <td>5</td>\n",
       "      <td>3</td>\n",
       "      <td>4</td>\n",
       "      <td>32</td>\n",
       "      <td>2</td>\n",
       "      <td>90</td>\n",
       "      <td>MY</td>\n",
       "    </tr>\n",
       "    <tr>\n",
       "      <td>95</td>\n",
       "      <td>5</td>\n",
       "      <td>5</td>\n",
       "      <td>5</td>\n",
       "      <td>4</td>\n",
       "      <td>4</td>\n",
       "      <td>5</td>\n",
       "      <td>0</td>\n",
       "      <td>5</td>\n",
       "      <td>4</td>\n",
       "      <td>5</td>\n",
       "      <td>4</td>\n",
       "      <td>4</td>\n",
       "      <td>5</td>\n",
       "      <td>5</td>\n",
       "      <td>4</td>\n",
       "      <td>4</td>\n",
       "      <td>5</td>\n",
       "      <td>3</td>\n",
       "      <td>5</td>\n",
       "      <td>4</td>\n",
       "      <td>5</td>\n",
       "      <td>4</td>\n",
       "      <td>17</td>\n",
       "      <td>1</td>\n",
       "      <td>100</td>\n",
       "      <td>US</td>\n",
       "    </tr>\n",
       "    <tr>\n",
       "      <td>...</td>\n",
       "      <td>...</td>\n",
       "      <td>...</td>\n",
       "      <td>...</td>\n",
       "      <td>...</td>\n",
       "      <td>...</td>\n",
       "      <td>...</td>\n",
       "      <td>...</td>\n",
       "      <td>...</td>\n",
       "      <td>...</td>\n",
       "      <td>...</td>\n",
       "      <td>...</td>\n",
       "      <td>...</td>\n",
       "      <td>...</td>\n",
       "      <td>...</td>\n",
       "      <td>...</td>\n",
       "      <td>...</td>\n",
       "      <td>...</td>\n",
       "      <td>...</td>\n",
       "      <td>...</td>\n",
       "      <td>...</td>\n",
       "      <td>...</td>\n",
       "      <td>...</td>\n",
       "      <td>...</td>\n",
       "      <td>...</td>\n",
       "      <td>...</td>\n",
       "      <td>...</td>\n",
       "    </tr>\n",
       "    <tr>\n",
       "      <td>53905</td>\n",
       "      <td>5</td>\n",
       "      <td>4</td>\n",
       "      <td>4</td>\n",
       "      <td>4</td>\n",
       "      <td>5</td>\n",
       "      <td>5</td>\n",
       "      <td>3</td>\n",
       "      <td>4</td>\n",
       "      <td>4</td>\n",
       "      <td>4</td>\n",
       "      <td>4</td>\n",
       "      <td>4</td>\n",
       "      <td>2</td>\n",
       "      <td>3</td>\n",
       "      <td>0</td>\n",
       "      <td>5</td>\n",
       "      <td>3</td>\n",
       "      <td>5</td>\n",
       "      <td>5</td>\n",
       "      <td>5</td>\n",
       "      <td>5</td>\n",
       "      <td>3</td>\n",
       "      <td>18</td>\n",
       "      <td>2</td>\n",
       "      <td>65</td>\n",
       "      <td>AU</td>\n",
       "    </tr>\n",
       "    <tr>\n",
       "      <td>53946</td>\n",
       "      <td>4</td>\n",
       "      <td>4</td>\n",
       "      <td>4</td>\n",
       "      <td>2</td>\n",
       "      <td>2</td>\n",
       "      <td>4</td>\n",
       "      <td>2</td>\n",
       "      <td>2</td>\n",
       "      <td>4</td>\n",
       "      <td>2</td>\n",
       "      <td>4</td>\n",
       "      <td>0</td>\n",
       "      <td>4</td>\n",
       "      <td>4</td>\n",
       "      <td>2</td>\n",
       "      <td>4</td>\n",
       "      <td>4</td>\n",
       "      <td>2</td>\n",
       "      <td>2</td>\n",
       "      <td>2</td>\n",
       "      <td>2</td>\n",
       "      <td>2</td>\n",
       "      <td>27</td>\n",
       "      <td>3</td>\n",
       "      <td>90</td>\n",
       "      <td>PH</td>\n",
       "    </tr>\n",
       "    <tr>\n",
       "      <td>53953</td>\n",
       "      <td>2</td>\n",
       "      <td>5</td>\n",
       "      <td>4</td>\n",
       "      <td>3</td>\n",
       "      <td>1</td>\n",
       "      <td>2</td>\n",
       "      <td>5</td>\n",
       "      <td>3</td>\n",
       "      <td>1</td>\n",
       "      <td>1</td>\n",
       "      <td>1</td>\n",
       "      <td>1</td>\n",
       "      <td>1</td>\n",
       "      <td>2</td>\n",
       "      <td>1</td>\n",
       "      <td>3</td>\n",
       "      <td>1</td>\n",
       "      <td>0</td>\n",
       "      <td>2</td>\n",
       "      <td>2</td>\n",
       "      <td>1</td>\n",
       "      <td>1</td>\n",
       "      <td>19</td>\n",
       "      <td>2</td>\n",
       "      <td>100</td>\n",
       "      <td>US</td>\n",
       "    </tr>\n",
       "    <tr>\n",
       "      <td>53962</td>\n",
       "      <td>5</td>\n",
       "      <td>5</td>\n",
       "      <td>3</td>\n",
       "      <td>5</td>\n",
       "      <td>5</td>\n",
       "      <td>5</td>\n",
       "      <td>5</td>\n",
       "      <td>5</td>\n",
       "      <td>5</td>\n",
       "      <td>0</td>\n",
       "      <td>4</td>\n",
       "      <td>5</td>\n",
       "      <td>5</td>\n",
       "      <td>5</td>\n",
       "      <td>5</td>\n",
       "      <td>4</td>\n",
       "      <td>5</td>\n",
       "      <td>5</td>\n",
       "      <td>4</td>\n",
       "      <td>5</td>\n",
       "      <td>5</td>\n",
       "      <td>5</td>\n",
       "      <td>27</td>\n",
       "      <td>1</td>\n",
       "      <td>100</td>\n",
       "      <td>RU</td>\n",
       "    </tr>\n",
       "    <tr>\n",
       "      <td>53973</td>\n",
       "      <td>4</td>\n",
       "      <td>1</td>\n",
       "      <td>3</td>\n",
       "      <td>2</td>\n",
       "      <td>2</td>\n",
       "      <td>0</td>\n",
       "      <td>2</td>\n",
       "      <td>2</td>\n",
       "      <td>2</td>\n",
       "      <td>2</td>\n",
       "      <td>1</td>\n",
       "      <td>1</td>\n",
       "      <td>2</td>\n",
       "      <td>3</td>\n",
       "      <td>4</td>\n",
       "      <td>2</td>\n",
       "      <td>2</td>\n",
       "      <td>1</td>\n",
       "      <td>1</td>\n",
       "      <td>2</td>\n",
       "      <td>2</td>\n",
       "      <td>1</td>\n",
       "      <td>18</td>\n",
       "      <td>1</td>\n",
       "      <td>90</td>\n",
       "      <td>US</td>\n",
       "    </tr>\n",
       "  </tbody>\n",
       "</table>\n",
       "<p>3408 rows × 26 columns</p>\n",
       "</div>"
      ],
      "text/plain": [
       "       HSNS1  HSNS2  HSNS3  HSNS4  HSNS5  HSNS6  HSNS7  HSNS8  HSNS9  HSNS10  \\\n",
       "3          4      1      2      2      4      5      2      2      5       2   \n",
       "10         5      5      4      3      0      5      5      5      5       5   \n",
       "28         5      2      4      4      4      5      3      0      4       3   \n",
       "92         4      4      4      3      4      0      5      4      2       2   \n",
       "95         5      5      5      4      4      5      0      5      4       5   \n",
       "...      ...    ...    ...    ...    ...    ...    ...    ...    ...     ...   \n",
       "53905      5      4      4      4      5      5      3      4      4       4   \n",
       "53946      4      4      4      2      2      4      2      2      4       2   \n",
       "53953      2      5      4      3      1      2      5      3      1       1   \n",
       "53962      5      5      3      5      5      5      5      5      5       0   \n",
       "53973      4      1      3      2      2      0      2      2      2       2   \n",
       "\n",
       "       DDP1  DDP2  DDP3  DDP4  DDN1  DDN2  DDN3  DDN4  DDM1  DDM2  DDM3  DDM4  \\\n",
       "3         4     2     4     0     5     5     4     1     4     2     3     4   \n",
       "10        4     5     5     5     1     1     3     3     5     5     1     4   \n",
       "28        5     4     4     4     4     5     3     4     4     4     4     4   \n",
       "92        4     3     5     5     4     3     3     5     4     5     3     4   \n",
       "95        4     4     5     5     4     4     5     3     5     4     5     4   \n",
       "...     ...   ...   ...   ...   ...   ...   ...   ...   ...   ...   ...   ...   \n",
       "53905     4     4     2     3     0     5     3     5     5     5     5     3   \n",
       "53946     4     0     4     4     2     4     4     2     2     2     2     2   \n",
       "53953     1     1     1     2     1     3     1     0     2     2     1     1   \n",
       "53962     4     5     5     5     5     4     5     5     4     5     5     5   \n",
       "53973     1     1     2     3     4     2     2     1     1     2     2     1   \n",
       "\n",
       "       age  gender  accuracy country  \n",
       "3       24       1        99      US  \n",
       "10      20       1        80      US  \n",
       "28      34       1        90      GR  \n",
       "92      32       2        90      MY  \n",
       "95      17       1       100      US  \n",
       "...    ...     ...       ...     ...  \n",
       "53905   18       2        65      AU  \n",
       "53946   27       3        90      PH  \n",
       "53953   19       2       100      US  \n",
       "53962   27       1       100      RU  \n",
       "53973   18       1        90      US  \n",
       "\n",
       "[3408 rows x 26 columns]"
      ]
     },
     "execution_count": 106,
     "metadata": {},
     "output_type": "execute_result"
    }
   ],
   "source": [
    "ds.loc[(ds == 0).any(axis=1)]"
   ]
  },
  {
   "cell_type": "code",
   "execution_count": 226,
   "metadata": {},
   "outputs": [
    {
     "data": {
      "text/plain": [
       "(49500, 26)"
      ]
     },
     "execution_count": 226,
     "metadata": {},
     "output_type": "execute_result"
    }
   ],
   "source": [
    "#ds_clean.shape\n",
    "#Since the rows with a 0 account for almost 10% of the data and the zero is oftentimes only a forgotten answer for one question,\n",
    "#I think it is wiser to keep the data and replace the zero with the mean of the column"
   ]
  },
  {
   "cell_type": "code",
   "execution_count": 227,
   "metadata": {},
   "outputs": [],
   "source": [
    "#lets use a mask to do that\n",
    "#ds=ds.mask(ds==0).fillna(ds.mean())\n",
    "# I reran my models after filling the 0 with means of the columns and the accuracy dropped dramatically, so I ll will go back to my original plan of deleting this data that has some zeros (about 10% of the rows)"
   ]
  },
  {
   "cell_type": "markdown",
   "metadata": {},
   "source": [
    "Lets clean up the country colomn by removing nans and A1 A2 values (see codebook)"
   ]
  },
  {
   "cell_type": "code",
   "execution_count": 193,
   "metadata": {},
   "outputs": [],
   "source": [
    "#I've seen that few rows are missing the countrys, let's drop them since there are only 4 and the country is important in our analysis\n",
    "ds.dropna(inplace=True)"
   ]
  },
  {
   "cell_type": "code",
   "execution_count": 194,
   "metadata": {},
   "outputs": [],
   "source": [
    "ds.country.unique()\n",
    "#some country labeled A1, A2 should be dropped since they correspond to A1,\"Anonymous Proxy\" A2,\"Satellite Provider\"\n",
    "# Get names of indexes for which column country has values A1 or A2\n",
    "wrongcountry = ds[ (ds['country'] == \"A1\") | (ds['country']==\"A2\") ].index\n",
    " \n",
    "# Delete these row indexes from dataFrame\n",
    "ds.drop(wrongcountry , inplace=True)"
   ]
  },
  {
   "cell_type": "markdown",
   "metadata": {},
   "source": [
    "Now that the basic cleaning is performed, let's create a column with the result of the the HSNScale (first test) for all entries"
   ]
  },
  {
   "cell_type": "code",
   "execution_count": 195,
   "metadata": {},
   "outputs": [],
   "source": [
    "ds[\"HSNScale\"]= round(ds.iloc[:,0:9].sum(axis=1)*2/100,2)"
   ]
  },
  {
   "cell_type": "code",
   "execution_count": 215,
   "metadata": {},
   "outputs": [],
   "source": [
    "#ds.reset_index(drop=True,inplace=True)\n",
    "#ds.shape\n",
    "#ds.to_csv(\"C:/Users/tvpia/Desktop/Final project/final-project/your-project/Datasets/ds.csv\")"
   ]
  },
  {
   "cell_type": "markdown",
   "metadata": {},
   "source": [
    "Lets create a new dataframe that contains flag features for all the survey questions that were not answered (value is 0)"
   ]
  },
  {
   "cell_type": "code",
   "execution_count": 196,
   "metadata": {},
   "outputs": [],
   "source": [
    "labels = list(ds.iloc[:,:22].columns)\n",
    "labels\n",
    "#for label in labels:\n",
    "\n",
    "for col in labels:\n",
    "    ds_flagged[col] = np.where(ds[col] == 0, 1, 0)\n",
    "\n",
    "\n"
   ]
  },
  {
   "cell_type": "code",
   "execution_count": 197,
   "metadata": {},
   "outputs": [],
   "source": [
    "ds_flagged = ds_flagged.add_suffix('_flag')"
   ]
  },
  {
   "cell_type": "code",
   "execution_count": 199,
   "metadata": {},
   "outputs": [],
   "source": [
    "ds_flagged.drop(columns=\"HSNS1_flagged_flag\",axis=1,inplace=True)"
   ]
  },
  {
   "cell_type": "code",
   "execution_count": 210,
   "metadata": {},
   "outputs": [],
   "source": [
    "ds_clean = pd.merge(ds,ds_flagged,left_index=True,right_index=True)"
   ]
  },
  {
   "cell_type": "code",
   "execution_count": 211,
   "metadata": {},
   "outputs": [
    {
     "data": {
      "text/html": [
       "<div>\n",
       "<style scoped>\n",
       "    .dataframe tbody tr th:only-of-type {\n",
       "        vertical-align: middle;\n",
       "    }\n",
       "\n",
       "    .dataframe tbody tr th {\n",
       "        vertical-align: top;\n",
       "    }\n",
       "\n",
       "    .dataframe thead th {\n",
       "        text-align: right;\n",
       "    }\n",
       "</style>\n",
       "<table border=\"1\" class=\"dataframe\">\n",
       "  <thead>\n",
       "    <tr style=\"text-align: right;\">\n",
       "      <th></th>\n",
       "      <th>HSNS1</th>\n",
       "      <th>HSNS2</th>\n",
       "      <th>HSNS3</th>\n",
       "      <th>HSNS4</th>\n",
       "      <th>HSNS5</th>\n",
       "      <th>HSNS6</th>\n",
       "      <th>HSNS7</th>\n",
       "      <th>HSNS8</th>\n",
       "      <th>HSNS9</th>\n",
       "      <th>HSNS10</th>\n",
       "      <th>DDP1</th>\n",
       "      <th>DDP2</th>\n",
       "      <th>DDP3</th>\n",
       "      <th>DDP4</th>\n",
       "      <th>DDN1</th>\n",
       "      <th>DDN2</th>\n",
       "      <th>DDN3</th>\n",
       "      <th>DDN4</th>\n",
       "      <th>DDM1</th>\n",
       "      <th>DDM2</th>\n",
       "      <th>DDM3</th>\n",
       "      <th>DDM4</th>\n",
       "      <th>age</th>\n",
       "      <th>gender</th>\n",
       "      <th>accuracy</th>\n",
       "      <th>country</th>\n",
       "      <th>HSNScale</th>\n",
       "      <th>HSNS1_flag</th>\n",
       "      <th>HSNS2_flag</th>\n",
       "      <th>HSNS3_flag</th>\n",
       "      <th>HSNS4_flag</th>\n",
       "      <th>HSNS5_flag</th>\n",
       "      <th>HSNS6_flag</th>\n",
       "      <th>HSNS7_flag</th>\n",
       "      <th>HSNS8_flag</th>\n",
       "      <th>HSNS9_flag</th>\n",
       "      <th>HSNS10_flag</th>\n",
       "      <th>DDP1_flag</th>\n",
       "      <th>DDP2_flag</th>\n",
       "      <th>DDP3_flag</th>\n",
       "      <th>DDP4_flag</th>\n",
       "      <th>DDN1_flag</th>\n",
       "      <th>DDN2_flag</th>\n",
       "      <th>DDN3_flag</th>\n",
       "      <th>DDN4_flag</th>\n",
       "      <th>DDM1_flag</th>\n",
       "      <th>DDM2_flag</th>\n",
       "      <th>DDM3_flag</th>\n",
       "      <th>DDM4_flag</th>\n",
       "    </tr>\n",
       "  </thead>\n",
       "  <tbody>\n",
       "    <tr>\n",
       "      <td>0</td>\n",
       "      <td>2</td>\n",
       "      <td>4</td>\n",
       "      <td>5</td>\n",
       "      <td>1</td>\n",
       "      <td>4</td>\n",
       "      <td>5</td>\n",
       "      <td>4</td>\n",
       "      <td>3</td>\n",
       "      <td>3</td>\n",
       "      <td>2</td>\n",
       "      <td>1</td>\n",
       "      <td>1</td>\n",
       "      <td>4</td>\n",
       "      <td>4</td>\n",
       "      <td>2</td>\n",
       "      <td>1</td>\n",
       "      <td>1</td>\n",
       "      <td>1</td>\n",
       "      <td>1</td>\n",
       "      <td>2</td>\n",
       "      <td>2</td>\n",
       "      <td>1</td>\n",
       "      <td>37</td>\n",
       "      <td>2</td>\n",
       "      <td>98</td>\n",
       "      <td>PT</td>\n",
       "      <td>0.62</td>\n",
       "      <td>0</td>\n",
       "      <td>0</td>\n",
       "      <td>0</td>\n",
       "      <td>0</td>\n",
       "      <td>0</td>\n",
       "      <td>0</td>\n",
       "      <td>0</td>\n",
       "      <td>0</td>\n",
       "      <td>0</td>\n",
       "      <td>0</td>\n",
       "      <td>0</td>\n",
       "      <td>0</td>\n",
       "      <td>0</td>\n",
       "      <td>0</td>\n",
       "      <td>0</td>\n",
       "      <td>0</td>\n",
       "      <td>0</td>\n",
       "      <td>0</td>\n",
       "      <td>0</td>\n",
       "      <td>0</td>\n",
       "      <td>0</td>\n",
       "      <td>0</td>\n",
       "    </tr>\n",
       "    <tr>\n",
       "      <td>1</td>\n",
       "      <td>4</td>\n",
       "      <td>2</td>\n",
       "      <td>2</td>\n",
       "      <td>4</td>\n",
       "      <td>3</td>\n",
       "      <td>4</td>\n",
       "      <td>4</td>\n",
       "      <td>5</td>\n",
       "      <td>4</td>\n",
       "      <td>3</td>\n",
       "      <td>4</td>\n",
       "      <td>4</td>\n",
       "      <td>2</td>\n",
       "      <td>4</td>\n",
       "      <td>3</td>\n",
       "      <td>2</td>\n",
       "      <td>2</td>\n",
       "      <td>3</td>\n",
       "      <td>4</td>\n",
       "      <td>4</td>\n",
       "      <td>4</td>\n",
       "      <td>3</td>\n",
       "      <td>34</td>\n",
       "      <td>3</td>\n",
       "      <td>95</td>\n",
       "      <td>PL</td>\n",
       "      <td>0.64</td>\n",
       "      <td>0</td>\n",
       "      <td>0</td>\n",
       "      <td>0</td>\n",
       "      <td>0</td>\n",
       "      <td>0</td>\n",
       "      <td>0</td>\n",
       "      <td>0</td>\n",
       "      <td>0</td>\n",
       "      <td>0</td>\n",
       "      <td>0</td>\n",
       "      <td>0</td>\n",
       "      <td>0</td>\n",
       "      <td>0</td>\n",
       "      <td>0</td>\n",
       "      <td>0</td>\n",
       "      <td>0</td>\n",
       "      <td>0</td>\n",
       "      <td>0</td>\n",
       "      <td>0</td>\n",
       "      <td>0</td>\n",
       "      <td>0</td>\n",
       "      <td>0</td>\n",
       "    </tr>\n",
       "    <tr>\n",
       "      <td>2</td>\n",
       "      <td>5</td>\n",
       "      <td>5</td>\n",
       "      <td>5</td>\n",
       "      <td>4</td>\n",
       "      <td>2</td>\n",
       "      <td>5</td>\n",
       "      <td>5</td>\n",
       "      <td>4</td>\n",
       "      <td>4</td>\n",
       "      <td>2</td>\n",
       "      <td>2</td>\n",
       "      <td>2</td>\n",
       "      <td>2</td>\n",
       "      <td>4</td>\n",
       "      <td>4</td>\n",
       "      <td>2</td>\n",
       "      <td>4</td>\n",
       "      <td>3</td>\n",
       "      <td>3</td>\n",
       "      <td>4</td>\n",
       "      <td>4</td>\n",
       "      <td>2</td>\n",
       "      <td>22</td>\n",
       "      <td>2</td>\n",
       "      <td>80</td>\n",
       "      <td>AU</td>\n",
       "      <td>0.78</td>\n",
       "      <td>0</td>\n",
       "      <td>0</td>\n",
       "      <td>0</td>\n",
       "      <td>0</td>\n",
       "      <td>0</td>\n",
       "      <td>0</td>\n",
       "      <td>0</td>\n",
       "      <td>0</td>\n",
       "      <td>0</td>\n",
       "      <td>0</td>\n",
       "      <td>0</td>\n",
       "      <td>0</td>\n",
       "      <td>0</td>\n",
       "      <td>0</td>\n",
       "      <td>0</td>\n",
       "      <td>0</td>\n",
       "      <td>0</td>\n",
       "      <td>0</td>\n",
       "      <td>0</td>\n",
       "      <td>0</td>\n",
       "      <td>0</td>\n",
       "      <td>0</td>\n",
       "    </tr>\n",
       "    <tr>\n",
       "      <td>3</td>\n",
       "      <td>4</td>\n",
       "      <td>1</td>\n",
       "      <td>2</td>\n",
       "      <td>2</td>\n",
       "      <td>4</td>\n",
       "      <td>5</td>\n",
       "      <td>2</td>\n",
       "      <td>2</td>\n",
       "      <td>5</td>\n",
       "      <td>2</td>\n",
       "      <td>4</td>\n",
       "      <td>2</td>\n",
       "      <td>4</td>\n",
       "      <td>0</td>\n",
       "      <td>5</td>\n",
       "      <td>5</td>\n",
       "      <td>4</td>\n",
       "      <td>1</td>\n",
       "      <td>4</td>\n",
       "      <td>2</td>\n",
       "      <td>3</td>\n",
       "      <td>4</td>\n",
       "      <td>24</td>\n",
       "      <td>1</td>\n",
       "      <td>99</td>\n",
       "      <td>US</td>\n",
       "      <td>0.54</td>\n",
       "      <td>0</td>\n",
       "      <td>0</td>\n",
       "      <td>0</td>\n",
       "      <td>0</td>\n",
       "      <td>0</td>\n",
       "      <td>0</td>\n",
       "      <td>0</td>\n",
       "      <td>0</td>\n",
       "      <td>0</td>\n",
       "      <td>0</td>\n",
       "      <td>0</td>\n",
       "      <td>0</td>\n",
       "      <td>0</td>\n",
       "      <td>1</td>\n",
       "      <td>0</td>\n",
       "      <td>0</td>\n",
       "      <td>0</td>\n",
       "      <td>0</td>\n",
       "      <td>0</td>\n",
       "      <td>0</td>\n",
       "      <td>0</td>\n",
       "      <td>0</td>\n",
       "    </tr>\n",
       "    <tr>\n",
       "      <td>4</td>\n",
       "      <td>5</td>\n",
       "      <td>3</td>\n",
       "      <td>4</td>\n",
       "      <td>5</td>\n",
       "      <td>5</td>\n",
       "      <td>5</td>\n",
       "      <td>4</td>\n",
       "      <td>5</td>\n",
       "      <td>4</td>\n",
       "      <td>3</td>\n",
       "      <td>4</td>\n",
       "      <td>3</td>\n",
       "      <td>4</td>\n",
       "      <td>4</td>\n",
       "      <td>4</td>\n",
       "      <td>2</td>\n",
       "      <td>5</td>\n",
       "      <td>2</td>\n",
       "      <td>4</td>\n",
       "      <td>4</td>\n",
       "      <td>1</td>\n",
       "      <td>5</td>\n",
       "      <td>21</td>\n",
       "      <td>2</td>\n",
       "      <td>90</td>\n",
       "      <td>US</td>\n",
       "      <td>0.80</td>\n",
       "      <td>0</td>\n",
       "      <td>0</td>\n",
       "      <td>0</td>\n",
       "      <td>0</td>\n",
       "      <td>0</td>\n",
       "      <td>0</td>\n",
       "      <td>0</td>\n",
       "      <td>0</td>\n",
       "      <td>0</td>\n",
       "      <td>0</td>\n",
       "      <td>0</td>\n",
       "      <td>0</td>\n",
       "      <td>0</td>\n",
       "      <td>0</td>\n",
       "      <td>0</td>\n",
       "      <td>0</td>\n",
       "      <td>0</td>\n",
       "      <td>0</td>\n",
       "      <td>0</td>\n",
       "      <td>0</td>\n",
       "      <td>0</td>\n",
       "      <td>0</td>\n",
       "    </tr>\n",
       "  </tbody>\n",
       "</table>\n",
       "</div>"
      ],
      "text/plain": [
       "   HSNS1  HSNS2  HSNS3  HSNS4  HSNS5  HSNS6  HSNS7  HSNS8  HSNS9  HSNS10  \\\n",
       "0      2      4      5      1      4      5      4      3      3       2   \n",
       "1      4      2      2      4      3      4      4      5      4       3   \n",
       "2      5      5      5      4      2      5      5      4      4       2   \n",
       "3      4      1      2      2      4      5      2      2      5       2   \n",
       "4      5      3      4      5      5      5      4      5      4       3   \n",
       "\n",
       "   DDP1  DDP2  DDP3  DDP4  DDN1  DDN2  DDN3  DDN4  DDM1  DDM2  DDM3  DDM4  \\\n",
       "0     1     1     4     4     2     1     1     1     1     2     2     1   \n",
       "1     4     4     2     4     3     2     2     3     4     4     4     3   \n",
       "2     2     2     2     4     4     2     4     3     3     4     4     2   \n",
       "3     4     2     4     0     5     5     4     1     4     2     3     4   \n",
       "4     4     3     4     4     4     2     5     2     4     4     1     5   \n",
       "\n",
       "   age  gender  accuracy country  HSNScale  HSNS1_flag  HSNS2_flag  \\\n",
       "0   37       2        98      PT      0.62           0           0   \n",
       "1   34       3        95      PL      0.64           0           0   \n",
       "2   22       2        80      AU      0.78           0           0   \n",
       "3   24       1        99      US      0.54           0           0   \n",
       "4   21       2        90      US      0.80           0           0   \n",
       "\n",
       "   HSNS3_flag  HSNS4_flag  HSNS5_flag  HSNS6_flag  HSNS7_flag  HSNS8_flag  \\\n",
       "0           0           0           0           0           0           0   \n",
       "1           0           0           0           0           0           0   \n",
       "2           0           0           0           0           0           0   \n",
       "3           0           0           0           0           0           0   \n",
       "4           0           0           0           0           0           0   \n",
       "\n",
       "   HSNS9_flag  HSNS10_flag  DDP1_flag  DDP2_flag  DDP3_flag  DDP4_flag  \\\n",
       "0           0            0          0          0          0          0   \n",
       "1           0            0          0          0          0          0   \n",
       "2           0            0          0          0          0          0   \n",
       "3           0            0          0          0          0          1   \n",
       "4           0            0          0          0          0          0   \n",
       "\n",
       "   DDN1_flag  DDN2_flag  DDN3_flag  DDN4_flag  DDM1_flag  DDM2_flag  \\\n",
       "0          0          0          0          0          0          0   \n",
       "1          0          0          0          0          0          0   \n",
       "2          0          0          0          0          0          0   \n",
       "3          0          0          0          0          0          0   \n",
       "4          0          0          0          0          0          0   \n",
       "\n",
       "   DDM3_flag  DDM4_flag  \n",
       "0          0          0  \n",
       "1          0          0  \n",
       "2          0          0  \n",
       "3          0          0  \n",
       "4          0          0  "
      ]
     },
     "execution_count": 211,
     "metadata": {},
     "output_type": "execute_result"
    }
   ],
   "source": [
    "ds_clean.head(5)\n",
    "ds.to_csv(\"C:/Users/tvpia/Desktop/Final project/final-project/your-project/Datasets/ds.csv\")"
   ]
  },
  {
   "cell_type": "markdown",
   "metadata": {},
   "source": [
    "Let's check for high correlations in the columns"
   ]
  },
  {
   "cell_type": "code",
   "execution_count": 212,
   "metadata": {},
   "outputs": [
    {
     "data": {
      "text/plain": [
       "DDM4_flag   DDM4_flag     1.000000\n",
       "DDM4        DDM1          0.691291\n",
       "HSNS8       HSNScale      0.637779\n",
       "HSNS9_flag  HSNS3_flag    0.630890\n",
       "HSNS1       HSNScale      0.621928\n",
       "                            ...   \n",
       "HSNS9       HSNS9_flag   -0.211222\n",
       "HSNS1       HSNS1_flag   -0.211328\n",
       "DDP4_flag   DDP4         -0.233591\n",
       "DDN1_flag   DDN1         -0.244129\n",
       "HSNS6_flag  HSNS6        -0.323372\n",
       "Length: 1129, dtype: float64"
      ]
     },
     "execution_count": 212,
     "metadata": {},
     "output_type": "execute_result"
    }
   ],
   "source": [
    "ds_clean.corr().unstack().sort_values(ascending = False).drop_duplicates()"
   ]
  },
  {
   "cell_type": "markdown",
   "metadata": {},
   "source": [
    "No correlations over 0.7, which is good for us. Let's visualize this with a correlation matrix"
   ]
  },
  {
   "cell_type": "code",
   "execution_count": 214,
   "metadata": {},
   "outputs": [
    {
     "data": {
      "image/png": "[encoded data removed]",
      "text/plain": [
       "<Figure size 1440x936 with 2 Axes>"
      ]
     },
     "metadata": {},
     "output_type": "display_data"
    }
   ],
   "source": [
    "sns.set(color_codes = False)\n",
    "\n",
    "corr = ds.corr()\n",
    "\n",
    "f, ax = plt.subplots(figsize=(20, 13))\n",
    "cmap = sns.diverging_palette(220, 10, as_cmap = True)\n",
    "mask = np.triu(np.ones_like(corr, dtype = np.bool))\n",
    "sns.heatmap(corr, cmap = cmap,mask=mask, center = 0, annot = True)\n",
    "\n",
    "plt.show()\n",
    "\n",
    "#add a size parameter to the plot correlation matrix heatmap when I have time"
   ]
  },
  {
   "cell_type": "code",
   "execution_count": 237,
   "metadata": {},
   "outputs": [
    {
     "name": "stdout",
     "output_type": "stream",
     "text": [
      "Counter({'US': 25406, 'GB': 5646, 'CA': 3457, 'AU': 2761, 'DE': 778, 'IN': 579, 'SE': 579, 'PH': 507, 'PL': 474, 'BR': 463, 'NL': 445, 'NZ': 407, 'IE': 365, 'FI': 362, 'SG': 346, 'FR': 320, 'RO': 300, 'MX': 292, 'NO': 290, 'HR': 268, 'ZA': 266, 'DK': 211, 'ID': 209, 'IT': 197, 'BE': 196, 'ES': 171, 'GR': 150, 'RS': 148, 'PT': 147, 'MY': 143, 'HU': 118, 'BG': 108, 'AT': 107, 'RU': 106, 'CH': 101, 'TR': 97, 'CZ': 96, 'SI': 95, 'AR': 94, 'HK': 89, 'JP': 83, 'IL': 81, 'EE': 79, 'LT': 79, 'CN': 75, 'TH': 74, 'PK': 66, 'KR': 64, 'AE': 60, 'CL': 58, 'CO': 57, 'IS': 51, 'SK': 48, 'LV': 46, 'BA': 44, 'TT': 44, 'PR': 42, 'EU': 41, 'VN': 40, 'EG': 38, 'PE': 36, 'SA': 34, 'BS': 33, 'UA': 33, 'NG': 28, 'VE': 27, 'TW': 27, 'LB': 27, 'JM': 26, 'CR': 25, 'MT': 22, 'CY': 20, 'MK': 19, 'KE': 18, 'PA': 16, 'KW': 15, 'MA': 15, 'EC': 14, 'QA': 14, 'LU': 14, 'LK': 13, 'DO': 13, 'IR': 13, 'BD': 13, 'AP': 11, 'GE': 11, 'JO': 10, 'MU': 10, 'MV': 9, 'ME': 9, 'BN': 8, 'GU': 8, 'UY': 8, 'KH': 8, 'ZW': 8, 'AL': 8, 'BB': 8, 'NP': 8, 'MD': 7, 'OM': 7, 'GT': 7, 'SV': 7, 'GH': 7, 'IQ': 6, 'AZ': 6, 'HN': 6, 'PY': 6, 'BY': 5, 'GI': 5, 'BM': 5, 'GY': 5, 'JE': 5, 'UG': 4, 'MM': 4, 'BZ': 4, 'AM': 4, 'IM': 3, 'TN': 3, 'AG': 3, 'BH': 3, 'BW': 3, 'BO': 3, 'MC': 2, 'MQ': 2, 'SY': 2, 'DZ': 2, 'GD': 2, 'MO': 2, 'GG': 2, 'AF': 2, 'LY': 2, 'MN': 2, 'NC': 1, 'AW': 1, 'SN': 1, 'MW': 1, 'VG': 1, 'MZ': 1, 'PS': 1, 'TZ': 1, 'CW': 1, 'FJ': 1, 'HT': 1, 'UZ': 1, 'ZM': 1, 'YT': 1, 'NI': 1, 'DM': 1, 'KZ': 1, 'SZ': 1, 'WS': 1, 'SR': 1, 'TL': 1, 'KG': 1, 'FO': 1, 'RE': 1, 'LR': 1, 'SC': 1, 'LI': 1, 'PG': 1, 'CG': 1, 'AS': 1, 'AX': 1, 'AO': 1})\n"
     ]
    }
   ],
   "source": [
    "from collections import Counter\n",
    "print(Counter(ds_clean.country))"
   ]
  },
  {
   "cell_type": "markdown",
   "metadata": {},
   "source": [
    "Now let's define some group of countries as target for future supervised machine learning purposes"
   ]
  },
  {
   "cell_type": "markdown",
   "metadata": {},
   "source": [
    "As we can see, people from the US represent a little more than half of the total population. This makes our first classification easy (US or non US). Let's create a new column with that\n",
    "US = 0\n",
    "Non-US = 1"
   ]
  },
  {
   "cell_type": "code",
   "execution_count": 238,
   "metadata": {},
   "outputs": [],
   "source": [
    "ds_binary = ds_clean.copy()"
   ]
  },
  {
   "cell_type": "code",
   "execution_count": 241,
   "metadata": {},
   "outputs": [],
   "source": [
    "ds_binary[\"US/OTHER\"]=np.where(ds_clean.country==\"US\",0,1)"
   ]
  },
  {
   "cell_type": "code",
   "execution_count": 242,
   "metadata": {},
   "outputs": [
    {
     "data": {
      "text/plain": [
       "0    0.519837\n",
       "1    0.480163\n",
       "Name: US/OTHER, dtype: float64"
      ]
     },
     "execution_count": 242,
     "metadata": {},
     "output_type": "execute_result"
    }
   ],
   "source": [
    "ds_binary[\"US/OTHER\"].value_counts(normalize=True)"
   ]
  },
  {
   "cell_type": "code",
   "execution_count": 243,
   "metadata": {},
   "outputs": [],
   "source": [
    "ds_binary.drop(columns=\"country\",axis=1,inplace=True)"
   ]
  },
  {
   "cell_type": "code",
   "execution_count": 244,
   "metadata": {},
   "outputs": [],
   "source": [
    "ds_binary.to_csv(\"C:/Users/tvpia/Desktop/Final project/final-project/your-project/Datasets/ds_binary.csv\")"
   ]
  },
  {
   "cell_type": "markdown",
   "metadata": {},
   "source": [
    "Now lets create a dataframe with only the countries that have 350 + entries (the sampling should be done later, before creating the models)"
   ]
  },
  {
   "cell_type": "code",
   "execution_count": 245,
   "metadata": {},
   "outputs": [],
   "source": [
    "#isolate countries that have 350+ entries\n",
    "ds_bigcount = ds.groupby(\"country\").agg({\"age\":'count'})\n",
    "ds_bigcount = ds_bigcount.sort_values(by='age',ascending=False)\n",
    "ds_bigcount = ds_bigcount[ds_bigcount[\"age\"] > 350]\n",
    "lst = list(ds_bigcount.index)\n"
   ]
  },
  {
   "cell_type": "code",
   "execution_count": 246,
   "metadata": {},
   "outputs": [],
   "source": [
    "ds_top16 = ds.copy()"
   ]
  },
  {
   "cell_type": "code",
   "execution_count": 247,
   "metadata": {},
   "outputs": [],
   "source": [
    "ds_top16 = ds_top16[ds_top16[\"country\"].isin(lst)]"
   ]
  },
  {
   "cell_type": "code",
   "execution_count": 248,
   "metadata": {},
   "outputs": [],
   "source": [
    "ds_top16.to_csv(\"C:/Users/tvpia/Desktop/Final project/final-project/your-project/Datasets/ds_top16.csv\")\n",
    "#save this csv later"
   ]
  },
  {
   "cell_type": "markdown",
   "metadata": {},
   "source": [
    "Now lets create a dataframe the coutries labeled within groups based on economic system and religious past of the country"
   ]
  },
  {
   "cell_type": "code",
   "execution_count": 161,
   "metadata": {},
   "outputs": [],
   "source": [
    "#first let's creat the list we will use to map our countries\n",
    "Prima_cap= [\"US\",\"GB\",\"AU\",\"NZ\"]\n",
    "Cent_E=[\"CA\",\"DE\",\"FR\",\"IT\",\"IE\",\"NL\",\"BE\",\"ES\",\"GR\",\"PT\",\"HU\",\"AT\",\"CH\"]\n",
    "Nor_E =[\"FI\",\"SE\",\"NO\",\"DK\",\"IS\"]\n",
    "Sou_Am=[\"AR\",\"BR\",\"MX\",\"CL\",\"CO\"]\n",
    "India=[\"IN\"]\n",
    "Asia=[\"PH\",\"ID\",\"MY\",\"JP\",\"CN\",\"TH\",\"KR\"]\n",
    "Ex_com=[\"RO\",\"HR\",\"RS\",\"BG\",\"RU\",\"CZ\",\"SI\",\"EE\",\"LT\",\"SK\",\"LV\",\"VN\"]\n",
    "#africa=[\"ZA\"]\n",
    "#mus=[\"AE\"]\n",
    "#PL poland catholic or ex comm \n",
    "#singapore  sg asia or prot cap, same for Hong kong HK\n",
    "#turkey tr\n",
    "#ISRAEL il\n",
    "#pakistan pk\n",
    "#bosnia BA ex comm or muslim\n",
    "#TT trinidad and tobago\n",
    "#pr puerto rico\n",
    "#drop EU \n",
    "#stop at coutnies with 40 entries for now"
   ]
  },
  {
   "cell_type": "code",
   "execution_count": 171,
   "metadata": {},
   "outputs": [],
   "source": [
    "#from collections import Counter\n",
    "#print(Counter(ds.country))\n"
   ]
  },
  {
   "cell_type": "code",
   "execution_count": 164,
   "metadata": {},
   "outputs": [
    {
     "name": "stdout",
     "output_type": "stream",
     "text": [
      "{'CA': 'Center_E', 'DE': 'Center_E', 'FR': 'Center_E', 'IT': 'Center_E', 'IE': 'Center_E', 'NL': 'Center_E', 'BE': 'Center_E', 'ES': 'Center_E', 'GR': 'Center_E', 'PT': 'Center_E', 'HU': 'Center_E', 'AT': 'Center_E', 'CH': 'Center_E', 'FI': 'Northern_E', 'SE': 'Northern_E', 'NO': 'Northern_E', 'DK': 'Northern_E', 'IS': 'Northern_E', 'AR': 'South_Am', 'BR': 'South_Am', 'MX': 'South_Am', 'CL': 'South_Am', 'CO': 'South_Am', 'IN': 'India', 'PH': 'Asia', 'ID': 'Asia', 'MY': 'Asia', 'JP': 'Asia', 'CN': 'Asia', 'TH': 'Asia', 'KR': 'Asia', 'RO': 'Former_comm', 'HR': 'Former_comm', 'RS': 'Former_comm', 'BG': 'Former_comm', 'RU': 'Former_comm', 'CZ': 'Former_comm', 'SI': 'Former_comm', 'EE': 'Former_comm', 'LT': 'Former_comm', 'SK': 'Former_comm', 'LV': 'Former_comm', 'VN': 'Former_comm', 'US': 'Capitalism centers', 'GB': 'Capitalism centers', 'AU': 'Capitalism centers', 'NZ': 'Capitalism centers'}\n"
     ]
    }
   ],
   "source": [
    "Center_E = {x: 'Center_E' for x in Cent_E}\n",
    "Nor_E = {x : 'Northern_E' for x in Nor_E}\n",
    "Sou_Am = {x : 'South_Am' for x in Sou_Am}\n",
    "India= {x : 'India' for x in India}\n",
    "Asia = {x : 'Asia' for x in Asia}\n",
    "Ex_comm = {x : 'Former_comm' for x in Ex_com}\n",
    "English_speak_capitalism ={ x : \"Capitalism centers\" for x in Prima_cap}\n",
    "\n",
    "zones = {**Center_E,**Nor_E,**Sou_Am,**India,**Asia,**Ex_comm,**English_speak_capitalism}\n",
    "print(zones)"
   ]
  },
  {
   "cell_type": "code",
   "execution_count": 165,
   "metadata": {},
   "outputs": [],
   "source": [
    "ds_zones =ds.copy()"
   ]
  },
  {
   "cell_type": "code",
   "execution_count": 166,
   "metadata": {},
   "outputs": [],
   "source": [
    "ds_zones[\"Zone\"]= ds_zones.country.map(zones)"
   ]
  },
  {
   "cell_type": "code",
   "execution_count": 169,
   "metadata": {},
   "outputs": [
    {
     "data": {
      "text/plain": [
       "Capitalism centers    37795\n",
       "Center_E               7197\n",
       "Northern_E             1622\n",
       "Former_comm            1526\n",
       "Asia                   1277\n",
       "South_Am               1068\n",
       "India                   659\n",
       "Name: Zone, dtype: int64"
      ]
     },
     "execution_count": 169,
     "metadata": {},
     "output_type": "execute_result"
    }
   ],
   "source": [
    "ds_zones.Zone.value_counts()"
   ]
  },
  {
   "cell_type": "code",
   "execution_count": 170,
   "metadata": {},
   "outputs": [
    {
     "data": {
      "text/plain": [
       "(53893, 28)"
      ]
     },
     "execution_count": 170,
     "metadata": {},
     "output_type": "execute_result"
    }
   ],
   "source": [
    "ds_zones.shape"
   ]
  },
  {
   "cell_type": "code",
   "execution_count": null,
   "metadata": {},
   "outputs": [],
   "source": [
    "#finish the mapping with the few unsure cases, drop the nans and save csv"
   ]
  }
 ],
 "metadata": {
  "kernelspec": {
   "display_name": "Python 3",
   "language": "python",
   "name": "python3"
  },
  "language_info": {
   "codemirror_mode": {
    "name": "ipython",
    "version": 3
   },
   "file_extension": ".py",
   "mimetype": "text/x-python",
   "name": "python",
   "nbconvert_exporter": "python",
   "pygments_lexer": "ipython3",
   "version": "3.7.4"
  }
 },
 "nbformat": 4,
 "nbformat_minor": 2
}
