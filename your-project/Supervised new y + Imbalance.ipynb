{
 "cells": [
  {
   "cell_type": "code",
   "execution_count": 201,
   "metadata": {},
   "outputs": [],
   "source": [
    "import pandas as pd\n",
    "import numpy as np\n",
    "from sklearn.linear_model import LogisticRegression\n",
    "from sklearn.model_selection import train_test_split\n",
    "from sklearn.metrics import accuracy_score\n",
    "from sklearn.metrics import confusion_matrix\n",
    "from sklearn.neighbors import KNeighborsClassifier\n",
    "import seaborn as sns; sns.set()\n",
    "import matplotlib.pyplot as plt\n",
    "from sklearn.tree import DecisionTreeClassifier\n",
    "from sklearn.ensemble import RandomForestClassifier\n",
    "from sklearn.preprocessing import StandardScaler, LabelEncoder\n",
    "from sklearn.ensemble import RandomForestRegressor\n",
    "from sklearn.datasets import make_regression\n",
    "from sklearn.compose import ColumnTransformer\n",
    "from sklearn.preprocessing import StandardScaler\n",
    "from sklearn.compose import make_column_transformer\n",
    "from imblearn.over_sampling import SMOTE\n",
    "from sklearn.metrics import f1_score, confusion_matrix, precision_score, recall_score, accuracy_score\n",
    "from sklearn.model_selection import GridSearchCV, validation_curve"
   ]
  },
  {
   "cell_type": "code",
   "execution_count": 202,
   "metadata": {},
   "outputs": [],
   "source": [
    "ds = pd.read_csv(\"C:/Users/tvpia/Desktop/Final project/final-project/your-project/Datasets/ds_flagged.csv\")\n",
    "pd.set_option('max_columns', 150)"
   ]
  },
  {
   "cell_type": "code",
   "execution_count": 203,
   "metadata": {},
   "outputs": [],
   "source": [
    "ds.drop(columns=\"Unnamed: 0\",inplace=True)"
   ]
  },
  {
   "cell_type": "code",
   "execution_count": 204,
   "metadata": {},
   "outputs": [
    {
     "data": {
      "text/html": [
       "<div>\n",
       "<style scoped>\n",
       "    .dataframe tbody tr th:only-of-type {\n",
       "        vertical-align: middle;\n",
       "    }\n",
       "\n",
       "    .dataframe tbody tr th {\n",
       "        vertical-align: top;\n",
       "    }\n",
       "\n",
       "    .dataframe thead th {\n",
       "        text-align: right;\n",
       "    }\n",
       "</style>\n",
       "<table border=\"1\" class=\"dataframe\">\n",
       "  <thead>\n",
       "    <tr style=\"text-align: right;\">\n",
       "      <th></th>\n",
       "      <th>HSNS1</th>\n",
       "      <th>HSNS2</th>\n",
       "      <th>HSNS3</th>\n",
       "      <th>HSNS4</th>\n",
       "      <th>HSNS5</th>\n",
       "      <th>HSNS6</th>\n",
       "      <th>HSNS7</th>\n",
       "      <th>HSNS8</th>\n",
       "      <th>HSNS9</th>\n",
       "      <th>HSNS10</th>\n",
       "      <th>DDP1</th>\n",
       "      <th>DDP2</th>\n",
       "      <th>DDP3</th>\n",
       "      <th>DDP4</th>\n",
       "      <th>DDN1</th>\n",
       "      <th>DDN2</th>\n",
       "      <th>DDN3</th>\n",
       "      <th>DDN4</th>\n",
       "      <th>DDM1</th>\n",
       "      <th>DDM2</th>\n",
       "      <th>DDM3</th>\n",
       "      <th>DDM4</th>\n",
       "      <th>age</th>\n",
       "      <th>gender</th>\n",
       "      <th>accuracy</th>\n",
       "      <th>country</th>\n",
       "      <th>HSNScale</th>\n",
       "      <th>HSNS1_flag</th>\n",
       "      <th>HSNS2_flag</th>\n",
       "      <th>HSNS3_flag</th>\n",
       "      <th>HSNS4_flag</th>\n",
       "      <th>HSNS5_flag</th>\n",
       "      <th>HSNS6_flag</th>\n",
       "      <th>HSNS7_flag</th>\n",
       "      <th>HSNS8_flag</th>\n",
       "      <th>HSNS9_flag</th>\n",
       "      <th>HSNS10_flag</th>\n",
       "      <th>DDP1_flag</th>\n",
       "      <th>DDP2_flag</th>\n",
       "      <th>DDP3_flag</th>\n",
       "      <th>DDP4_flag</th>\n",
       "      <th>DDN1_flag</th>\n",
       "      <th>DDN2_flag</th>\n",
       "      <th>DDN3_flag</th>\n",
       "      <th>DDN4_flag</th>\n",
       "      <th>DDM1_flag</th>\n",
       "      <th>DDM2_flag</th>\n",
       "      <th>DDM3_flag</th>\n",
       "      <th>DDM4_flag</th>\n",
       "    </tr>\n",
       "  </thead>\n",
       "  <tbody>\n",
       "    <tr>\n",
       "      <td>0</td>\n",
       "      <td>2</td>\n",
       "      <td>4</td>\n",
       "      <td>5</td>\n",
       "      <td>1</td>\n",
       "      <td>4</td>\n",
       "      <td>5</td>\n",
       "      <td>4</td>\n",
       "      <td>3</td>\n",
       "      <td>3</td>\n",
       "      <td>2</td>\n",
       "      <td>1</td>\n",
       "      <td>1</td>\n",
       "      <td>4</td>\n",
       "      <td>4</td>\n",
       "      <td>2</td>\n",
       "      <td>1</td>\n",
       "      <td>1</td>\n",
       "      <td>1</td>\n",
       "      <td>1</td>\n",
       "      <td>2</td>\n",
       "      <td>2</td>\n",
       "      <td>1</td>\n",
       "      <td>37</td>\n",
       "      <td>2</td>\n",
       "      <td>98</td>\n",
       "      <td>PT</td>\n",
       "      <td>0.62</td>\n",
       "      <td>0</td>\n",
       "      <td>0</td>\n",
       "      <td>0</td>\n",
       "      <td>0</td>\n",
       "      <td>0</td>\n",
       "      <td>0</td>\n",
       "      <td>0</td>\n",
       "      <td>0</td>\n",
       "      <td>0</td>\n",
       "      <td>0</td>\n",
       "      <td>0</td>\n",
       "      <td>0</td>\n",
       "      <td>0</td>\n",
       "      <td>0</td>\n",
       "      <td>0</td>\n",
       "      <td>0</td>\n",
       "      <td>0</td>\n",
       "      <td>0</td>\n",
       "      <td>0</td>\n",
       "      <td>0</td>\n",
       "      <td>0</td>\n",
       "      <td>0</td>\n",
       "    </tr>\n",
       "  </tbody>\n",
       "</table>\n",
       "</div>"
      ],
      "text/plain": [
       "   HSNS1  HSNS2  HSNS3  HSNS4  HSNS5  HSNS6  HSNS7  HSNS8  HSNS9  HSNS10  \\\n",
       "0      2      4      5      1      4      5      4      3      3       2   \n",
       "\n",
       "   DDP1  DDP2  DDP3  DDP4  DDN1  DDN2  DDN3  DDN4  DDM1  DDM2  DDM3  DDM4  \\\n",
       "0     1     1     4     4     2     1     1     1     1     2     2     1   \n",
       "\n",
       "   age  gender  accuracy country  HSNScale  HSNS1_flag  HSNS2_flag  \\\n",
       "0   37       2        98      PT      0.62           0           0   \n",
       "\n",
       "   HSNS3_flag  HSNS4_flag  HSNS5_flag  HSNS6_flag  HSNS7_flag  HSNS8_flag  \\\n",
       "0           0           0           0           0           0           0   \n",
       "\n",
       "   HSNS9_flag  HSNS10_flag  DDP1_flag  DDP2_flag  DDP3_flag  DDP4_flag  \\\n",
       "0           0            0          0          0          0          0   \n",
       "\n",
       "   DDN1_flag  DDN2_flag  DDN3_flag  DDN4_flag  DDM1_flag  DDM2_flag  \\\n",
       "0          0          0          0          0          0          0   \n",
       "\n",
       "   DDM3_flag  DDM4_flag  \n",
       "0          0          0  "
      ]
     },
     "execution_count": 204,
     "metadata": {},
     "output_type": "execute_result"
    }
   ],
   "source": [
    "ds.head(1)"
   ]
  },
  {
   "cell_type": "markdown",
   "metadata": {},
   "source": [
    "We will try to see if we can improve our results by grouping English speaking capitalist countries (US GB AU NL)"
   ]
  },
  {
   "cell_type": "code",
   "execution_count": 205,
   "metadata": {},
   "outputs": [],
   "source": [
    "eng_cap= [\"US\",\"GB\",\"AU\",\"NZ\"]"
   ]
  },
  {
   "cell_type": "code",
   "execution_count": 206,
   "metadata": {},
   "outputs": [],
   "source": [
    "ds[\"cap_other\"]=np.where(ds.country.isin(eng_cap),0,1)"
   ]
  },
  {
   "cell_type": "code",
   "execution_count": 207,
   "metadata": {},
   "outputs": [],
   "source": [
    "ds.head(5)\n",
    "ds1 = ds.copy()"
   ]
  },
  {
   "cell_type": "code",
   "execution_count": 208,
   "metadata": {},
   "outputs": [
    {
     "data": {
      "text/plain": [
       "0    36852\n",
       "1    15777\n",
       "Name: cap_other, dtype: int64"
      ]
     },
     "execution_count": 208,
     "metadata": {},
     "output_type": "execute_result"
    }
   ],
   "source": [
    "ds.cap_other.value_counts()"
   ]
  },
  {
   "cell_type": "code",
   "execution_count": 209,
   "metadata": {},
   "outputs": [],
   "source": [
    "ds.drop(columns=\"country\",axis=1,inplace=True)"
   ]
  },
  {
   "cell_type": "code",
   "execution_count": 210,
   "metadata": {},
   "outputs": [],
   "source": [
    "features = ds[['age','accuracy']]\n",
    "\n",
    "# Standardize features\n",
    "scaler = StandardScaler()\n",
    "features_std = scaler.fit_transform(features)\n",
    "\n",
    "ds[['age','accuracy']]=features_std"
   ]
  },
  {
   "cell_type": "code",
   "execution_count": 211,
   "metadata": {},
   "outputs": [
    {
     "data": {
      "text/html": [
       "<div>\n",
       "<style scoped>\n",
       "    .dataframe tbody tr th:only-of-type {\n",
       "        vertical-align: middle;\n",
       "    }\n",
       "\n",
       "    .dataframe tbody tr th {\n",
       "        vertical-align: top;\n",
       "    }\n",
       "\n",
       "    .dataframe thead th {\n",
       "        text-align: right;\n",
       "    }\n",
       "</style>\n",
       "<table border=\"1\" class=\"dataframe\">\n",
       "  <thead>\n",
       "    <tr style=\"text-align: right;\">\n",
       "      <th></th>\n",
       "      <th>HSNS1</th>\n",
       "      <th>HSNS2</th>\n",
       "      <th>HSNS3</th>\n",
       "      <th>HSNS4</th>\n",
       "      <th>HSNS5</th>\n",
       "      <th>HSNS6</th>\n",
       "      <th>HSNS7</th>\n",
       "      <th>HSNS8</th>\n",
       "      <th>HSNS9</th>\n",
       "      <th>HSNS10</th>\n",
       "      <th>DDP1</th>\n",
       "      <th>DDP2</th>\n",
       "      <th>DDP3</th>\n",
       "      <th>DDP4</th>\n",
       "      <th>DDN1</th>\n",
       "      <th>DDN2</th>\n",
       "      <th>DDN3</th>\n",
       "      <th>DDN4</th>\n",
       "      <th>DDM1</th>\n",
       "      <th>DDM2</th>\n",
       "      <th>DDM3</th>\n",
       "      <th>DDM4</th>\n",
       "      <th>age</th>\n",
       "      <th>gender</th>\n",
       "      <th>accuracy</th>\n",
       "      <th>HSNScale</th>\n",
       "      <th>HSNS1_flag</th>\n",
       "      <th>HSNS2_flag</th>\n",
       "      <th>HSNS3_flag</th>\n",
       "      <th>HSNS4_flag</th>\n",
       "      <th>HSNS5_flag</th>\n",
       "      <th>HSNS6_flag</th>\n",
       "      <th>HSNS7_flag</th>\n",
       "      <th>HSNS8_flag</th>\n",
       "      <th>HSNS9_flag</th>\n",
       "      <th>HSNS10_flag</th>\n",
       "      <th>DDP1_flag</th>\n",
       "      <th>DDP2_flag</th>\n",
       "      <th>DDP3_flag</th>\n",
       "      <th>DDP4_flag</th>\n",
       "      <th>DDN1_flag</th>\n",
       "      <th>DDN2_flag</th>\n",
       "      <th>DDN3_flag</th>\n",
       "      <th>DDN4_flag</th>\n",
       "      <th>DDM1_flag</th>\n",
       "      <th>DDM2_flag</th>\n",
       "      <th>DDM3_flag</th>\n",
       "      <th>DDM4_flag</th>\n",
       "      <th>cap_other</th>\n",
       "    </tr>\n",
       "  </thead>\n",
       "  <tbody>\n",
       "    <tr>\n",
       "      <td>0</td>\n",
       "      <td>2</td>\n",
       "      <td>4</td>\n",
       "      <td>5</td>\n",
       "      <td>1</td>\n",
       "      <td>4</td>\n",
       "      <td>5</td>\n",
       "      <td>4</td>\n",
       "      <td>3</td>\n",
       "      <td>3</td>\n",
       "      <td>2</td>\n",
       "      <td>1</td>\n",
       "      <td>1</td>\n",
       "      <td>4</td>\n",
       "      <td>4</td>\n",
       "      <td>2</td>\n",
       "      <td>1</td>\n",
       "      <td>1</td>\n",
       "      <td>1</td>\n",
       "      <td>1</td>\n",
       "      <td>2</td>\n",
       "      <td>2</td>\n",
       "      <td>1</td>\n",
       "      <td>1.03349</td>\n",
       "      <td>2</td>\n",
       "      <td>0.900357</td>\n",
       "      <td>0.62</td>\n",
       "      <td>0</td>\n",
       "      <td>0</td>\n",
       "      <td>0</td>\n",
       "      <td>0</td>\n",
       "      <td>0</td>\n",
       "      <td>0</td>\n",
       "      <td>0</td>\n",
       "      <td>0</td>\n",
       "      <td>0</td>\n",
       "      <td>0</td>\n",
       "      <td>0</td>\n",
       "      <td>0</td>\n",
       "      <td>0</td>\n",
       "      <td>0</td>\n",
       "      <td>0</td>\n",
       "      <td>0</td>\n",
       "      <td>0</td>\n",
       "      <td>0</td>\n",
       "      <td>0</td>\n",
       "      <td>0</td>\n",
       "      <td>0</td>\n",
       "      <td>0</td>\n",
       "      <td>1</td>\n",
       "    </tr>\n",
       "  </tbody>\n",
       "</table>\n",
       "</div>"
      ],
      "text/plain": [
       "   HSNS1  HSNS2  HSNS3  HSNS4  HSNS5  HSNS6  HSNS7  HSNS8  HSNS9  HSNS10  \\\n",
       "0      2      4      5      1      4      5      4      3      3       2   \n",
       "\n",
       "   DDP1  DDP2  DDP3  DDP4  DDN1  DDN2  DDN3  DDN4  DDM1  DDM2  DDM3  DDM4  \\\n",
       "0     1     1     4     4     2     1     1     1     1     2     2     1   \n",
       "\n",
       "       age  gender  accuracy  HSNScale  HSNS1_flag  HSNS2_flag  HSNS3_flag  \\\n",
       "0  1.03349       2  0.900357      0.62           0           0           0   \n",
       "\n",
       "   HSNS4_flag  HSNS5_flag  HSNS6_flag  HSNS7_flag  HSNS8_flag  HSNS9_flag  \\\n",
       "0           0           0           0           0           0           0   \n",
       "\n",
       "   HSNS10_flag  DDP1_flag  DDP2_flag  DDP3_flag  DDP4_flag  DDN1_flag  \\\n",
       "0            0          0          0          0          0          0   \n",
       "\n",
       "   DDN2_flag  DDN3_flag  DDN4_flag  DDM1_flag  DDM2_flag  DDM3_flag  \\\n",
       "0          0          0          0          0          0          0   \n",
       "\n",
       "   DDM4_flag  cap_other  \n",
       "0          0          1  "
      ]
     },
     "execution_count": 211,
     "metadata": {},
     "output_type": "execute_result"
    }
   ],
   "source": [
    "ds.head(1)"
   ]
  },
  {
   "cell_type": "markdown",
   "metadata": {},
   "source": [
    "Let's first define a train test set and then resample the training set to avoid imbalance"
   ]
  },
  {
   "cell_type": "code",
   "execution_count": 209,
   "metadata": {},
   "outputs": [],
   "source": [
    "\n",
    "X = ds.drop(columns=\"cap_other\",axis=1)\n",
    "y = ds.cap_other"
   ]
  },
  {
   "cell_type": "code",
   "execution_count": 210,
   "metadata": {},
   "outputs": [],
   "source": [
    "X_train, X_test, y_train, y_test = train_test_split(X, y, test_size = 0.025, random_state=67)\n",
    "#I deciding to keep 2.5% of the data for testing, since it is already about 2 500 rows"
   ]
  },
  {
   "cell_type": "code",
   "execution_count": 151,
   "metadata": {},
   "outputs": [],
   "source": [
    "#now lets adress imbalance with Smote"
   ]
  },
  {
   "cell_type": "code",
   "execution_count": 211,
   "metadata": {},
   "outputs": [
    {
     "name": "stdout",
     "output_type": "stream",
     "text": [
      "0    35943\n",
      "1    15370\n",
      "Name: cap_other, dtype: int64 [35943 35943]\n"
     ]
    }
   ],
   "source": [
    "sm = SMOTE(random_state=67)\n",
    "x_train_res, y_train_res = sm.fit_sample(X_train, y_train)\n",
    "print (y_train.value_counts() , np.bincount(y_train_res))"
   ]
  },
  {
   "cell_type": "markdown",
   "metadata": {},
   "source": [
    "Random Forest Classifier"
   ]
  },
  {
   "cell_type": "code",
   "execution_count": 212,
   "metadata": {},
   "outputs": [
    {
     "name": "stderr",
     "output_type": "stream",
     "text": [
      "C:\\Users\\tvpia\\Anaconda3\\lib\\site-packages\\sklearn\\ensemble\\forest.py:245: FutureWarning: The default value of n_estimators will change from 10 in version 0.20 to 100 in 0.22.\n",
      "  \"10 in version 0.20 to 100 in 0.22.\", FutureWarning)\n"
     ]
    },
    {
     "data": {
      "text/plain": [
       "RandomForestClassifier(bootstrap=True, class_weight=None, criterion='gini',\n",
       "                       max_depth=None, max_features='auto', max_leaf_nodes=None,\n",
       "                       min_impurity_decrease=0.0, min_impurity_split=None,\n",
       "                       min_samples_leaf=1, min_samples_split=2,\n",
       "                       min_weight_fraction_leaf=0.0, n_estimators=10,\n",
       "                       n_jobs=None, oob_score=False, random_state=None,\n",
       "                       verbose=0, warm_start=False)"
      ]
     },
     "execution_count": 212,
     "metadata": {},
     "output_type": "execute_result"
    }
   ],
   "source": [
    "model = RandomForestClassifier()\n",
    "model.fit(x_train_res , y_train_res)"
   ]
  },
  {
   "cell_type": "code",
   "execution_count": 213,
   "metadata": {},
   "outputs": [
    {
     "name": "stdout",
     "output_type": "stream",
     "text": [
      "accuracy: 0.6747720364741642 precision: 0.42857142857142855 recall: 0.1547911547911548 F1: 0.22743682310469315\n"
     ]
    }
   ],
   "source": [
    "y_pred = model.predict(X_test)\n",
    "cm = confusion_matrix(y_test,y_pred)\n",
    "ac = accuracy_score(y_test, y_pred)\n",
    "pr = precision_score(y_test, y_pred)\n",
    "rc = recall_score(y_test, y_pred)\n",
    "f1 = f1_score(y_test, y_pred)\n",
    "\n",
    "print('accuracy:', ac, 'precision:', pr, 'recall:', rc, 'F1:', f1)"
   ]
  },
  {
   "cell_type": "code",
   "execution_count": 214,
   "metadata": {},
   "outputs": [
    {
     "data": {
      "text/plain": [
       "array([[825,  84],\n",
       "       [344,  63]], dtype=int64)"
      ]
     },
     "execution_count": 214,
     "metadata": {},
     "output_type": "execute_result"
    }
   ],
   "source": [
    "cm"
   ]
  },
  {
   "cell_type": "markdown",
   "metadata": {},
   "source": [
    "Recall is really bad, maybe there is an issue with the sampling\n",
    "Lets try both downsample and upsample"
   ]
  },
  {
   "cell_type": "code",
   "execution_count": 212,
   "metadata": {},
   "outputs": [
    {
     "data": {
      "text/plain": [
       "0    36852\n",
       "1    15777\n",
       "Name: cap_other, dtype: int64"
      ]
     },
     "execution_count": 212,
     "metadata": {},
     "output_type": "execute_result"
    }
   ],
   "source": [
    "ds.cap_other.value_counts()"
   ]
  },
  {
   "cell_type": "code",
   "execution_count": 213,
   "metadata": {},
   "outputs": [],
   "source": [
    "msk = np.random.rand(len(ds)) < 0.975\n",
    "\n",
    "train = ds[msk]\n",
    "\n",
    "test = ds[~msk]"
   ]
  },
  {
   "cell_type": "code",
   "execution_count": 214,
   "metadata": {},
   "outputs": [],
   "source": [
    "X_test = test.drop(columns=\"cap_other\",axis=1)\n",
    "y_test = test.cap_other"
   ]
  },
  {
   "cell_type": "code",
   "execution_count": 215,
   "metadata": {},
   "outputs": [
    {
     "data": {
      "text/plain": [
       "0    35937\n",
       "1    15349\n",
       "Name: cap_other, dtype: int64"
      ]
     },
     "execution_count": 215,
     "metadata": {},
     "output_type": "execute_result"
    }
   ],
   "source": [
    "train.cap_other.value_counts()"
   ]
  },
  {
   "cell_type": "code",
   "execution_count": 216,
   "metadata": {},
   "outputs": [
    {
     "name": "stdout",
     "output_type": "stream",
     "text": [
      "0    15388\n",
      "1    15349\n",
      "Name: cap_other, dtype: int64\n"
     ]
    }
   ],
   "source": [
    "from sklearn.utils import resample\n",
    "\n",
    "ds_majority=train.loc[ds.cap_other == 0]\n",
    "ds_minority = train.loc[ds.cap_other == 1]\n",
    "\n",
    "ds_majority_downsampled = resample(ds_majority, \n",
    "                                 replace=False,     \n",
    "                                 n_samples=15388,    \n",
    "                                 random_state=67) \n",
    "ds_train = pd.concat([ds_majority_downsampled, ds_minority])\n",
    "\n",
    "\n",
    "# Display new class counts\n",
    "print (ds_train.cap_other.value_counts())\n"
   ]
  },
  {
   "cell_type": "code",
   "execution_count": 217,
   "metadata": {},
   "outputs": [],
   "source": [
    "\n",
    "X_train = ds_train.drop(columns=\"cap_other\",axis=1)\n",
    "y_train = ds_train.cap_other"
   ]
  },
  {
   "cell_type": "code",
   "execution_count": 218,
   "metadata": {},
   "outputs": [
    {
     "name": "stderr",
     "output_type": "stream",
     "text": [
      "C:\\Users\\tvpia\\Anaconda3\\lib\\site-packages\\sklearn\\ensemble\\forest.py:245: FutureWarning: The default value of n_estimators will change from 10 in version 0.20 to 100 in 0.22.\n",
      "  \"10 in version 0.20 to 100 in 0.22.\", FutureWarning)\n"
     ]
    },
    {
     "data": {
      "text/plain": [
       "RandomForestClassifier(bootstrap=True, class_weight=None, criterion='gini',\n",
       "                       max_depth=None, max_features='auto', max_leaf_nodes=None,\n",
       "                       min_impurity_decrease=0.0, min_impurity_split=None,\n",
       "                       min_samples_leaf=1, min_samples_split=2,\n",
       "                       min_weight_fraction_leaf=0.0, n_estimators=10,\n",
       "                       n_jobs=None, oob_score=False, random_state=None,\n",
       "                       verbose=0, warm_start=False)"
      ]
     },
     "execution_count": 218,
     "metadata": {},
     "output_type": "execute_result"
    }
   ],
   "source": [
    "model = RandomForestClassifier()\n",
    "model.fit(X_train, y_train)"
   ]
  },
  {
   "cell_type": "code",
   "execution_count": 219,
   "metadata": {},
   "outputs": [
    {
     "name": "stdout",
     "output_type": "stream",
     "text": [
      "accuracy: 0.580789277736411 precision: 0.3652694610778443 recall: 0.42757009345794394 F1: 0.3939720129171152\n"
     ]
    }
   ],
   "source": [
    "y_pred = model.predict(X_test)\n",
    "cm = confusion_matrix(y_test,y_pred)\n",
    "ac = accuracy_score(y_test, y_pred)\n",
    "pr = precision_score(y_test, y_pred)\n",
    "rc = recall_score(y_test, y_pred)\n",
    "f1 = f1_score(y_test, y_pred)\n",
    "\n",
    "print('accuracy:', ac, 'precision:', pr, 'recall:', rc, 'F1:', f1)"
   ]
  },
  {
   "cell_type": "code",
   "execution_count": 220,
   "metadata": {},
   "outputs": [
    {
     "data": {
      "text/plain": [
       "array([[597, 318],\n",
       "       [245, 183]], dtype=int64)"
      ]
     },
     "execution_count": 220,
     "metadata": {},
     "output_type": "execute_result"
    }
   ],
   "source": [
    "cm"
   ]
  },
  {
   "cell_type": "code",
   "execution_count": 221,
   "metadata": {},
   "outputs": [
    {
     "data": {
      "text/html": [
       "<div>\n",
       "<style scoped>\n",
       "    .dataframe tbody tr th:only-of-type {\n",
       "        vertical-align: middle;\n",
       "    }\n",
       "\n",
       "    .dataframe tbody tr th {\n",
       "        vertical-align: top;\n",
       "    }\n",
       "\n",
       "    .dataframe thead th {\n",
       "        text-align: right;\n",
       "    }\n",
       "</style>\n",
       "<table border=\"1\" class=\"dataframe\">\n",
       "  <thead>\n",
       "    <tr style=\"text-align: right;\">\n",
       "      <th></th>\n",
       "      <th>HSNS1</th>\n",
       "      <th>HSNS2</th>\n",
       "      <th>HSNS3</th>\n",
       "      <th>HSNS4</th>\n",
       "      <th>HSNS5</th>\n",
       "      <th>HSNS6</th>\n",
       "      <th>HSNS7</th>\n",
       "      <th>HSNS8</th>\n",
       "      <th>HSNS9</th>\n",
       "      <th>HSNS10</th>\n",
       "      <th>DDP1</th>\n",
       "      <th>DDP2</th>\n",
       "      <th>DDP3</th>\n",
       "      <th>DDP4</th>\n",
       "      <th>DDN1</th>\n",
       "      <th>DDN2</th>\n",
       "      <th>DDN3</th>\n",
       "      <th>DDN4</th>\n",
       "      <th>DDM1</th>\n",
       "      <th>DDM2</th>\n",
       "      <th>DDM3</th>\n",
       "      <th>DDM4</th>\n",
       "      <th>age</th>\n",
       "      <th>gender</th>\n",
       "      <th>accuracy</th>\n",
       "      <th>HSNScale</th>\n",
       "      <th>HSNS1_flag</th>\n",
       "      <th>HSNS2_flag</th>\n",
       "      <th>HSNS3_flag</th>\n",
       "      <th>HSNS4_flag</th>\n",
       "      <th>HSNS5_flag</th>\n",
       "      <th>HSNS6_flag</th>\n",
       "      <th>HSNS7_flag</th>\n",
       "      <th>HSNS8_flag</th>\n",
       "      <th>HSNS9_flag</th>\n",
       "      <th>HSNS10_flag</th>\n",
       "      <th>DDP1_flag</th>\n",
       "      <th>DDP2_flag</th>\n",
       "      <th>DDP3_flag</th>\n",
       "      <th>DDP4_flag</th>\n",
       "      <th>DDN1_flag</th>\n",
       "      <th>DDN2_flag</th>\n",
       "      <th>DDN3_flag</th>\n",
       "      <th>DDN4_flag</th>\n",
       "      <th>DDM1_flag</th>\n",
       "      <th>DDM2_flag</th>\n",
       "      <th>DDM3_flag</th>\n",
       "      <th>DDM4_flag</th>\n",
       "      <th>cap_other</th>\n",
       "    </tr>\n",
       "  </thead>\n",
       "  <tbody>\n",
       "    <tr>\n",
       "      <td>0</td>\n",
       "      <td>2</td>\n",
       "      <td>4</td>\n",
       "      <td>5</td>\n",
       "      <td>1</td>\n",
       "      <td>4</td>\n",
       "      <td>5</td>\n",
       "      <td>4</td>\n",
       "      <td>3</td>\n",
       "      <td>3</td>\n",
       "      <td>2</td>\n",
       "      <td>1</td>\n",
       "      <td>1</td>\n",
       "      <td>4</td>\n",
       "      <td>4</td>\n",
       "      <td>2</td>\n",
       "      <td>1</td>\n",
       "      <td>1</td>\n",
       "      <td>1</td>\n",
       "      <td>1</td>\n",
       "      <td>2</td>\n",
       "      <td>2</td>\n",
       "      <td>1</td>\n",
       "      <td>1.03349</td>\n",
       "      <td>2</td>\n",
       "      <td>0.900357</td>\n",
       "      <td>0.62</td>\n",
       "      <td>0</td>\n",
       "      <td>0</td>\n",
       "      <td>0</td>\n",
       "      <td>0</td>\n",
       "      <td>0</td>\n",
       "      <td>0</td>\n",
       "      <td>0</td>\n",
       "      <td>0</td>\n",
       "      <td>0</td>\n",
       "      <td>0</td>\n",
       "      <td>0</td>\n",
       "      <td>0</td>\n",
       "      <td>0</td>\n",
       "      <td>0</td>\n",
       "      <td>0</td>\n",
       "      <td>0</td>\n",
       "      <td>0</td>\n",
       "      <td>0</td>\n",
       "      <td>0</td>\n",
       "      <td>0</td>\n",
       "      <td>0</td>\n",
       "      <td>0</td>\n",
       "      <td>1</td>\n",
       "    </tr>\n",
       "  </tbody>\n",
       "</table>\n",
       "</div>"
      ],
      "text/plain": [
       "   HSNS1  HSNS2  HSNS3  HSNS4  HSNS5  HSNS6  HSNS7  HSNS8  HSNS9  HSNS10  \\\n",
       "0      2      4      5      1      4      5      4      3      3       2   \n",
       "\n",
       "   DDP1  DDP2  DDP3  DDP4  DDN1  DDN2  DDN3  DDN4  DDM1  DDM2  DDM3  DDM4  \\\n",
       "0     1     1     4     4     2     1     1     1     1     2     2     1   \n",
       "\n",
       "       age  gender  accuracy  HSNScale  HSNS1_flag  HSNS2_flag  HSNS3_flag  \\\n",
       "0  1.03349       2  0.900357      0.62           0           0           0   \n",
       "\n",
       "   HSNS4_flag  HSNS5_flag  HSNS6_flag  HSNS7_flag  HSNS8_flag  HSNS9_flag  \\\n",
       "0           0           0           0           0           0           0   \n",
       "\n",
       "   HSNS10_flag  DDP1_flag  DDP2_flag  DDP3_flag  DDP4_flag  DDN1_flag  \\\n",
       "0            0          0          0          0          0          0   \n",
       "\n",
       "   DDN2_flag  DDN3_flag  DDN4_flag  DDM1_flag  DDM2_flag  DDM3_flag  \\\n",
       "0          0          0          0          0          0          0   \n",
       "\n",
       "   DDM4_flag  cap_other  \n",
       "0          0          1  "
      ]
     },
     "execution_count": 221,
     "metadata": {},
     "output_type": "execute_result"
    }
   ],
   "source": [
    "ds.head(1)"
   ]
  },
  {
   "cell_type": "code",
   "execution_count": 222,
   "metadata": {},
   "outputs": [
    {
     "data": {
      "text/plain": [
       "0    842\n",
       "1    501\n",
       "dtype: int64"
      ]
     },
     "execution_count": 222,
     "metadata": {},
     "output_type": "execute_result"
    }
   ],
   "source": [
    "num_out_perc = pd.Series(y_pred)\n",
    "num_out_perc.value_counts()"
   ]
  },
  {
   "cell_type": "code",
   "execution_count": 225,
   "metadata": {},
   "outputs": [
    {
     "data": {
      "text/plain": [
       "Index(['US', 'The rest of the world'], dtype='object')"
      ]
     },
     "execution_count": 225,
     "metadata": {},
     "output_type": "execute_result"
    }
   ],
   "source": [
    "num_out_perc_real.index"
   ]
  },
  {
   "cell_type": "code",
   "execution_count": 227,
   "metadata": {},
   "outputs": [
    {
     "data": {
      "image/png": "[encoded data removed]",
      "text/plain": [
       "<Figure size 1440x720 with 2 Axes>"
      ]
     },
     "metadata": {},
     "output_type": "display_data"
    }
   ],
   "source": [
    "# Percentage of outcome numerical\n",
    "num_out_perc_real = y_test.value_counts()/y_test.value_counts().sum()\n",
    "#Rename index for outcome in categorical\n",
    "num_out_perc_real.index = ['US', 'The rest of the world']\n",
    "num_out_perc_real\n",
    "\n",
    "### The Predicted Outcome values - viz 2' #### Percentage of outcome numerical\n",
    "num_out_perc_pred = num_out_perc.value_counts()/num_out_perc.value_counts().sum()\n",
    "#Rename index for outcome in categorical\n",
    "num_out_perc_pred.index = ['US','The rest of the world']\n",
    "num_out_perc_pred\n",
    "\n",
    "# Prediction Vs\n",
    "fig, axs = plt.subplots(1, 2, figsize=(20, 10))\n",
    "axs[0].bar(num_out_perc_real.index ,num_out_perc_real )\n",
    "axs[1].bar(num_out_perc_pred.index ,num_out_perc_pred)\n",
    "fig.suptitle('Reality vs Prediction', fontsize=20)\n",
    "plt.show()\n"
   ]
  },
  {
   "cell_type": "code",
   "execution_count": 256,
   "metadata": {},
   "outputs": [
    {
     "data": {
      "image/png": "[encoded data removed]",
      "text/plain": [
       "<Figure size 560x560 with 1 Axes>"
      ]
     },
     "metadata": {},
     "output_type": "display_data"
    }
   ],
   "source": [
    "## Stigma. What more easely would you bring up on an interview\n",
    "X = ['English speaking major countries','Rest of the world']\n",
    "_X = np.arange(len(X))\n",
    "plt.figure(num=None, figsize=(7,7), dpi=80, facecolor='w', edgecolor='k')\n",
    "width = 0.1\n",
    "plt.bar(_X , num_out_perc_real , width = width,label='Real data', color='powderblue')\n",
    "plt.bar(_X + width, num_out_perc_pred ,width = width, label='Prediction')\n",
    "plt.xticks(_X, X)\n",
    "plt.xticks(rotation = 25)# set labels manually\n",
    "plt.ylabel('%')\n",
    "plt.legend(['Reality','Prediction'], bbox_to_anchor=(1.05, 1), loc='upper left', borderaxespad=0.)\n",
    "plt.title('Reality vs Prediction')\n",
    "#plt.savefig('Social_Stigma.png', bbox_inches='tight')\n",
    "plt.show()"
   ]
  },
  {
   "cell_type": "code",
   "execution_count": 45,
   "metadata": {},
   "outputs": [
    {
     "data": {
      "text/plain": [
       "30760"
      ]
     },
     "execution_count": 45,
     "metadata": {},
     "output_type": "execute_result"
    }
   ],
   "source": [
    "len(X_train) "
   ]
  },
  {
   "cell_type": "code",
   "execution_count": 228,
   "metadata": {},
   "outputs": [
    {
     "data": {
      "image/png": "[encoded data removed]",
      "text/plain": [
       "<Figure size 720x360 with 1 Axes>"
      ]
     },
     "metadata": {},
     "output_type": "display_data"
    }
   ],
   "source": [
    "importances = model.feature_importances_\n",
    "\n",
    "indices = np.argsort(importances)[::-1]\n",
    "\n",
    "X = ds.drop(columns=\"cap_other\",axis=1)\n",
    "# Rearrange feature names so they match the sorted feature importances\n",
    "names = [X.columns[i] for i in indices]\n",
    "\n",
    "# Create plot\n",
    "plt.figure(figsize = (10, 5))\n",
    "\n",
    "# Create plot title\n",
    "plt.title(\"Feature Importance\")\n",
    "\n",
    "# Add bars\n",
    "plt.bar(range(X.shape[1]), importances[indices])\n",
    "\n",
    "# Add feature names as x-axis labels\n",
    "plt.xticks(range(X.shape[1]), names, rotation=90)\n",
    "\n",
    "# Show plot\n",
    "plt.show()"
   ]
  },
  {
   "cell_type": "code",
   "execution_count": null,
   "metadata": {},
   "outputs": [],
   "source": [
    "#The age feature should not be relevant here, lets try the same model after removing the age feature"
   ]
  },
  {
   "cell_type": "code",
   "execution_count": 48,
   "metadata": {},
   "outputs": [],
   "source": [
    "msk = np.random.rand(len(ds)) < 0.975\n",
    "\n",
    "train = ds[msk]\n",
    "\n",
    "test = ds[~msk]"
   ]
  },
  {
   "cell_type": "code",
   "execution_count": 49,
   "metadata": {},
   "outputs": [],
   "source": [
    "X_test = test.drop(columns=[\"cap_other\",\"age\"],axis=1)\n",
    "y_test = test.cap_other"
   ]
  },
  {
   "cell_type": "code",
   "execution_count": 50,
   "metadata": {},
   "outputs": [
    {
     "data": {
      "text/plain": [
       "0    35872\n",
       "1    15364\n",
       "Name: cap_other, dtype: int64"
      ]
     },
     "execution_count": 50,
     "metadata": {},
     "output_type": "execute_result"
    }
   ],
   "source": [
    "train.cap_other.value_counts()"
   ]
  },
  {
   "cell_type": "code",
   "execution_count": 51,
   "metadata": {},
   "outputs": [
    {
     "name": "stdout",
     "output_type": "stream",
     "text": [
      "1    15364\n",
      "0    15364\n",
      "Name: cap_other, dtype: int64\n"
     ]
    }
   ],
   "source": [
    "from sklearn.utils import resample\n",
    "\n",
    "ds_majority=train.loc[ds.cap_other == 0]\n",
    "ds_minority = train.loc[ds.cap_other == 1]\n",
    "\n",
    "ds_majority_downsampled = resample(ds_majority, \n",
    "                                 replace=False,     \n",
    "                                 n_samples=15364,    \n",
    "                                 random_state=67) \n",
    "ds_train = pd.concat([ds_majority_downsampled, ds_minority])\n",
    "\n",
    "\n",
    "# Display new class counts\n",
    "print (ds_train.cap_other.value_counts())\n"
   ]
  },
  {
   "cell_type": "code",
   "execution_count": 52,
   "metadata": {},
   "outputs": [],
   "source": [
    "\n",
    "X_train = ds_train.drop(columns=[\"cap_other\",\"age\"],axis=1)\n",
    "y_train = ds_train.cap_other"
   ]
  },
  {
   "cell_type": "code",
   "execution_count": 53,
   "metadata": {},
   "outputs": [
    {
     "name": "stderr",
     "output_type": "stream",
     "text": [
      "C:\\Users\\tvpia\\Anaconda3\\lib\\site-packages\\sklearn\\ensemble\\forest.py:245: FutureWarning: The default value of n_estimators will change from 10 in version 0.20 to 100 in 0.22.\n",
      "  \"10 in version 0.20 to 100 in 0.22.\", FutureWarning)\n"
     ]
    },
    {
     "name": "stdout",
     "output_type": "stream",
     "text": [
      "accuracy: 0.5685570710696339 precision: 0.32971014492753625 recall: 0.4406779661016949 F1: 0.37720207253886007\n"
     ]
    }
   ],
   "source": [
    "model = RandomForestClassifier()\n",
    "model.fit(X_train, y_train)\n",
    "\n",
    "y_pred = model.predict(X_test)\n",
    "cm = confusion_matrix(y_test,y_pred)\n",
    "ac = accuracy_score(y_test, y_pred)\n",
    "pr = precision_score(y_test, y_pred)\n",
    "rc = recall_score(y_test, y_pred)\n",
    "f1 = f1_score(y_test, y_pred)\n",
    "\n",
    "print('accuracy:', ac, 'precision:', pr, 'recall:', rc, 'F1:', f1)"
   ]
  },
  {
   "cell_type": "code",
   "execution_count": 54,
   "metadata": {},
   "outputs": [
    {
     "data": {
      "text/plain": [
       "array([[610, 370],\n",
       "       [231, 182]], dtype=int64)"
      ]
     },
     "execution_count": 54,
     "metadata": {},
     "output_type": "execute_result"
    }
   ],
   "source": [
    "cm"
   ]
  },
  {
   "cell_type": "markdown",
   "metadata": {},
   "source": [
    "let's do the same with upsampling before trying another model"
   ]
  },
  {
   "cell_type": "code",
   "execution_count": 55,
   "metadata": {},
   "outputs": [
    {
     "data": {
      "text/plain": [
       "0    36852\n",
       "1    15777\n",
       "Name: cap_other, dtype: int64"
      ]
     },
     "execution_count": 55,
     "metadata": {},
     "output_type": "execute_result"
    }
   ],
   "source": [
    "ds.cap_other.value_counts()"
   ]
  },
  {
   "cell_type": "code",
   "execution_count": 56,
   "metadata": {},
   "outputs": [],
   "source": [
    "msk = np.random.rand(len(ds)) < 0.975\n",
    "\n",
    "train = ds[msk]\n",
    "\n",
    "test = ds[~msk]"
   ]
  },
  {
   "cell_type": "code",
   "execution_count": 57,
   "metadata": {},
   "outputs": [
    {
     "data": {
      "text/plain": [
       "(51276, 49)"
      ]
     },
     "execution_count": 57,
     "metadata": {},
     "output_type": "execute_result"
    }
   ],
   "source": [
    "train.shape"
   ]
  },
  {
   "cell_type": "code",
   "execution_count": 58,
   "metadata": {},
   "outputs": [
    {
     "data": {
      "text/plain": [
       "(1353, 49)"
      ]
     },
     "execution_count": 58,
     "metadata": {},
     "output_type": "execute_result"
    }
   ],
   "source": [
    "test.shape"
   ]
  },
  {
   "cell_type": "code",
   "execution_count": 59,
   "metadata": {},
   "outputs": [],
   "source": [
    "\n",
    "#X_train = train.drop(columns=\"cap_other\",axis=1)\n",
    "#y_train = train.cap_other"
   ]
  },
  {
   "cell_type": "code",
   "execution_count": 60,
   "metadata": {},
   "outputs": [],
   "source": [
    "X_test = test.drop(columns=[\"cap_other\",\"age\"],axis=1)\n",
    "y_test = test.cap_other"
   ]
  },
  {
   "cell_type": "code",
   "execution_count": 61,
   "metadata": {},
   "outputs": [
    {
     "data": {
      "text/html": [
       "<div>\n",
       "<style scoped>\n",
       "    .dataframe tbody tr th:only-of-type {\n",
       "        vertical-align: middle;\n",
       "    }\n",
       "\n",
       "    .dataframe tbody tr th {\n",
       "        vertical-align: top;\n",
       "    }\n",
       "\n",
       "    .dataframe thead th {\n",
       "        text-align: right;\n",
       "    }\n",
       "</style>\n",
       "<table border=\"1\" class=\"dataframe\">\n",
       "  <thead>\n",
       "    <tr style=\"text-align: right;\">\n",
       "      <th></th>\n",
       "      <th>HSNS1</th>\n",
       "      <th>HSNS2</th>\n",
       "      <th>HSNS3</th>\n",
       "      <th>HSNS4</th>\n",
       "      <th>HSNS5</th>\n",
       "      <th>HSNS6</th>\n",
       "      <th>HSNS7</th>\n",
       "      <th>HSNS8</th>\n",
       "      <th>HSNS9</th>\n",
       "      <th>HSNS10</th>\n",
       "      <th>DDP1</th>\n",
       "      <th>DDP2</th>\n",
       "      <th>DDP3</th>\n",
       "      <th>DDP4</th>\n",
       "      <th>DDN1</th>\n",
       "      <th>DDN2</th>\n",
       "      <th>DDN3</th>\n",
       "      <th>DDN4</th>\n",
       "      <th>DDM1</th>\n",
       "      <th>DDM2</th>\n",
       "      <th>DDM3</th>\n",
       "      <th>DDM4</th>\n",
       "      <th>age</th>\n",
       "      <th>gender</th>\n",
       "      <th>accuracy</th>\n",
       "      <th>HSNScale</th>\n",
       "      <th>HSNS1_flag</th>\n",
       "      <th>HSNS2_flag</th>\n",
       "      <th>HSNS3_flag</th>\n",
       "      <th>HSNS4_flag</th>\n",
       "      <th>HSNS5_flag</th>\n",
       "      <th>HSNS6_flag</th>\n",
       "      <th>HSNS7_flag</th>\n",
       "      <th>HSNS8_flag</th>\n",
       "      <th>HSNS9_flag</th>\n",
       "      <th>HSNS10_flag</th>\n",
       "      <th>DDP1_flag</th>\n",
       "      <th>DDP2_flag</th>\n",
       "      <th>DDP3_flag</th>\n",
       "      <th>DDP4_flag</th>\n",
       "      <th>DDN1_flag</th>\n",
       "      <th>DDN2_flag</th>\n",
       "      <th>DDN3_flag</th>\n",
       "      <th>DDN4_flag</th>\n",
       "      <th>DDM1_flag</th>\n",
       "      <th>DDM2_flag</th>\n",
       "      <th>DDM3_flag</th>\n",
       "      <th>DDM4_flag</th>\n",
       "      <th>cap_other</th>\n",
       "    </tr>\n",
       "  </thead>\n",
       "  <tbody>\n",
       "    <tr>\n",
       "      <td>27</td>\n",
       "      <td>4</td>\n",
       "      <td>4</td>\n",
       "      <td>4</td>\n",
       "      <td>2</td>\n",
       "      <td>2</td>\n",
       "      <td>4</td>\n",
       "      <td>4</td>\n",
       "      <td>2</td>\n",
       "      <td>4</td>\n",
       "      <td>1</td>\n",
       "      <td>2</td>\n",
       "      <td>1</td>\n",
       "      <td>2</td>\n",
       "      <td>5</td>\n",
       "      <td>5</td>\n",
       "      <td>4</td>\n",
       "      <td>4</td>\n",
       "      <td>2</td>\n",
       "      <td>4</td>\n",
       "      <td>4</td>\n",
       "      <td>2</td>\n",
       "      <td>3</td>\n",
       "      <td>-0.82503</td>\n",
       "      <td>1</td>\n",
       "      <td>-0.343134</td>\n",
       "      <td>0.6</td>\n",
       "      <td>0</td>\n",
       "      <td>0</td>\n",
       "      <td>0</td>\n",
       "      <td>0</td>\n",
       "      <td>0</td>\n",
       "      <td>0</td>\n",
       "      <td>0</td>\n",
       "      <td>0</td>\n",
       "      <td>0</td>\n",
       "      <td>0</td>\n",
       "      <td>0</td>\n",
       "      <td>0</td>\n",
       "      <td>0</td>\n",
       "      <td>0</td>\n",
       "      <td>0</td>\n",
       "      <td>0</td>\n",
       "      <td>0</td>\n",
       "      <td>0</td>\n",
       "      <td>0</td>\n",
       "      <td>0</td>\n",
       "      <td>0</td>\n",
       "      <td>0</td>\n",
       "      <td>0</td>\n",
       "    </tr>\n",
       "  </tbody>\n",
       "</table>\n",
       "</div>"
      ],
      "text/plain": [
       "    HSNS1  HSNS2  HSNS3  HSNS4  HSNS5  HSNS6  HSNS7  HSNS8  HSNS9  HSNS10  \\\n",
       "27      4      4      4      2      2      4      4      2      4       1   \n",
       "\n",
       "    DDP1  DDP2  DDP3  DDP4  DDN1  DDN2  DDN3  DDN4  DDM1  DDM2  DDM3  DDM4  \\\n",
       "27     2     1     2     5     5     4     4     2     4     4     2     3   \n",
       "\n",
       "        age  gender  accuracy  HSNScale  HSNS1_flag  HSNS2_flag  HSNS3_flag  \\\n",
       "27 -0.82503       1 -0.343134       0.6           0           0           0   \n",
       "\n",
       "    HSNS4_flag  HSNS5_flag  HSNS6_flag  HSNS7_flag  HSNS8_flag  HSNS9_flag  \\\n",
       "27           0           0           0           0           0           0   \n",
       "\n",
       "    HSNS10_flag  DDP1_flag  DDP2_flag  DDP3_flag  DDP4_flag  DDN1_flag  \\\n",
       "27            0          0          0          0          0          0   \n",
       "\n",
       "    DDN2_flag  DDN3_flag  DDN4_flag  DDM1_flag  DDM2_flag  DDM3_flag  \\\n",
       "27          0          0          0          0          0          0   \n",
       "\n",
       "    DDM4_flag  cap_other  \n",
       "27          0          0  "
      ]
     },
     "execution_count": 61,
     "metadata": {},
     "output_type": "execute_result"
    }
   ],
   "source": [
    "test.head(1)"
   ]
  },
  {
   "cell_type": "code",
   "execution_count": 62,
   "metadata": {},
   "outputs": [
    {
     "data": {
      "text/plain": [
       "0    35908\n",
       "1    15368\n",
       "Name: cap_other, dtype: int64"
      ]
     },
     "execution_count": 62,
     "metadata": {},
     "output_type": "execute_result"
    }
   ],
   "source": [
    "train.cap_other.value_counts()"
   ]
  },
  {
   "cell_type": "code",
   "execution_count": 63,
   "metadata": {},
   "outputs": [],
   "source": [
    "\n",
    "ds_majority=train.loc[train.cap_other == 0]\n",
    "ds_minority = train.loc[train.cap_other == 1]\n",
    "\n",
    "ds_minority_upsampled = resample(ds_minority, \n",
    "                                 replace=True,     \n",
    "                                 n_samples=35908,    \n",
    "                                 random_state=67) \n",
    "ds_train = pd.concat([ds_minority_upsampled, ds_majority])\n"
   ]
  },
  {
   "cell_type": "code",
   "execution_count": 64,
   "metadata": {},
   "outputs": [
    {
     "name": "stdout",
     "output_type": "stream",
     "text": [
      "1    35908\n",
      "0    35908\n",
      "Name: cap_other, dtype: int64\n"
     ]
    }
   ],
   "source": [
    "print (ds_train.cap_other.value_counts())"
   ]
  },
  {
   "cell_type": "code",
   "execution_count": 65,
   "metadata": {},
   "outputs": [],
   "source": [
    "\n",
    "X_train = ds_train.drop(columns=[\"cap_other\",\"age\"],axis=1)\n",
    "y_train = ds_train.cap_other"
   ]
  },
  {
   "cell_type": "code",
   "execution_count": 66,
   "metadata": {},
   "outputs": [
    {
     "data": {
      "text/html": [
       "<div>\n",
       "<style scoped>\n",
       "    .dataframe tbody tr th:only-of-type {\n",
       "        vertical-align: middle;\n",
       "    }\n",
       "\n",
       "    .dataframe tbody tr th {\n",
       "        vertical-align: top;\n",
       "    }\n",
       "\n",
       "    .dataframe thead th {\n",
       "        text-align: right;\n",
       "    }\n",
       "</style>\n",
       "<table border=\"1\" class=\"dataframe\">\n",
       "  <thead>\n",
       "    <tr style=\"text-align: right;\">\n",
       "      <th></th>\n",
       "      <th>HSNS1</th>\n",
       "      <th>HSNS2</th>\n",
       "      <th>HSNS3</th>\n",
       "      <th>HSNS4</th>\n",
       "      <th>HSNS5</th>\n",
       "      <th>HSNS6</th>\n",
       "      <th>HSNS7</th>\n",
       "      <th>HSNS8</th>\n",
       "      <th>HSNS9</th>\n",
       "      <th>HSNS10</th>\n",
       "      <th>DDP1</th>\n",
       "      <th>DDP2</th>\n",
       "      <th>DDP3</th>\n",
       "      <th>DDP4</th>\n",
       "      <th>DDN1</th>\n",
       "      <th>DDN2</th>\n",
       "      <th>DDN3</th>\n",
       "      <th>DDN4</th>\n",
       "      <th>DDM1</th>\n",
       "      <th>DDM2</th>\n",
       "      <th>DDM3</th>\n",
       "      <th>DDM4</th>\n",
       "      <th>age</th>\n",
       "      <th>gender</th>\n",
       "      <th>accuracy</th>\n",
       "      <th>HSNScale</th>\n",
       "      <th>HSNS1_flag</th>\n",
       "      <th>HSNS2_flag</th>\n",
       "      <th>HSNS3_flag</th>\n",
       "      <th>HSNS4_flag</th>\n",
       "      <th>HSNS5_flag</th>\n",
       "      <th>HSNS6_flag</th>\n",
       "      <th>HSNS7_flag</th>\n",
       "      <th>HSNS8_flag</th>\n",
       "      <th>HSNS9_flag</th>\n",
       "      <th>HSNS10_flag</th>\n",
       "      <th>DDP1_flag</th>\n",
       "      <th>DDP2_flag</th>\n",
       "      <th>DDP3_flag</th>\n",
       "      <th>DDP4_flag</th>\n",
       "      <th>DDN1_flag</th>\n",
       "      <th>DDN2_flag</th>\n",
       "      <th>DDN3_flag</th>\n",
       "      <th>DDN4_flag</th>\n",
       "      <th>DDM1_flag</th>\n",
       "      <th>DDM2_flag</th>\n",
       "      <th>DDM3_flag</th>\n",
       "      <th>DDM4_flag</th>\n",
       "      <th>cap_other</th>\n",
       "    </tr>\n",
       "  </thead>\n",
       "  <tbody>\n",
       "    <tr>\n",
       "      <td>38305</td>\n",
       "      <td>5</td>\n",
       "      <td>5</td>\n",
       "      <td>4</td>\n",
       "      <td>1</td>\n",
       "      <td>5</td>\n",
       "      <td>5</td>\n",
       "      <td>5</td>\n",
       "      <td>1</td>\n",
       "      <td>5</td>\n",
       "      <td>1</td>\n",
       "      <td>1</td>\n",
       "      <td>5</td>\n",
       "      <td>1</td>\n",
       "      <td>4</td>\n",
       "      <td>5</td>\n",
       "      <td>5</td>\n",
       "      <td>4</td>\n",
       "      <td>4</td>\n",
       "      <td>1</td>\n",
       "      <td>5</td>\n",
       "      <td>1</td>\n",
       "      <td>3</td>\n",
       "      <td>-0.917956</td>\n",
       "      <td>1</td>\n",
       "      <td>0.713834</td>\n",
       "      <td>0.72</td>\n",
       "      <td>0</td>\n",
       "      <td>0</td>\n",
       "      <td>0</td>\n",
       "      <td>0</td>\n",
       "      <td>0</td>\n",
       "      <td>0</td>\n",
       "      <td>0</td>\n",
       "      <td>0</td>\n",
       "      <td>0</td>\n",
       "      <td>0</td>\n",
       "      <td>0</td>\n",
       "      <td>0</td>\n",
       "      <td>0</td>\n",
       "      <td>0</td>\n",
       "      <td>0</td>\n",
       "      <td>0</td>\n",
       "      <td>0</td>\n",
       "      <td>0</td>\n",
       "      <td>0</td>\n",
       "      <td>0</td>\n",
       "      <td>0</td>\n",
       "      <td>0</td>\n",
       "      <td>1</td>\n",
       "    </tr>\n",
       "  </tbody>\n",
       "</table>\n",
       "</div>"
      ],
      "text/plain": [
       "       HSNS1  HSNS2  HSNS3  HSNS4  HSNS5  HSNS6  HSNS7  HSNS8  HSNS9  HSNS10  \\\n",
       "38305      5      5      4      1      5      5      5      1      5       1   \n",
       "\n",
       "       DDP1  DDP2  DDP3  DDP4  DDN1  DDN2  DDN3  DDN4  DDM1  DDM2  DDM3  DDM4  \\\n",
       "38305     1     5     1     4     5     5     4     4     1     5     1     3   \n",
       "\n",
       "            age  gender  accuracy  HSNScale  HSNS1_flag  HSNS2_flag  \\\n",
       "38305 -0.917956       1  0.713834      0.72           0           0   \n",
       "\n",
       "       HSNS3_flag  HSNS4_flag  HSNS5_flag  HSNS6_flag  HSNS7_flag  HSNS8_flag  \\\n",
       "38305           0           0           0           0           0           0   \n",
       "\n",
       "       HSNS9_flag  HSNS10_flag  DDP1_flag  DDP2_flag  DDP3_flag  DDP4_flag  \\\n",
       "38305           0            0          0          0          0          0   \n",
       "\n",
       "       DDN1_flag  DDN2_flag  DDN3_flag  DDN4_flag  DDM1_flag  DDM2_flag  \\\n",
       "38305          0          0          0          0          0          0   \n",
       "\n",
       "       DDM3_flag  DDM4_flag  cap_other  \n",
       "38305          0          0          1  "
      ]
     },
     "execution_count": 66,
     "metadata": {},
     "output_type": "execute_result"
    }
   ],
   "source": [
    "ds_train.head(1)"
   ]
  },
  {
   "cell_type": "code",
   "execution_count": 67,
   "metadata": {},
   "outputs": [
    {
     "name": "stderr",
     "output_type": "stream",
     "text": [
      "C:\\Users\\tvpia\\Anaconda3\\lib\\site-packages\\sklearn\\ensemble\\forest.py:245: FutureWarning: The default value of n_estimators will change from 10 in version 0.20 to 100 in 0.22.\n",
      "  \"10 in version 0.20 to 100 in 0.22.\", FutureWarning)\n"
     ]
    },
    {
     "data": {
      "text/plain": [
       "RandomForestClassifier(bootstrap=True, class_weight=None, criterion='gini',\n",
       "                       max_depth=None, max_features='auto', max_leaf_nodes=None,\n",
       "                       min_impurity_decrease=0.0, min_impurity_split=None,\n",
       "                       min_samples_leaf=1, min_samples_split=2,\n",
       "                       min_weight_fraction_leaf=0.0, n_estimators=10,\n",
       "                       n_jobs=None, oob_score=False, random_state=None,\n",
       "                       verbose=0, warm_start=False)"
      ]
     },
     "execution_count": 67,
     "metadata": {},
     "output_type": "execute_result"
    }
   ],
   "source": [
    "model = RandomForestClassifier()\n",
    "model.fit(X_train, y_train)"
   ]
  },
  {
   "cell_type": "code",
   "execution_count": 68,
   "metadata": {},
   "outputs": [
    {
     "name": "stdout",
     "output_type": "stream",
     "text": [
      "accuracy: 0.6674057649667405 precision: 0.36942675159235666 recall: 0.14180929095354522 F1: 0.20494699646643105\n"
     ]
    }
   ],
   "source": [
    "y_pred = model.predict(X_test)\n",
    "cm = confusion_matrix(y_test,y_pred)\n",
    "ac = accuracy_score(y_test, y_pred)\n",
    "pr = precision_score(y_test, y_pred)\n",
    "rc = recall_score(y_test, y_pred)\n",
    "f1 = f1_score(y_test, y_pred)\n",
    "\n",
    "print('accuracy:', ac, 'precision:', pr, 'recall:', rc, 'F1:', f1)"
   ]
  },
  {
   "cell_type": "code",
   "execution_count": 69,
   "metadata": {},
   "outputs": [
    {
     "data": {
      "text/plain": [
       "array([[845,  99],\n",
       "       [351,  58]], dtype=int64)"
      ]
     },
     "execution_count": 69,
     "metadata": {},
     "output_type": "execute_result"
    }
   ],
   "source": [
    "cm"
   ]
  },
  {
   "cell_type": "markdown",
   "metadata": {},
   "source": [
    "Let's see if we can optimize the parameters for this model before trying another one."
   ]
  },
  {
   "cell_type": "code",
   "execution_count": 241,
   "metadata": {},
   "outputs": [
    {
     "data": {
      "text/plain": [
       "{'bootstrap': True,\n",
       " 'class_weight': None,\n",
       " 'criterion': 'gini',\n",
       " 'max_depth': None,\n",
       " 'max_features': 'auto',\n",
       " 'max_leaf_nodes': None,\n",
       " 'min_impurity_decrease': 0.0,\n",
       " 'min_impurity_split': None,\n",
       " 'min_samples_leaf': 1,\n",
       " 'min_samples_split': 2,\n",
       " 'min_weight_fraction_leaf': 0.0,\n",
       " 'n_estimators': 10,\n",
       " 'n_jobs': None,\n",
       " 'oob_score': False,\n",
       " 'random_state': None,\n",
       " 'verbose': 0,\n",
       " 'warm_start': False}"
      ]
     },
     "execution_count": 241,
     "metadata": {},
     "output_type": "execute_result"
    }
   ],
   "source": [
    "model.get_params()"
   ]
  },
  {
   "cell_type": "code",
   "execution_count": 245,
   "metadata": {},
   "outputs": [
    {
     "name": "stdout",
     "output_type": "stream",
     "text": [
      "{'n_estimators': [200, 400, 600, 800, 1000, 1200, 1400, 1600, 1800, 2000], 'max_features': ['auto', 'sqrt'], 'max_depth': [10, 20, 30, 40, 50, 60, 70, 80, 90, 100, 110, None], 'min_samples_split': [2, 5, 10], 'min_samples_leaf': [1, 2, 4], 'bootstrap': [True, False]}\n"
     ]
    }
   ],
   "source": [
    "from sklearn.model_selection import RandomizedSearchCV# Number of trees in random forest\n",
    "n_estimators = [int(x) for x in np.linspace(start = 200, stop = 2000, num = 10)]\n",
    "# Number of features to consider at every split\n",
    "max_features = ['auto', 'sqrt']\n",
    "# Maximum number of levels in tree\n",
    "max_depth = [int(x) for x in np.linspace(10, 110, num = 11)]\n",
    "max_depth.append(None)\n",
    "# Minimum number of samples required to split a node\n",
    "min_samples_split = [2, 5, 10]\n",
    "# Minimum number of samples required at each leaf node\n",
    "min_samples_leaf = [1, 2, 4]\n",
    "# Method of selecting samples for training each tree\n",
    "bootstrap = [True, False]# Create the random grid\n",
    "\n",
    "random_grid = {'n_estimators': n_estimators,\n",
    "               'max_features': max_features,\n",
    "               'max_depth': max_depth,\n",
    "               'min_samples_split': min_samples_split,\n",
    "               'min_samples_leaf': min_samples_leaf,\n",
    "               'bootstrap': bootstrap}\n",
    "\n",
    "print(random_grid)\n"
   ]
  },
  {
   "cell_type": "code",
   "execution_count": null,
   "metadata": {},
   "outputs": [
    {
     "name": "stdout",
     "output_type": "stream",
     "text": [
      "Fitting 3 folds for each of 100 candidates, totalling 300 fits\n"
     ]
    },
    {
     "name": "stderr",
     "output_type": "stream",
     "text": [
      "[Parallel(n_jobs=-1)]: Using backend LokyBackend with 8 concurrent workers.\n",
      "[Parallel(n_jobs=-1)]: Done  25 tasks      | elapsed: 14.0min\n"
     ]
    }
   ],
   "source": [
    "# Use the random grid to search for best hyperparameters\n",
    "# First create the base model to tune\n",
    "rf = RandomForestRegressor()\n",
    "# Random search of parameters, using 3 fold cross validation, \n",
    "# search across 100 different combinations, and use all available cores\n",
    "rf_random = RandomizedSearchCV(estimator = rf, param_distributions = random_grid, n_iter = 100, cv = 3, verbose=2, random_state=67, n_jobs = -1)# Fit the random search model\n",
    "rf_random.fit(X_train, y_train)"
   ]
  },
  {
   "cell_type": "code",
   "execution_count": null,
   "metadata": {},
   "outputs": [],
   "source": [
    "rf_random.best_params_"
   ]
  },
  {
   "cell_type": "code",
   "execution_count": null,
   "metadata": {},
   "outputs": [],
   "source": [
    "train_scoreNum, test_scoreNum = validation_curve(\n",
    "                                RandomForestClassifier(),\n",
    "                                X = x_train_res, y = y_train_res, \n",
    "                                param_name = 'n_estimators', \n",
    "                                param_range = n_estimators, cv = 3)"
   ]
  },
  {
   "cell_type": "markdown",
   "metadata": {},
   "source": [
    "Now lets try with KNN model"
   ]
  },
  {
   "cell_type": "code",
   "execution_count": 17,
   "metadata": {},
   "outputs": [],
   "source": [
    "k_range=range(3,23)\n",
    "scores=[]"
   ]
  },
  {
   "cell_type": "code",
   "execution_count": 25,
   "metadata": {},
   "outputs": [],
   "source": [
    "for k in k_range:\n",
    "    knn = KNeighborsClassifier(n_neighbors=k)\n",
    "    knn.fit(X_train,y_train)\n",
    "    y_pred = knn.predict(X_test)\n",
    "    scores.append(accuracy_score(y_test,y_pred))"
   ]
  },
  {
   "cell_type": "code",
   "execution_count": 26,
   "metadata": {},
   "outputs": [
    {
     "data": {
      "text/plain": [
       "Text(0, 0.5, 'Testing accuracy')"
      ]
     },
     "execution_count": 26,
     "metadata": {},
     "output_type": "execute_result"
    },
    {
     "data": {
      "image/png": "[encoded data removed]",
      "text/plain": [
       "<Figure size 432x288 with 1 Axes>"
      ]
     },
     "metadata": {
      "needs_background": "light"
     },
     "output_type": "display_data"
    }
   ],
   "source": [
    "import matplotlib.pyplot as plt\n",
    "%matplotlib inline\n",
    "\n",
    "plt.plot(k_range, scores)\n",
    "plt.xlabel(\"Value of K for KNN\")\n",
    "plt.ylabel(\"Testing accuracy\")"
   ]
  },
  {
   "cell_type": "code",
   "execution_count": 27,
   "metadata": {},
   "outputs": [
    {
     "name": "stdout",
     "output_type": "stream",
     "text": [
      "[0.5545454545454546, 0.6007575757575757, 0.5424242424242425, 0.6015151515151516, 0.5356060606060606, 0.603030303030303, 0.5401515151515152, 0.5787878787878787, 0.5242424242424243, 0.5712121212121212, 0.5242424242424243, 0.581060606060606, 0.5401515151515152, 0.5795454545454546, 0.5484848484848485, 0.5734848484848485, 0.5484848484848485, 0.5681818181818182, 0.5484848484848485, 0.5787878787878787]\n"
     ]
    }
   ],
   "source": [
    "print(scores)"
   ]
  },
  {
   "cell_type": "code",
   "execution_count": null,
   "metadata": {},
   "outputs": [],
   "source": []
  },
  {
   "cell_type": "code",
   "execution_count": 70,
   "metadata": {},
   "outputs": [],
   "source": [
    "# KNN Model\n",
    "from sklearn.neighbors import KNeighborsClassifier\n",
    "knn = KNeighborsClassifier(n_neighbors = 8)  # n_neighbors means k\n",
    "\n",
    "knn.fit(X_train, y_train)\n",
    "y_pred = knn.predict(X_test)"
   ]
  },
  {
   "cell_type": "code",
   "execution_count": 71,
   "metadata": {},
   "outputs": [
    {
     "name": "stdout",
     "output_type": "stream",
     "text": [
      "accuracy: 0.5927568366592757 precision: 0.34292035398230086 recall: 0.37897310513447435 F1: 0.36004645760743326\n"
     ]
    }
   ],
   "source": [
    "y_pred = knn.predict(X_test)\n",
    "cm = confusion_matrix(y_test,y_pred)\n",
    "ac = accuracy_score(y_test, y_pred)\n",
    "pr = precision_score(y_test, y_pred)\n",
    "rc = recall_score(y_test, y_pred)\n",
    "f1 = f1_score(y_test, y_pred)\n",
    "\n",
    "print('accuracy:', ac, 'precision:', pr, 'recall:', rc, 'F1:', f1)"
   ]
  },
  {
   "cell_type": "code",
   "execution_count": 72,
   "metadata": {},
   "outputs": [
    {
     "data": {
      "text/plain": [
       "array([[647, 297],\n",
       "       [254, 155]], dtype=int64)"
      ]
     },
     "execution_count": 72,
     "metadata": {},
     "output_type": "execute_result"
    }
   ],
   "source": [
    "cm"
   ]
  },
  {
   "cell_type": "markdown",
   "metadata": {},
   "source": [
    "Last try taking into account the results of the dozen triad test"
   ]
  },
  {
   "cell_type": "code",
   "execution_count": 109,
   "metadata": {},
   "outputs": [],
   "source": [
    "ds1[\"DDPScale\"]= round(ds.iloc[:,10:14].sum(axis=1)*5/100,2)"
   ]
  },
  {
   "cell_type": "code",
   "execution_count": 110,
   "metadata": {},
   "outputs": [],
   "source": [
    "ds1[\"DDNScale\"]= round(ds.iloc[:,14:18].sum(axis=1)*5/100,2)"
   ]
  },
  {
   "cell_type": "code",
   "execution_count": 111,
   "metadata": {},
   "outputs": [],
   "source": [
    "ds1[\"DDMScale\"]= round(ds.iloc[:,18:22].sum(axis=1)*5/100,2)"
   ]
  },
  {
   "cell_type": "code",
   "execution_count": 112,
   "metadata": {},
   "outputs": [
    {
     "data": {
      "text/html": [
       "<div>\n",
       "<style scoped>\n",
       "    .dataframe tbody tr th:only-of-type {\n",
       "        vertical-align: middle;\n",
       "    }\n",
       "\n",
       "    .dataframe tbody tr th {\n",
       "        vertical-align: top;\n",
       "    }\n",
       "\n",
       "    .dataframe thead th {\n",
       "        text-align: right;\n",
       "    }\n",
       "</style>\n",
       "<table border=\"1\" class=\"dataframe\">\n",
       "  <thead>\n",
       "    <tr style=\"text-align: right;\">\n",
       "      <th></th>\n",
       "      <th>HSNS1</th>\n",
       "      <th>HSNS2</th>\n",
       "      <th>HSNS3</th>\n",
       "      <th>HSNS4</th>\n",
       "      <th>HSNS5</th>\n",
       "      <th>HSNS6</th>\n",
       "      <th>HSNS7</th>\n",
       "      <th>HSNS8</th>\n",
       "      <th>HSNS9</th>\n",
       "      <th>HSNS10</th>\n",
       "      <th>DDP1</th>\n",
       "      <th>DDP2</th>\n",
       "      <th>DDP3</th>\n",
       "      <th>DDP4</th>\n",
       "      <th>DDN1</th>\n",
       "      <th>DDN2</th>\n",
       "      <th>DDN3</th>\n",
       "      <th>DDN4</th>\n",
       "      <th>DDM1</th>\n",
       "      <th>DDM2</th>\n",
       "      <th>DDM3</th>\n",
       "      <th>DDM4</th>\n",
       "      <th>age</th>\n",
       "      <th>gender</th>\n",
       "      <th>accuracy</th>\n",
       "      <th>country</th>\n",
       "      <th>HSNScale</th>\n",
       "      <th>HSNS1_flag</th>\n",
       "      <th>HSNS2_flag</th>\n",
       "      <th>HSNS3_flag</th>\n",
       "      <th>HSNS4_flag</th>\n",
       "      <th>HSNS5_flag</th>\n",
       "      <th>HSNS6_flag</th>\n",
       "      <th>HSNS7_flag</th>\n",
       "      <th>HSNS8_flag</th>\n",
       "      <th>HSNS9_flag</th>\n",
       "      <th>HSNS10_flag</th>\n",
       "      <th>DDP1_flag</th>\n",
       "      <th>DDP2_flag</th>\n",
       "      <th>DDP3_flag</th>\n",
       "      <th>DDP4_flag</th>\n",
       "      <th>DDN1_flag</th>\n",
       "      <th>DDN2_flag</th>\n",
       "      <th>DDN3_flag</th>\n",
       "      <th>DDN4_flag</th>\n",
       "      <th>DDM1_flag</th>\n",
       "      <th>DDM2_flag</th>\n",
       "      <th>DDM3_flag</th>\n",
       "      <th>DDM4_flag</th>\n",
       "    </tr>\n",
       "  </thead>\n",
       "  <tbody>\n",
       "    <tr>\n",
       "      <td>0</td>\n",
       "      <td>2</td>\n",
       "      <td>4</td>\n",
       "      <td>5</td>\n",
       "      <td>1</td>\n",
       "      <td>4</td>\n",
       "      <td>5</td>\n",
       "      <td>4</td>\n",
       "      <td>3</td>\n",
       "      <td>3</td>\n",
       "      <td>2</td>\n",
       "      <td>1</td>\n",
       "      <td>1</td>\n",
       "      <td>4</td>\n",
       "      <td>4</td>\n",
       "      <td>2</td>\n",
       "      <td>1</td>\n",
       "      <td>1</td>\n",
       "      <td>1</td>\n",
       "      <td>1</td>\n",
       "      <td>2</td>\n",
       "      <td>2</td>\n",
       "      <td>1</td>\n",
       "      <td>37</td>\n",
       "      <td>2</td>\n",
       "      <td>98</td>\n",
       "      <td>PT</td>\n",
       "      <td>0.62</td>\n",
       "      <td>0</td>\n",
       "      <td>0</td>\n",
       "      <td>0</td>\n",
       "      <td>0</td>\n",
       "      <td>0</td>\n",
       "      <td>0</td>\n",
       "      <td>0</td>\n",
       "      <td>0</td>\n",
       "      <td>0</td>\n",
       "      <td>0</td>\n",
       "      <td>0</td>\n",
       "      <td>0</td>\n",
       "      <td>0</td>\n",
       "      <td>0</td>\n",
       "      <td>0</td>\n",
       "      <td>0</td>\n",
       "      <td>0</td>\n",
       "      <td>0</td>\n",
       "      <td>0</td>\n",
       "      <td>0</td>\n",
       "      <td>0</td>\n",
       "      <td>0</td>\n",
       "    </tr>\n",
       "  </tbody>\n",
       "</table>\n",
       "</div>"
      ],
      "text/plain": [
       "   HSNS1  HSNS2  HSNS3  HSNS4  HSNS5  HSNS6  HSNS7  HSNS8  HSNS9  HSNS10  \\\n",
       "0      2      4      5      1      4      5      4      3      3       2   \n",
       "\n",
       "   DDP1  DDP2  DDP3  DDP4  DDN1  DDN2  DDN3  DDN4  DDM1  DDM2  DDM3  DDM4  \\\n",
       "0     1     1     4     4     2     1     1     1     1     2     2     1   \n",
       "\n",
       "   age  gender  accuracy country  HSNScale  HSNS1_flag  HSNS2_flag  \\\n",
       "0   37       2        98      PT      0.62           0           0   \n",
       "\n",
       "   HSNS3_flag  HSNS4_flag  HSNS5_flag  HSNS6_flag  HSNS7_flag  HSNS8_flag  \\\n",
       "0           0           0           0           0           0           0   \n",
       "\n",
       "   HSNS9_flag  HSNS10_flag  DDP1_flag  DDP2_flag  DDP3_flag  DDP4_flag  \\\n",
       "0           0            0          0          0          0          0   \n",
       "\n",
       "   DDN1_flag  DDN2_flag  DDN3_flag  DDN4_flag  DDM1_flag  DDM2_flag  \\\n",
       "0          0          0          0          0          0          0   \n",
       "\n",
       "   DDM3_flag  DDM4_flag  \n",
       "0          0          0  "
      ]
     },
     "execution_count": 112,
     "metadata": {},
     "output_type": "execute_result"
    }
   ],
   "source": [
    "ds.head(1)"
   ]
  },
  {
   "cell_type": "code",
   "execution_count": 113,
   "metadata": {},
   "outputs": [
    {
     "data": {
      "text/html": [
       "<div>\n",
       "<style scoped>\n",
       "    .dataframe tbody tr th:only-of-type {\n",
       "        vertical-align: middle;\n",
       "    }\n",
       "\n",
       "    .dataframe tbody tr th {\n",
       "        vertical-align: top;\n",
       "    }\n",
       "\n",
       "    .dataframe thead th {\n",
       "        text-align: right;\n",
       "    }\n",
       "</style>\n",
       "<table border=\"1\" class=\"dataframe\">\n",
       "  <thead>\n",
       "    <tr style=\"text-align: right;\">\n",
       "      <th></th>\n",
       "      <th>HSNS1</th>\n",
       "      <th>HSNS2</th>\n",
       "      <th>HSNS3</th>\n",
       "      <th>HSNS4</th>\n",
       "      <th>HSNS5</th>\n",
       "      <th>HSNS6</th>\n",
       "      <th>HSNS7</th>\n",
       "      <th>HSNS8</th>\n",
       "      <th>HSNS9</th>\n",
       "      <th>HSNS10</th>\n",
       "      <th>DDP1</th>\n",
       "      <th>DDP2</th>\n",
       "      <th>DDP3</th>\n",
       "      <th>DDP4</th>\n",
       "      <th>DDN1</th>\n",
       "      <th>DDN2</th>\n",
       "      <th>DDN3</th>\n",
       "      <th>DDN4</th>\n",
       "      <th>DDM1</th>\n",
       "      <th>DDM2</th>\n",
       "      <th>DDM3</th>\n",
       "      <th>DDM4</th>\n",
       "      <th>age</th>\n",
       "      <th>gender</th>\n",
       "      <th>accuracy</th>\n",
       "      <th>country</th>\n",
       "      <th>HSNScale</th>\n",
       "      <th>HSNS1_flag</th>\n",
       "      <th>HSNS2_flag</th>\n",
       "      <th>HSNS3_flag</th>\n",
       "      <th>HSNS4_flag</th>\n",
       "      <th>HSNS5_flag</th>\n",
       "      <th>HSNS6_flag</th>\n",
       "      <th>HSNS7_flag</th>\n",
       "      <th>HSNS8_flag</th>\n",
       "      <th>HSNS9_flag</th>\n",
       "      <th>HSNS10_flag</th>\n",
       "      <th>DDP1_flag</th>\n",
       "      <th>DDP2_flag</th>\n",
       "      <th>DDP3_flag</th>\n",
       "      <th>DDP4_flag</th>\n",
       "      <th>DDN1_flag</th>\n",
       "      <th>DDN2_flag</th>\n",
       "      <th>DDN3_flag</th>\n",
       "      <th>DDN4_flag</th>\n",
       "      <th>DDM1_flag</th>\n",
       "      <th>DDM2_flag</th>\n",
       "      <th>DDM3_flag</th>\n",
       "      <th>DDM4_flag</th>\n",
       "      <th>DDPScale</th>\n",
       "      <th>DDNScale</th>\n",
       "      <th>DDMScale</th>\n",
       "    </tr>\n",
       "  </thead>\n",
       "  <tbody>\n",
       "    <tr>\n",
       "      <td>0</td>\n",
       "      <td>2</td>\n",
       "      <td>4</td>\n",
       "      <td>5</td>\n",
       "      <td>1</td>\n",
       "      <td>4</td>\n",
       "      <td>5</td>\n",
       "      <td>4</td>\n",
       "      <td>3</td>\n",
       "      <td>3</td>\n",
       "      <td>2</td>\n",
       "      <td>1</td>\n",
       "      <td>1</td>\n",
       "      <td>4</td>\n",
       "      <td>4</td>\n",
       "      <td>2</td>\n",
       "      <td>1</td>\n",
       "      <td>1</td>\n",
       "      <td>1</td>\n",
       "      <td>1</td>\n",
       "      <td>2</td>\n",
       "      <td>2</td>\n",
       "      <td>1</td>\n",
       "      <td>37</td>\n",
       "      <td>2</td>\n",
       "      <td>98</td>\n",
       "      <td>PT</td>\n",
       "      <td>0.62</td>\n",
       "      <td>0</td>\n",
       "      <td>0</td>\n",
       "      <td>0</td>\n",
       "      <td>0</td>\n",
       "      <td>0</td>\n",
       "      <td>0</td>\n",
       "      <td>0</td>\n",
       "      <td>0</td>\n",
       "      <td>0</td>\n",
       "      <td>0</td>\n",
       "      <td>0</td>\n",
       "      <td>0</td>\n",
       "      <td>0</td>\n",
       "      <td>0</td>\n",
       "      <td>0</td>\n",
       "      <td>0</td>\n",
       "      <td>0</td>\n",
       "      <td>0</td>\n",
       "      <td>0</td>\n",
       "      <td>0</td>\n",
       "      <td>0</td>\n",
       "      <td>0</td>\n",
       "      <td>0.5</td>\n",
       "      <td>0.25</td>\n",
       "      <td>0.3</td>\n",
       "    </tr>\n",
       "  </tbody>\n",
       "</table>\n",
       "</div>"
      ],
      "text/plain": [
       "   HSNS1  HSNS2  HSNS3  HSNS4  HSNS5  HSNS6  HSNS7  HSNS8  HSNS9  HSNS10  \\\n",
       "0      2      4      5      1      4      5      4      3      3       2   \n",
       "\n",
       "   DDP1  DDP2  DDP3  DDP4  DDN1  DDN2  DDN3  DDN4  DDM1  DDM2  DDM3  DDM4  \\\n",
       "0     1     1     4     4     2     1     1     1     1     2     2     1   \n",
       "\n",
       "   age  gender  accuracy country  HSNScale  HSNS1_flag  HSNS2_flag  \\\n",
       "0   37       2        98      PT      0.62           0           0   \n",
       "\n",
       "   HSNS3_flag  HSNS4_flag  HSNS5_flag  HSNS6_flag  HSNS7_flag  HSNS8_flag  \\\n",
       "0           0           0           0           0           0           0   \n",
       "\n",
       "   HSNS9_flag  HSNS10_flag  DDP1_flag  DDP2_flag  DDP3_flag  DDP4_flag  \\\n",
       "0           0            0          0          0          0          0   \n",
       "\n",
       "   DDN1_flag  DDN2_flag  DDN3_flag  DDN4_flag  DDM1_flag  DDM2_flag  \\\n",
       "0          0          0          0          0          0          0   \n",
       "\n",
       "   DDM3_flag  DDM4_flag  DDPScale  DDNScale  DDMScale  \n",
       "0          0          0       0.5      0.25       0.3  "
      ]
     },
     "execution_count": 113,
     "metadata": {},
     "output_type": "execute_result"
    }
   ],
   "source": [
    "ds1.head(1)"
   ]
  },
  {
   "cell_type": "code",
   "execution_count": 114,
   "metadata": {},
   "outputs": [],
   "source": [
    "#ds1.to_csv(\"C:/Users/tvpia/Desktop/Final project/final-project/your-project/Datasets/ds_full.csv\")"
   ]
  },
  {
   "cell_type": "markdown",
   "metadata": {},
   "source": [
    "lets try again classifier models with thoses addes features"
   ]
  },
  {
   "cell_type": "code",
   "execution_count": 143,
   "metadata": {},
   "outputs": [],
   "source": [
    "features = ds1[['age','accuracy']]\n",
    "\n",
    "# Standardize features\n",
    "scaler = StandardScaler()\n",
    "features_std = scaler.fit_transform(features)\n",
    "\n",
    "ds1[['age','accuracy']]=features_std"
   ]
  },
  {
   "cell_type": "code",
   "execution_count": 144,
   "metadata": {},
   "outputs": [],
   "source": [
    "eng_cap= [\"US\",\"GB\",\"AU\",\"NZ\"]\n",
    "\n",
    "ds1[\"cap_other\"]=np.where(ds1.country.isin(eng_cap),0,1)"
   ]
  },
  {
   "cell_type": "code",
   "execution_count": 146,
   "metadata": {},
   "outputs": [
    {
     "data": {
      "text/html": [
       "<div>\n",
       "<style scoped>\n",
       "    .dataframe tbody tr th:only-of-type {\n",
       "        vertical-align: middle;\n",
       "    }\n",
       "\n",
       "    .dataframe tbody tr th {\n",
       "        vertical-align: top;\n",
       "    }\n",
       "\n",
       "    .dataframe thead th {\n",
       "        text-align: right;\n",
       "    }\n",
       "</style>\n",
       "<table border=\"1\" class=\"dataframe\">\n",
       "  <thead>\n",
       "    <tr style=\"text-align: right;\">\n",
       "      <th></th>\n",
       "      <th>HSNS1</th>\n",
       "      <th>HSNS2</th>\n",
       "      <th>HSNS3</th>\n",
       "      <th>HSNS4</th>\n",
       "      <th>HSNS5</th>\n",
       "      <th>HSNS6</th>\n",
       "      <th>HSNS7</th>\n",
       "      <th>HSNS8</th>\n",
       "      <th>HSNS9</th>\n",
       "      <th>HSNS10</th>\n",
       "      <th>DDP1</th>\n",
       "      <th>DDP2</th>\n",
       "      <th>DDP3</th>\n",
       "      <th>DDP4</th>\n",
       "      <th>DDN1</th>\n",
       "      <th>DDN2</th>\n",
       "      <th>DDN3</th>\n",
       "      <th>DDN4</th>\n",
       "      <th>DDM1</th>\n",
       "      <th>DDM2</th>\n",
       "      <th>DDM3</th>\n",
       "      <th>DDM4</th>\n",
       "      <th>age</th>\n",
       "      <th>gender</th>\n",
       "      <th>accuracy</th>\n",
       "      <th>country</th>\n",
       "      <th>HSNScale</th>\n",
       "      <th>HSNS1_flag</th>\n",
       "      <th>HSNS2_flag</th>\n",
       "      <th>HSNS3_flag</th>\n",
       "      <th>HSNS4_flag</th>\n",
       "      <th>HSNS5_flag</th>\n",
       "      <th>HSNS6_flag</th>\n",
       "      <th>HSNS7_flag</th>\n",
       "      <th>HSNS8_flag</th>\n",
       "      <th>HSNS9_flag</th>\n",
       "      <th>HSNS10_flag</th>\n",
       "      <th>DDP1_flag</th>\n",
       "      <th>DDP2_flag</th>\n",
       "      <th>DDP3_flag</th>\n",
       "      <th>DDP4_flag</th>\n",
       "      <th>DDN1_flag</th>\n",
       "      <th>DDN2_flag</th>\n",
       "      <th>DDN3_flag</th>\n",
       "      <th>DDN4_flag</th>\n",
       "      <th>DDM1_flag</th>\n",
       "      <th>DDM2_flag</th>\n",
       "      <th>DDM3_flag</th>\n",
       "      <th>DDM4_flag</th>\n",
       "      <th>DDPScale</th>\n",
       "      <th>DDNScale</th>\n",
       "      <th>DDMScale</th>\n",
       "      <th>cap_other</th>\n",
       "    </tr>\n",
       "  </thead>\n",
       "  <tbody>\n",
       "    <tr>\n",
       "      <td>0</td>\n",
       "      <td>2</td>\n",
       "      <td>4</td>\n",
       "      <td>5</td>\n",
       "      <td>1</td>\n",
       "      <td>4</td>\n",
       "      <td>5</td>\n",
       "      <td>4</td>\n",
       "      <td>3</td>\n",
       "      <td>3</td>\n",
       "      <td>2</td>\n",
       "      <td>1</td>\n",
       "      <td>1</td>\n",
       "      <td>4</td>\n",
       "      <td>4</td>\n",
       "      <td>2</td>\n",
       "      <td>1</td>\n",
       "      <td>1</td>\n",
       "      <td>1</td>\n",
       "      <td>1</td>\n",
       "      <td>2</td>\n",
       "      <td>2</td>\n",
       "      <td>1</td>\n",
       "      <td>1.03349</td>\n",
       "      <td>2</td>\n",
       "      <td>0.900357</td>\n",
       "      <td>PT</td>\n",
       "      <td>0.62</td>\n",
       "      <td>0</td>\n",
       "      <td>0</td>\n",
       "      <td>0</td>\n",
       "      <td>0</td>\n",
       "      <td>0</td>\n",
       "      <td>0</td>\n",
       "      <td>0</td>\n",
       "      <td>0</td>\n",
       "      <td>0</td>\n",
       "      <td>0</td>\n",
       "      <td>0</td>\n",
       "      <td>0</td>\n",
       "      <td>0</td>\n",
       "      <td>0</td>\n",
       "      <td>0</td>\n",
       "      <td>0</td>\n",
       "      <td>0</td>\n",
       "      <td>0</td>\n",
       "      <td>0</td>\n",
       "      <td>0</td>\n",
       "      <td>0</td>\n",
       "      <td>0</td>\n",
       "      <td>0.5</td>\n",
       "      <td>0.25</td>\n",
       "      <td>0.3</td>\n",
       "      <td>1</td>\n",
       "    </tr>\n",
       "  </tbody>\n",
       "</table>\n",
       "</div>"
      ],
      "text/plain": [
       "   HSNS1  HSNS2  HSNS3  HSNS4  HSNS5  HSNS6  HSNS7  HSNS8  HSNS9  HSNS10  \\\n",
       "0      2      4      5      1      4      5      4      3      3       2   \n",
       "\n",
       "   DDP1  DDP2  DDP3  DDP4  DDN1  DDN2  DDN3  DDN4  DDM1  DDM2  DDM3  DDM4  \\\n",
       "0     1     1     4     4     2     1     1     1     1     2     2     1   \n",
       "\n",
       "       age  gender  accuracy country  HSNScale  HSNS1_flag  HSNS2_flag  \\\n",
       "0  1.03349       2  0.900357      PT      0.62           0           0   \n",
       "\n",
       "   HSNS3_flag  HSNS4_flag  HSNS5_flag  HSNS6_flag  HSNS7_flag  HSNS8_flag  \\\n",
       "0           0           0           0           0           0           0   \n",
       "\n",
       "   HSNS9_flag  HSNS10_flag  DDP1_flag  DDP2_flag  DDP3_flag  DDP4_flag  \\\n",
       "0           0            0          0          0          0          0   \n",
       "\n",
       "   DDN1_flag  DDN2_flag  DDN3_flag  DDN4_flag  DDM1_flag  DDM2_flag  \\\n",
       "0          0          0          0          0          0          0   \n",
       "\n",
       "   DDM3_flag  DDM4_flag  DDPScale  DDNScale  DDMScale  cap_other  \n",
       "0          0          0       0.5      0.25       0.3          1  "
      ]
     },
     "execution_count": 146,
     "metadata": {},
     "output_type": "execute_result"
    }
   ],
   "source": [
    "ds1.head(1)"
   ]
  },
  {
   "cell_type": "code",
   "execution_count": 147,
   "metadata": {},
   "outputs": [],
   "source": [
    "\n",
    "X = ds1.drop(columns=[\"cap_other\",\"country\",\"age\",\"accuracy\",\"gender\"],axis=1)\n",
    "y = ds1.cap_other"
   ]
  },
  {
   "cell_type": "code",
   "execution_count": 148,
   "metadata": {},
   "outputs": [],
   "source": [
    "msk = np.random.rand(len(ds1)) < 0.975\n",
    "\n",
    "train = ds1[msk]\n",
    "\n",
    "test = ds1[~msk]"
   ]
  },
  {
   "cell_type": "code",
   "execution_count": 149,
   "metadata": {},
   "outputs": [],
   "source": [
    "X_test = test.drop(columns=[\"cap_other\",\"country\",\"age\",\"accuracy\",\"gender\"],axis=1)\n",
    "y_test = test.cap_other"
   ]
  },
  {
   "cell_type": "code",
   "execution_count": 150,
   "metadata": {},
   "outputs": [
    {
     "data": {
      "text/plain": [
       "0    35949\n",
       "1    15369\n",
       "Name: cap_other, dtype: int64"
      ]
     },
     "execution_count": 150,
     "metadata": {},
     "output_type": "execute_result"
    }
   ],
   "source": [
    "train.cap_other.value_counts()"
   ]
  },
  {
   "cell_type": "code",
   "execution_count": 151,
   "metadata": {},
   "outputs": [
    {
     "name": "stdout",
     "output_type": "stream",
     "text": [
      "0    15388\n",
      "1    15369\n",
      "Name: cap_other, dtype: int64\n"
     ]
    }
   ],
   "source": [
    "from sklearn.utils import resample\n",
    "\n",
    "ds_majority=train.loc[ds1.cap_other == 0]\n",
    "ds_minority = train.loc[ds1.cap_other == 1]\n",
    "\n",
    "ds_majority_downsampled = resample(ds_majority, \n",
    "                                 replace=False,     \n",
    "                                 n_samples=15388,    \n",
    "                                 random_state=67) \n",
    "ds_train = pd.concat([ds_majority_downsampled, ds_minority])\n",
    "\n",
    "\n",
    "# Display new class counts\n",
    "print (ds_train.cap_other.value_counts())\n"
   ]
  },
  {
   "cell_type": "code",
   "execution_count": 152,
   "metadata": {},
   "outputs": [],
   "source": [
    "\n",
    "X_train = ds_train.drop(columns=[\"cap_other\",\"country\",\"age\",\"accuracy\",\"gender\"],axis=1)\n",
    "y_train = ds_train.cap_other"
   ]
  },
  {
   "cell_type": "code",
   "execution_count": 153,
   "metadata": {},
   "outputs": [
    {
     "name": "stderr",
     "output_type": "stream",
     "text": [
      "C:\\Users\\tvpia\\Anaconda3\\lib\\site-packages\\sklearn\\ensemble\\forest.py:245: FutureWarning: The default value of n_estimators will change from 10 in version 0.20 to 100 in 0.22.\n",
      "  \"10 in version 0.20 to 100 in 0.22.\", FutureWarning)\n"
     ]
    },
    {
     "data": {
      "text/plain": [
       "RandomForestClassifier(bootstrap=True, class_weight=None, criterion='gini',\n",
       "                       max_depth=None, max_features='auto', max_leaf_nodes=None,\n",
       "                       min_impurity_decrease=0.0, min_impurity_split=None,\n",
       "                       min_samples_leaf=1, min_samples_split=2,\n",
       "                       min_weight_fraction_leaf=0.0, n_estimators=10,\n",
       "                       n_jobs=None, oob_score=False, random_state=None,\n",
       "                       verbose=0, warm_start=False)"
      ]
     },
     "execution_count": 153,
     "metadata": {},
     "output_type": "execute_result"
    }
   ],
   "source": [
    "model = RandomForestClassifier()\n",
    "model.fit(X_train, y_train)"
   ]
  },
  {
   "cell_type": "code",
   "execution_count": 154,
   "metadata": {},
   "outputs": [
    {
     "name": "stdout",
     "output_type": "stream",
     "text": [
      "accuracy: 0.5758962623951183 precision: 0.34959349593495936 recall: 0.4215686274509804 F1: 0.3822222222222222\n"
     ]
    }
   ],
   "source": [
    "y_pred = model.predict(X_test)\n",
    "cm = confusion_matrix(y_test,y_pred)\n",
    "ac = accuracy_score(y_test, y_pred)\n",
    "pr = precision_score(y_test, y_pred)\n",
    "rc = recall_score(y_test, y_pred)\n",
    "f1 = f1_score(y_test, y_pred)\n",
    "\n",
    "print('accuracy:', ac, 'precision:', pr, 'recall:', rc, 'F1:', f1)"
   ]
  },
  {
   "cell_type": "code",
   "execution_count": 157,
   "metadata": {},
   "outputs": [
    {
     "data": {
      "text/plain": [
       "array([[583, 320],\n",
       "       [236, 172]], dtype=int64)"
      ]
     },
     "execution_count": 157,
     "metadata": {},
     "output_type": "execute_result"
    }
   ],
   "source": [
    "cm"
   ]
  },
  {
   "cell_type": "code",
   "execution_count": 156,
   "metadata": {},
   "outputs": [
    {
     "data": {
      "image/png": "[encoded data removed]",
      "text/plain": [
       "<Figure size 720x360 with 1 Axes>"
      ]
     },
     "metadata": {},
     "output_type": "display_data"
    }
   ],
   "source": [
    "importances = model.feature_importances_\n",
    "\n",
    "indices = np.argsort(importances)[::-1]\n",
    "\n",
    "X = ds1.drop(columns=[\"cap_other\",\"country\",\"age\",\"accuracy\",\"gender\"],axis=1)\n",
    "# Rearrange feature names so they match the sorted feature importances\n",
    "names = [X.columns[i] for i in indices]\n",
    "\n",
    "# Create plot\n",
    "plt.figure(figsize = (10, 5))\n",
    "\n",
    "# Create plot title\n",
    "plt.title(\"Feature Importance\")\n",
    "\n",
    "# Add bars\n",
    "plt.bar(range(X.shape[1]), importances[indices])\n",
    "\n",
    "# Add feature names as x-axis labels\n",
    "plt.xticks(range(X.shape[1]), names, rotation=90)\n",
    "\n",
    "# Show plot\n",
    "plt.show()"
   ]
  },
  {
   "cell_type": "markdown",
   "metadata": {},
   "source": [
    "Now testing logistic regression and SVM with only psychological test results"
   ]
  },
  {
   "cell_type": "code",
   "execution_count": 158,
   "metadata": {},
   "outputs": [
    {
     "data": {
      "text/html": [
       "<div>\n",
       "<style scoped>\n",
       "    .dataframe tbody tr th:only-of-type {\n",
       "        vertical-align: middle;\n",
       "    }\n",
       "\n",
       "    .dataframe tbody tr th {\n",
       "        vertical-align: top;\n",
       "    }\n",
       "\n",
       "    .dataframe thead th {\n",
       "        text-align: right;\n",
       "    }\n",
       "</style>\n",
       "<table border=\"1\" class=\"dataframe\">\n",
       "  <thead>\n",
       "    <tr style=\"text-align: right;\">\n",
       "      <th></th>\n",
       "      <th>HSNS1</th>\n",
       "      <th>HSNS2</th>\n",
       "      <th>HSNS3</th>\n",
       "      <th>HSNS4</th>\n",
       "      <th>HSNS5</th>\n",
       "      <th>HSNS6</th>\n",
       "      <th>HSNS7</th>\n",
       "      <th>HSNS8</th>\n",
       "      <th>HSNS9</th>\n",
       "      <th>HSNS10</th>\n",
       "      <th>DDP1</th>\n",
       "      <th>DDP2</th>\n",
       "      <th>DDP3</th>\n",
       "      <th>DDP4</th>\n",
       "      <th>DDN1</th>\n",
       "      <th>DDN2</th>\n",
       "      <th>DDN3</th>\n",
       "      <th>DDN4</th>\n",
       "      <th>DDM1</th>\n",
       "      <th>DDM2</th>\n",
       "      <th>DDM3</th>\n",
       "      <th>DDM4</th>\n",
       "      <th>age</th>\n",
       "      <th>gender</th>\n",
       "      <th>accuracy</th>\n",
       "      <th>country</th>\n",
       "      <th>HSNScale</th>\n",
       "      <th>HSNS1_flag</th>\n",
       "      <th>HSNS2_flag</th>\n",
       "      <th>HSNS3_flag</th>\n",
       "      <th>HSNS4_flag</th>\n",
       "      <th>HSNS5_flag</th>\n",
       "      <th>HSNS6_flag</th>\n",
       "      <th>HSNS7_flag</th>\n",
       "      <th>HSNS8_flag</th>\n",
       "      <th>HSNS9_flag</th>\n",
       "      <th>HSNS10_flag</th>\n",
       "      <th>DDP1_flag</th>\n",
       "      <th>DDP2_flag</th>\n",
       "      <th>DDP3_flag</th>\n",
       "      <th>DDP4_flag</th>\n",
       "      <th>DDN1_flag</th>\n",
       "      <th>DDN2_flag</th>\n",
       "      <th>DDN3_flag</th>\n",
       "      <th>DDN4_flag</th>\n",
       "      <th>DDM1_flag</th>\n",
       "      <th>DDM2_flag</th>\n",
       "      <th>DDM3_flag</th>\n",
       "      <th>DDM4_flag</th>\n",
       "      <th>DDPScale</th>\n",
       "      <th>DDNScale</th>\n",
       "      <th>DDMScale</th>\n",
       "      <th>cap_other</th>\n",
       "    </tr>\n",
       "  </thead>\n",
       "  <tbody>\n",
       "    <tr>\n",
       "      <td>0</td>\n",
       "      <td>2</td>\n",
       "      <td>4</td>\n",
       "      <td>5</td>\n",
       "      <td>1</td>\n",
       "      <td>4</td>\n",
       "      <td>5</td>\n",
       "      <td>4</td>\n",
       "      <td>3</td>\n",
       "      <td>3</td>\n",
       "      <td>2</td>\n",
       "      <td>1</td>\n",
       "      <td>1</td>\n",
       "      <td>4</td>\n",
       "      <td>4</td>\n",
       "      <td>2</td>\n",
       "      <td>1</td>\n",
       "      <td>1</td>\n",
       "      <td>1</td>\n",
       "      <td>1</td>\n",
       "      <td>2</td>\n",
       "      <td>2</td>\n",
       "      <td>1</td>\n",
       "      <td>1.033490</td>\n",
       "      <td>2</td>\n",
       "      <td>0.900357</td>\n",
       "      <td>PT</td>\n",
       "      <td>0.62</td>\n",
       "      <td>0</td>\n",
       "      <td>0</td>\n",
       "      <td>0</td>\n",
       "      <td>0</td>\n",
       "      <td>0</td>\n",
       "      <td>0</td>\n",
       "      <td>0</td>\n",
       "      <td>0</td>\n",
       "      <td>0</td>\n",
       "      <td>0</td>\n",
       "      <td>0</td>\n",
       "      <td>0</td>\n",
       "      <td>0</td>\n",
       "      <td>0</td>\n",
       "      <td>0</td>\n",
       "      <td>0</td>\n",
       "      <td>0</td>\n",
       "      <td>0</td>\n",
       "      <td>0</td>\n",
       "      <td>0</td>\n",
       "      <td>0</td>\n",
       "      <td>0</td>\n",
       "      <td>0.50</td>\n",
       "      <td>0.25</td>\n",
       "      <td>0.30</td>\n",
       "      <td>1</td>\n",
       "    </tr>\n",
       "    <tr>\n",
       "      <td>1</td>\n",
       "      <td>4</td>\n",
       "      <td>2</td>\n",
       "      <td>2</td>\n",
       "      <td>4</td>\n",
       "      <td>3</td>\n",
       "      <td>4</td>\n",
       "      <td>4</td>\n",
       "      <td>5</td>\n",
       "      <td>4</td>\n",
       "      <td>3</td>\n",
       "      <td>4</td>\n",
       "      <td>4</td>\n",
       "      <td>2</td>\n",
       "      <td>4</td>\n",
       "      <td>3</td>\n",
       "      <td>2</td>\n",
       "      <td>2</td>\n",
       "      <td>3</td>\n",
       "      <td>4</td>\n",
       "      <td>4</td>\n",
       "      <td>4</td>\n",
       "      <td>3</td>\n",
       "      <td>0.754712</td>\n",
       "      <td>3</td>\n",
       "      <td>0.713834</td>\n",
       "      <td>PL</td>\n",
       "      <td>0.64</td>\n",
       "      <td>0</td>\n",
       "      <td>0</td>\n",
       "      <td>0</td>\n",
       "      <td>0</td>\n",
       "      <td>0</td>\n",
       "      <td>0</td>\n",
       "      <td>0</td>\n",
       "      <td>0</td>\n",
       "      <td>0</td>\n",
       "      <td>0</td>\n",
       "      <td>0</td>\n",
       "      <td>0</td>\n",
       "      <td>0</td>\n",
       "      <td>0</td>\n",
       "      <td>0</td>\n",
       "      <td>0</td>\n",
       "      <td>0</td>\n",
       "      <td>0</td>\n",
       "      <td>0</td>\n",
       "      <td>0</td>\n",
       "      <td>0</td>\n",
       "      <td>0</td>\n",
       "      <td>0.70</td>\n",
       "      <td>0.50</td>\n",
       "      <td>0.75</td>\n",
       "      <td>1</td>\n",
       "    </tr>\n",
       "    <tr>\n",
       "      <td>2</td>\n",
       "      <td>5</td>\n",
       "      <td>5</td>\n",
       "      <td>5</td>\n",
       "      <td>4</td>\n",
       "      <td>2</td>\n",
       "      <td>5</td>\n",
       "      <td>5</td>\n",
       "      <td>4</td>\n",
       "      <td>4</td>\n",
       "      <td>2</td>\n",
       "      <td>2</td>\n",
       "      <td>2</td>\n",
       "      <td>2</td>\n",
       "      <td>4</td>\n",
       "      <td>4</td>\n",
       "      <td>2</td>\n",
       "      <td>4</td>\n",
       "      <td>3</td>\n",
       "      <td>3</td>\n",
       "      <td>4</td>\n",
       "      <td>4</td>\n",
       "      <td>2</td>\n",
       "      <td>-0.360400</td>\n",
       "      <td>2</td>\n",
       "      <td>-0.218785</td>\n",
       "      <td>AU</td>\n",
       "      <td>0.78</td>\n",
       "      <td>0</td>\n",
       "      <td>0</td>\n",
       "      <td>0</td>\n",
       "      <td>0</td>\n",
       "      <td>0</td>\n",
       "      <td>0</td>\n",
       "      <td>0</td>\n",
       "      <td>0</td>\n",
       "      <td>0</td>\n",
       "      <td>0</td>\n",
       "      <td>0</td>\n",
       "      <td>0</td>\n",
       "      <td>0</td>\n",
       "      <td>0</td>\n",
       "      <td>0</td>\n",
       "      <td>0</td>\n",
       "      <td>0</td>\n",
       "      <td>0</td>\n",
       "      <td>0</td>\n",
       "      <td>0</td>\n",
       "      <td>0</td>\n",
       "      <td>0</td>\n",
       "      <td>0.50</td>\n",
       "      <td>0.65</td>\n",
       "      <td>0.65</td>\n",
       "      <td>0</td>\n",
       "    </tr>\n",
       "    <tr>\n",
       "      <td>3</td>\n",
       "      <td>4</td>\n",
       "      <td>1</td>\n",
       "      <td>2</td>\n",
       "      <td>2</td>\n",
       "      <td>4</td>\n",
       "      <td>5</td>\n",
       "      <td>2</td>\n",
       "      <td>2</td>\n",
       "      <td>5</td>\n",
       "      <td>2</td>\n",
       "      <td>4</td>\n",
       "      <td>2</td>\n",
       "      <td>4</td>\n",
       "      <td>0</td>\n",
       "      <td>5</td>\n",
       "      <td>5</td>\n",
       "      <td>4</td>\n",
       "      <td>1</td>\n",
       "      <td>4</td>\n",
       "      <td>2</td>\n",
       "      <td>3</td>\n",
       "      <td>4</td>\n",
       "      <td>-0.174548</td>\n",
       "      <td>1</td>\n",
       "      <td>0.962532</td>\n",
       "      <td>US</td>\n",
       "      <td>0.54</td>\n",
       "      <td>0</td>\n",
       "      <td>0</td>\n",
       "      <td>0</td>\n",
       "      <td>0</td>\n",
       "      <td>0</td>\n",
       "      <td>0</td>\n",
       "      <td>0</td>\n",
       "      <td>0</td>\n",
       "      <td>0</td>\n",
       "      <td>0</td>\n",
       "      <td>0</td>\n",
       "      <td>0</td>\n",
       "      <td>0</td>\n",
       "      <td>1</td>\n",
       "      <td>0</td>\n",
       "      <td>0</td>\n",
       "      <td>0</td>\n",
       "      <td>0</td>\n",
       "      <td>0</td>\n",
       "      <td>0</td>\n",
       "      <td>0</td>\n",
       "      <td>0</td>\n",
       "      <td>0.50</td>\n",
       "      <td>0.75</td>\n",
       "      <td>0.65</td>\n",
       "      <td>0</td>\n",
       "    </tr>\n",
       "    <tr>\n",
       "      <td>4</td>\n",
       "      <td>5</td>\n",
       "      <td>3</td>\n",
       "      <td>4</td>\n",
       "      <td>5</td>\n",
       "      <td>5</td>\n",
       "      <td>5</td>\n",
       "      <td>4</td>\n",
       "      <td>5</td>\n",
       "      <td>4</td>\n",
       "      <td>3</td>\n",
       "      <td>4</td>\n",
       "      <td>3</td>\n",
       "      <td>4</td>\n",
       "      <td>4</td>\n",
       "      <td>4</td>\n",
       "      <td>2</td>\n",
       "      <td>5</td>\n",
       "      <td>2</td>\n",
       "      <td>4</td>\n",
       "      <td>4</td>\n",
       "      <td>1</td>\n",
       "      <td>5</td>\n",
       "      <td>-0.453326</td>\n",
       "      <td>2</td>\n",
       "      <td>0.402961</td>\n",
       "      <td>US</td>\n",
       "      <td>0.80</td>\n",
       "      <td>0</td>\n",
       "      <td>0</td>\n",
       "      <td>0</td>\n",
       "      <td>0</td>\n",
       "      <td>0</td>\n",
       "      <td>0</td>\n",
       "      <td>0</td>\n",
       "      <td>0</td>\n",
       "      <td>0</td>\n",
       "      <td>0</td>\n",
       "      <td>0</td>\n",
       "      <td>0</td>\n",
       "      <td>0</td>\n",
       "      <td>0</td>\n",
       "      <td>0</td>\n",
       "      <td>0</td>\n",
       "      <td>0</td>\n",
       "      <td>0</td>\n",
       "      <td>0</td>\n",
       "      <td>0</td>\n",
       "      <td>0</td>\n",
       "      <td>0</td>\n",
       "      <td>0.75</td>\n",
       "      <td>0.65</td>\n",
       "      <td>0.70</td>\n",
       "      <td>0</td>\n",
       "    </tr>\n",
       "  </tbody>\n",
       "</table>\n",
       "</div>"
      ],
      "text/plain": [
       "   HSNS1  HSNS2  HSNS3  HSNS4  HSNS5  HSNS6  HSNS7  HSNS8  HSNS9  HSNS10  \\\n",
       "0      2      4      5      1      4      5      4      3      3       2   \n",
       "1      4      2      2      4      3      4      4      5      4       3   \n",
       "2      5      5      5      4      2      5      5      4      4       2   \n",
       "3      4      1      2      2      4      5      2      2      5       2   \n",
       "4      5      3      4      5      5      5      4      5      4       3   \n",
       "\n",
       "   DDP1  DDP2  DDP3  DDP4  DDN1  DDN2  DDN3  DDN4  DDM1  DDM2  DDM3  DDM4  \\\n",
       "0     1     1     4     4     2     1     1     1     1     2     2     1   \n",
       "1     4     4     2     4     3     2     2     3     4     4     4     3   \n",
       "2     2     2     2     4     4     2     4     3     3     4     4     2   \n",
       "3     4     2     4     0     5     5     4     1     4     2     3     4   \n",
       "4     4     3     4     4     4     2     5     2     4     4     1     5   \n",
       "\n",
       "        age  gender  accuracy country  HSNScale  HSNS1_flag  HSNS2_flag  \\\n",
       "0  1.033490       2  0.900357      PT      0.62           0           0   \n",
       "1  0.754712       3  0.713834      PL      0.64           0           0   \n",
       "2 -0.360400       2 -0.218785      AU      0.78           0           0   \n",
       "3 -0.174548       1  0.962532      US      0.54           0           0   \n",
       "4 -0.453326       2  0.402961      US      0.80           0           0   \n",
       "\n",
       "   HSNS3_flag  HSNS4_flag  HSNS5_flag  HSNS6_flag  HSNS7_flag  HSNS8_flag  \\\n",
       "0           0           0           0           0           0           0   \n",
       "1           0           0           0           0           0           0   \n",
       "2           0           0           0           0           0           0   \n",
       "3           0           0           0           0           0           0   \n",
       "4           0           0           0           0           0           0   \n",
       "\n",
       "   HSNS9_flag  HSNS10_flag  DDP1_flag  DDP2_flag  DDP3_flag  DDP4_flag  \\\n",
       "0           0            0          0          0          0          0   \n",
       "1           0            0          0          0          0          0   \n",
       "2           0            0          0          0          0          0   \n",
       "3           0            0          0          0          0          1   \n",
       "4           0            0          0          0          0          0   \n",
       "\n",
       "   DDN1_flag  DDN2_flag  DDN3_flag  DDN4_flag  DDM1_flag  DDM2_flag  \\\n",
       "0          0          0          0          0          0          0   \n",
       "1          0          0          0          0          0          0   \n",
       "2          0          0          0          0          0          0   \n",
       "3          0          0          0          0          0          0   \n",
       "4          0          0          0          0          0          0   \n",
       "\n",
       "   DDM3_flag  DDM4_flag  DDPScale  DDNScale  DDMScale  cap_other  \n",
       "0          0          0      0.50      0.25      0.30          1  \n",
       "1          0          0      0.70      0.50      0.75          1  \n",
       "2          0          0      0.50      0.65      0.65          0  \n",
       "3          0          0      0.50      0.75      0.65          0  \n",
       "4          0          0      0.75      0.65      0.70          0  "
      ]
     },
     "execution_count": 158,
     "metadata": {},
     "output_type": "execute_result"
    }
   ],
   "source": [
    "ds1.head()"
   ]
  },
  {
   "cell_type": "code",
   "execution_count": 160,
   "metadata": {},
   "outputs": [],
   "source": [
    "from sklearn.linear_model import LogisticRegression\n",
    "ds2 = ds1.copy()\n",
    "X = ds2[[\"HSNScale\",\"DDPScale\",\"DDMScale\"]]\n",
    "y = ds2.cap_other"
   ]
  },
  {
   "cell_type": "code",
   "execution_count": 161,
   "metadata": {},
   "outputs": [],
   "source": [
    "msk = np.random.rand(len(ds2)) < 0.975\n",
    "\n",
    "train = ds2[msk]\n",
    "\n",
    "test = ds2[~msk]"
   ]
  },
  {
   "cell_type": "code",
   "execution_count": 162,
   "metadata": {},
   "outputs": [],
   "source": [
    "X_test = test[[\"HSNScale\",\"DDPScale\",\"DDMScale\"]]\n",
    "y_test = test.cap_other"
   ]
  },
  {
   "cell_type": "code",
   "execution_count": 163,
   "metadata": {},
   "outputs": [
    {
     "data": {
      "text/plain": [
       "0    35954\n",
       "1    15426\n",
       "Name: cap_other, dtype: int64"
      ]
     },
     "execution_count": 163,
     "metadata": {},
     "output_type": "execute_result"
    }
   ],
   "source": [
    "train.cap_other.value_counts()"
   ]
  },
  {
   "cell_type": "code",
   "execution_count": 164,
   "metadata": {},
   "outputs": [
    {
     "name": "stdout",
     "output_type": "stream",
     "text": [
      "1    15426\n",
      "0    15388\n",
      "Name: cap_other, dtype: int64\n"
     ]
    }
   ],
   "source": [
    "from sklearn.utils import resample\n",
    "\n",
    "ds_majority=train.loc[ds2.cap_other == 0]\n",
    "ds_minority = train.loc[ds2.cap_other == 1]\n",
    "\n",
    "ds_majority_downsampled = resample(ds_majority, \n",
    "                                 replace=False,     \n",
    "                                 n_samples=15388,    \n",
    "                                 random_state=67) \n",
    "ds_train = pd.concat([ds_majority_downsampled, ds_minority])\n",
    "\n",
    "\n",
    "# Display new class counts\n",
    "print (ds_train.cap_other.value_counts())"
   ]
  },
  {
   "cell_type": "code",
   "execution_count": 165,
   "metadata": {},
   "outputs": [],
   "source": [
    "\n",
    "X_train = ds_train[[\"HSNScale\",\"DDPScale\",\"DDMScale\"]]\n",
    "y_train = ds_train.cap_other"
   ]
  },
  {
   "cell_type": "code",
   "execution_count": 166,
   "metadata": {},
   "outputs": [
    {
     "name": "stderr",
     "output_type": "stream",
     "text": [
      "C:\\Users\\tvpia\\Anaconda3\\lib\\site-packages\\sklearn\\linear_model\\logistic.py:432: FutureWarning: Default solver will be changed to 'lbfgs' in 0.22. Specify a solver to silence this warning.\n",
      "  FutureWarning)\n"
     ]
    },
    {
     "data": {
      "text/plain": [
       "LogisticRegression(C=1.0, class_weight=None, dual=False, fit_intercept=True,\n",
       "                   intercept_scaling=1, l1_ratio=None, max_iter=100,\n",
       "                   multi_class='warn', n_jobs=None, penalty='l2',\n",
       "                   random_state=None, solver='warn', tol=0.0001, verbose=0,\n",
       "                   warm_start=False)"
      ]
     },
     "execution_count": 166,
     "metadata": {},
     "output_type": "execute_result"
    }
   ],
   "source": [
    "model = LogisticRegression()\n",
    "model.fit(X_train, y_train)"
   ]
  },
  {
   "cell_type": "code",
   "execution_count": 167,
   "metadata": {},
   "outputs": [
    {
     "name": "stdout",
     "output_type": "stream",
     "text": [
      "accuracy: 0.5044035228182546 precision: 0.29127725856697817 recall: 0.5327635327635327 F1: 0.3766364551863041\n"
     ]
    }
   ],
   "source": [
    "y_pred = model.predict(X_test)\n",
    "cm = confusion_matrix(y_test,y_pred)\n",
    "ac = accuracy_score(y_test, y_pred)\n",
    "pr = precision_score(y_test, y_pred)\n",
    "rc = recall_score(y_test, y_pred)\n",
    "f1 = f1_score(y_test, y_pred)\n",
    "\n",
    "print('accuracy:', ac, 'precision:', pr, 'recall:', rc, 'F1:', f1)"
   ]
  },
  {
   "cell_type": "code",
   "execution_count": 168,
   "metadata": {},
   "outputs": [
    {
     "data": {
      "text/plain": [
       "array([[443, 455],\n",
       "       [164, 187]], dtype=int64)"
      ]
     },
     "execution_count": 168,
     "metadata": {},
     "output_type": "execute_result"
    }
   ],
   "source": [
    "cm"
   ]
  },
  {
   "cell_type": "markdown",
   "metadata": {},
   "source": [
    "same with SVM"
   ]
  },
  {
   "cell_type": "code",
   "execution_count": 169,
   "metadata": {},
   "outputs": [
    {
     "name": "stderr",
     "output_type": "stream",
     "text": [
      "C:\\Users\\tvpia\\Anaconda3\\lib\\site-packages\\sklearn\\svm\\base.py:193: FutureWarning: The default value of gamma will change from 'auto' to 'scale' in version 0.22 to account better for unscaled features. Set gamma explicitly to 'auto' or 'scale' to avoid this warning.\n",
      "  \"avoid this warning.\", FutureWarning)\n"
     ]
    },
    {
     "data": {
      "text/plain": [
       "SVC(C=1.0, cache_size=200, class_weight=None, coef0=0.0,\n",
       "    decision_function_shape='ovr', degree=3, gamma='auto_deprecated',\n",
       "    kernel='rbf', max_iter=-1, probability=False, random_state=None,\n",
       "    shrinking=True, tol=0.001, verbose=False)"
      ]
     },
     "execution_count": 169,
     "metadata": {},
     "output_type": "execute_result"
    }
   ],
   "source": [
    "from sklearn.svm import SVC\n",
    "svm = SVC()\n",
    "svm.fit(X_train, y_train)"
   ]
  },
  {
   "cell_type": "code",
   "execution_count": 170,
   "metadata": {},
   "outputs": [],
   "source": [
    "y_pred = svm.predict(X_test)\n",
    "cm = confusion_matrix(y_test,y_pred)\n",
    "ac = accuracy_score(y_test, y_pred)\n",
    "pr = precision_score(y_test, y_pred)\n",
    "rc = recall_score(y_test, y_pred)\n",
    "f1 = f1_score(y_test, y_pred)"
   ]
  },
  {
   "cell_type": "code",
   "execution_count": 171,
   "metadata": {},
   "outputs": [
    {
     "name": "stdout",
     "output_type": "stream",
     "text": [
      "accuracy: 0.48278622898318657 precision: 0.2852983988355167 recall: 0.5584045584045584 F1: 0.3776493256262042\n"
     ]
    }
   ],
   "source": [
    "print('accuracy:', ac, 'precision:', pr, 'recall:', rc, 'F1:', f1)"
   ]
  },
  {
   "cell_type": "code",
   "execution_count": 172,
   "metadata": {},
   "outputs": [
    {
     "data": {
      "text/plain": [
       "array([[407, 491],\n",
       "       [155, 196]], dtype=int64)"
      ]
     },
     "execution_count": 172,
     "metadata": {},
     "output_type": "execute_result"
    }
   ],
   "source": [
    "cm"
   ]
  },
  {
   "cell_type": "markdown",
   "metadata": {},
   "source": [
    "## RandomForestClassifier after resampling was the best performing model, taking into account not only accuracy but also precision and recall score. Let's proceed to unsupervised learning in another notebook"
   ]
  },
  {
   "cell_type": "code",
   "execution_count": null,
   "metadata": {},
   "outputs": [],
   "source": []
  }
 ],
 "metadata": {
  "kernelspec": {
   "display_name": "Python 3",
   "language": "python",
   "name": "python3"
  },
  "language_info": {
   "codemirror_mode": {
    "name": "ipython",
    "version": 3
   },
   "file_extension": ".py",
   "mimetype": "text/x-python",
   "name": "python",
   "nbconvert_exporter": "python",
   "pygments_lexer": "ipython3",
   "version": "3.7.4"
  }
 },
 "nbformat": 4,
 "nbformat_minor": 2
}
